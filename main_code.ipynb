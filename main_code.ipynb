{
  "nbformat": 4,
  "nbformat_minor": 5,
  "metadata": {
    "kernelspec": {
      "display_name": "Python 3 (ipykernel)",
      "language": "python",
      "name": "python3"
    },
    "language_info": {
      "codemirror_mode": {
        "name": "ipython",
        "version": 3
      },
      "file_extension": ".py",
      "mimetype": "text/x-python",
      "name": "python",
      "nbconvert_exporter": "python",
      "pygments_lexer": "ipython3",
      "version": "3.7.4"
    },
    "colab": {
      "name": "main_code.ipynb",
      "provenance": []
    }
  },
  "cells": [
    {
      "cell_type": "markdown",
      "metadata": {
        "id": "2202e26e"
      },
      "source": [
        "# Group 5 - Predicting a Country's S&P rating"
      ],
      "id": "2202e26e"
    },
    {
      "cell_type": "markdown",
      "metadata": {
        "id": "d1bfe514"
      },
      "source": [
        "# Table of Content \n",
        "1. Discription\n",
        "2. Data Understanding \n",
        "3. Problem faced and solution approch\n",
        "4. Web Scraping\n",
        "5. Data Preprocessing \n",
        "6. Model Building\n",
        "    - Prob\n",
        "    - Time series AR model\n",
        "7. Result \n",
        "8. Interpretation section\n",
        "9. Refrences"
      ],
      "id": "d1bfe514"
    },
    {
      "cell_type": "markdown",
      "metadata": {
        "id": "e6bb871a"
      },
      "source": [
        "## 1. Discription"
      ],
      "id": "e6bb871a"
    },
    {
      "cell_type": "markdown",
      "metadata": {
        "id": "1f25b86a"
      },
      "source": [
        "### What is S&P Rating \n",
        "- S&P Global Ratings is an American credit rating agency and a division of S&P Global that publishes financial research and analysis on stocks, bonds, and commodities. S&P is considered the largest of the Big Three credit-rating agencies, which also include Moody's Investors Service and Fitch Ratings\n",
        "\n"
      ],
      "id": "1f25b86a"
    },
    {
      "cell_type": "markdown",
      "metadata": {
        "id": "5fbb2f0b"
      },
      "source": [
        "## 2. Data Understanding"
      ],
      "id": "5fbb2f0b"
    },
    {
      "cell_type": "markdown",
      "metadata": {
        "id": "6a33426c"
      },
      "source": [
        "#### Attribute 1 - Rating \n",
        "\n",
        "| Rating | Type | - |\n",
        "| --- | --- | --- |\n",
        "| AAA| Investment | Extremely strong    |\n",
        "| AA+, AA, AA-  | Investment | Very Strong  |\n",
        "| BBB+, BBB, BBB-  | Investment | Strong  |\n",
        "| BB+, BB, BB-  | Speculative | Adequate  |\n",
        "| B+, B, B-  | Speculative | Faces major future uncertainties  |\n",
        "| CCC | Speculative | Currently vulnerable  |\n",
        "| CC | Speculative | Currently highly vulnerable   |\n",
        "| C | Speculative | Has filed bankruptcy petition   |\n",
        "| D | Speculative | In defaulf  |\n",
        "\n",
        "\n",
        "\n",
        "\n",
        "\n",
        "| Rating | Numeric Rating | Type |\n",
        "| ---- | ---- | ---- |\n",
        "| AAA | 22 | Top Notch for investement  |\n",
        "| AA+ | 21 | Invest UNDER OBSERVATION  |\n",
        "| AA | 20 | Invest UNDER OBSERVATION  |\n",
        "| AA- | 19 | Invest UNDER OBSERVATION  |\n",
        "| A+ | 18 | Invest UNDER OBSERVATION  |\n",
        "| A | 17 | Invest UNDER OBSERVATION  |\n",
        "| A- | 16 | Invest UNDER OBSERVATION  |\n",
        "| BBB+ | 15 | Invest UNDER OBSERVATION  |\n",
        "| BBB | 14 | Invest UNDER OBSERVATION  |\n",
        "| BBB- | 13 | Invest UNDER OBSERVATION  |\n",
        "| BB+ | 12 | Bad for investment  |\n",
        "| BB | 11 | Bad for investment  |\n",
        "| BB- | 10 | Bad for investment  |\n",
        "| B+ | 9 | Bad for investment  |\n",
        "| B | 8 | Bad for investment  |\n",
        "| B- | 7 | Bad for investment  |\n",
        "| CCC+ | 6 | Bad for investment  |\n",
        "| CCC | 5 | Bad for investment  |\n",
        "| CCC- | 4 | Bad for investment  |\n",
        "| CC | 3 | Bad for investment  |\n",
        "| C | 2 | Bad for investment |\n",
        "| D | 1 | Bad for investment  |\n",
        "\n",
        "\n",
        "#### Attribute 2 - Outlook\n",
        "\n",
        "| Outlook type | Interpretation | \n",
        "| ----- | ----- |\n",
        "| Positive | rating may be raised next month  | \n",
        "| Negative | rating may be lowered next month | \n",
        "| Stable | rating is not likely to change  | \n",
        "\n",
        "\n",
        "#### Attribute 3 - Date\n",
        "- This attribute specify the date at which rating is catlulated\n",
        "\n",
        "\n",
        "\n",
        "#### Example \n",
        "\n",
        "-  For any country with rating BBB in 2009 means, that particular country will repay the debt has a chance of 0.55% \n",
        "\n",
        "| Year |   AAA  |    AA  |    A |     BBB |     BB |     B  |    CCC/C |\n",
        "| --- | --- | --- | --- | --- | --- | --- | --- | \n",
        "|2009  |    0.00  |  0.00  |  0.22  |  0.55  |  0.75  |  11.01  |  49.46 |\n",
        "|2010  |   0.00   | 0.00  |  0.00  |  0.00  |  0.58  |  0.87   | 22.73 |\n",
        "|2011  |  0.00   | 0.00  |  0.00  |  0.07  |  0.00  |  1.68   | 16.42 |\n",
        "|2012  |  0.00   | 0.00  |  0.00  |  0.00  |  0.30  |  1.58   | 27.52 |\n",
        "|2013  |  0.00   | 0.00  |  0.00  |  0.00  |  0.10  |  1.65   | 24.67 |\n",
        "|2014  |  0.00   | 0.00  |  0.00  |  0.00  |  0.00  |  0.78   | 17.51 |\n",
        "|2015  |  0.00   | 0.00  |  0.00  |  0.00  |  0.16  |  2.41   | 26.67 |\n",
        "|2016  |  0.00   | 0.00  |  0.00  |  0.06  |  0.47  |  3.75   | 33.33 |\n",
        "\n",
        "\n"
      ],
      "id": "6a33426c"
    },
    {
      "cell_type": "markdown",
      "metadata": {
        "id": "bb36e5bd"
      },
      "source": [
        "## 3. Problem faced and solution approch"
      ],
      "id": "bb36e5bd"
    },
    {
      "cell_type": "markdown",
      "metadata": {
        "id": "7cf49422"
      },
      "source": [
        " - Very less number of data were available for applying any kind of machine learning model. So we used web scraping techinque to get more data from offical website of S&P Global rating \n",
        " \n",
        " Example - India \n",
        " \n",
        " https://tradingeconomics.com/india/rating"
      ],
      "id": "7cf49422"
    },
    {
      "cell_type": "markdown",
      "metadata": {
        "id": "65f50559"
      },
      "source": [
        "## 4. Web Scraping "
      ],
      "id": "65f50559"
    },
    {
      "cell_type": "code",
      "metadata": {
        "id": "18199da1",
        "outputId": "2c63a550-fa44-4846-e2ce-7421b7fbbd9c"
      },
      "source": [
        "# Refrence\n",
        "# https://towardsdatascience.com/scraping-table-data-from-websites-using-a-single-line-in-python-ba898d54e2bc\n",
        "\n",
        "import pandas as pd\n",
        "import numpy as np\n",
        "import time \n",
        "start = time.time()\n",
        "\n",
        "dflink = pd.read_excel('link.xlsx')\n",
        "\n",
        "a = \"XX\"\n",
        "addrow1 = {\n",
        "    'Agency' : [a],\n",
        "    'Rating' : ['a'],\n",
        "    'Outlook': ['b'],\n",
        "    'Date' : ['c'],\n",
        "    'Country' : ['d'],\n",
        "    'ISOcode' : ['e']\n",
        "    \n",
        "}\n",
        "\n",
        "df1 = pd.DataFrame(addrow1)\n",
        "\n",
        "i = 0\n",
        "while i <2: \n",
        "    URL = dflink.Link[i]\n",
        "    pd.read_html(URL)\n",
        "\n",
        "    tables = pd.read_html(URL)\n",
        "    #print(tables[0])\n",
        "    print(URL)\n",
        "    #print(len(tables))\n",
        "    dftemp = tables[0]\n",
        "    #print(dftemp)\n",
        "    \n",
        "    array1 = np.repeat(dflink.Country[i], len(tables[0]))\n",
        "    dftemp1 = dftemp.assign(Country = array1)\n",
        "    #print(dftemp1)\n",
        "     \n",
        "    array2 = np.repeat(dflink.ISOcode[i], len(tables[0]))\n",
        "    dftemp2 = dftemp1.assign(ISOcode = array2)\n",
        "    #print(dftemp2)\n",
        "    \n",
        "    #print(dftemp1)\n",
        "\n",
        "    df1 = df1.append(dftemp2)\n",
        "\n",
        "    print(len(tables[0]), i)\n",
        "    i = i +1\n",
        "\n",
        "\n",
        "df1.drop(1)\n",
        "df1.to_excel(\"fresh_data_after_web_scraping.xlsx\")\n",
        "end = time.time()\n",
        "print(start)\n",
        "print(end)\n",
        "print(end-start)\n",
        "df1"
      ],
      "id": "18199da1",
      "execution_count": null,
      "outputs": [
        {
          "name": "stdout",
          "output_type": "stream",
          "text": [
            "https://tradingeconomics.com/albania/rating\n",
            "6 0\n",
            "https://tradingeconomics.com/andorra/rating\n",
            "18 1\n",
            "1627464791.767248\n",
            "1627464807.5778704\n",
            "15.810622453689575\n"
          ]
        },
        {
          "data": {
            "text/html": [
              "<div>\n",
              "<style scoped>\n",
              "    .dataframe tbody tr th:only-of-type {\n",
              "        vertical-align: middle;\n",
              "    }\n",
              "\n",
              "    .dataframe tbody tr th {\n",
              "        vertical-align: top;\n",
              "    }\n",
              "\n",
              "    .dataframe thead th {\n",
              "        text-align: right;\n",
              "    }\n",
              "</style>\n",
              "<table border=\"1\" class=\"dataframe\">\n",
              "  <thead>\n",
              "    <tr style=\"text-align: right;\">\n",
              "      <th></th>\n",
              "      <th>Agency</th>\n",
              "      <th>Rating</th>\n",
              "      <th>Outlook</th>\n",
              "      <th>Date</th>\n",
              "      <th>Country</th>\n",
              "      <th>ISOcode</th>\n",
              "    </tr>\n",
              "  </thead>\n",
              "  <tbody>\n",
              "    <tr>\n",
              "      <th>0</th>\n",
              "      <td>XX</td>\n",
              "      <td>a</td>\n",
              "      <td>b</td>\n",
              "      <td>c</td>\n",
              "      <td>d</td>\n",
              "      <td>e</td>\n",
              "    </tr>\n",
              "    <tr>\n",
              "      <th>0</th>\n",
              "      <td>S&amp;P</td>\n",
              "      <td>B+</td>\n",
              "      <td>Stable</td>\n",
              "      <td>Feb 05 2016</td>\n",
              "      <td>Albania</td>\n",
              "      <td>ALB</td>\n",
              "    </tr>\n",
              "    <tr>\n",
              "      <th>1</th>\n",
              "      <td>S&amp;P</td>\n",
              "      <td>B</td>\n",
              "      <td>Positive</td>\n",
              "      <td>Oct 10 2014</td>\n",
              "      <td>Albania</td>\n",
              "      <td>ALB</td>\n",
              "    </tr>\n",
              "    <tr>\n",
              "      <th>2</th>\n",
              "      <td>S&amp;P</td>\n",
              "      <td>B</td>\n",
              "      <td>Stable</td>\n",
              "      <td>Apr 11 2014</td>\n",
              "      <td>Albania</td>\n",
              "      <td>ALB</td>\n",
              "    </tr>\n",
              "    <tr>\n",
              "      <th>3</th>\n",
              "      <td>S&amp;P</td>\n",
              "      <td>B</td>\n",
              "      <td>Negative</td>\n",
              "      <td>Dec 06 2013</td>\n",
              "      <td>Albania</td>\n",
              "      <td>ALB</td>\n",
              "    </tr>\n",
              "    <tr>\n",
              "      <th>4</th>\n",
              "      <td>S&amp;P</td>\n",
              "      <td>B+</td>\n",
              "      <td>Stable</td>\n",
              "      <td>Apr 19 2010</td>\n",
              "      <td>Albania</td>\n",
              "      <td>ALB</td>\n",
              "    </tr>\n",
              "    <tr>\n",
              "      <th>5</th>\n",
              "      <td>Moody's</td>\n",
              "      <td>B1</td>\n",
              "      <td>Stable</td>\n",
              "      <td>Jun 29 2007</td>\n",
              "      <td>Albania</td>\n",
              "      <td>ALB</td>\n",
              "    </tr>\n",
              "    <tr>\n",
              "      <th>0</th>\n",
              "      <td>S&amp;P</td>\n",
              "      <td>BBB</td>\n",
              "      <td>Stable</td>\n",
              "      <td>Apr 24 2020</td>\n",
              "      <td>Andorra</td>\n",
              "      <td>AND</td>\n",
              "    </tr>\n",
              "    <tr>\n",
              "      <th>1</th>\n",
              "      <td>S&amp;P</td>\n",
              "      <td>BBB</td>\n",
              "      <td>Positive</td>\n",
              "      <td>Jul 19 2019</td>\n",
              "      <td>Andorra</td>\n",
              "      <td>AND</td>\n",
              "    </tr>\n",
              "    <tr>\n",
              "      <th>2</th>\n",
              "      <td>Fitch</td>\n",
              "      <td>BBB+</td>\n",
              "      <td>Stable</td>\n",
              "      <td>Aug 10 2018</td>\n",
              "      <td>Andorra</td>\n",
              "      <td>AND</td>\n",
              "    </tr>\n",
              "    <tr>\n",
              "      <th>3</th>\n",
              "      <td>S&amp;P</td>\n",
              "      <td>BBB</td>\n",
              "      <td>Stable</td>\n",
              "      <td>Jul 28 2017</td>\n",
              "      <td>Andorra</td>\n",
              "      <td>AND</td>\n",
              "    </tr>\n",
              "    <tr>\n",
              "      <th>4</th>\n",
              "      <td>Fitch</td>\n",
              "      <td>BBB</td>\n",
              "      <td>Positive</td>\n",
              "      <td>Feb 24 2017</td>\n",
              "      <td>Andorra</td>\n",
              "      <td>AND</td>\n",
              "    </tr>\n",
              "    <tr>\n",
              "      <th>5</th>\n",
              "      <td>S&amp;P</td>\n",
              "      <td>BBB-</td>\n",
              "      <td>Stable</td>\n",
              "      <td>Jul 29 2016</td>\n",
              "      <td>Andorra</td>\n",
              "      <td>AND</td>\n",
              "    </tr>\n",
              "    <tr>\n",
              "      <th>6</th>\n",
              "      <td>Fitch</td>\n",
              "      <td>BBB</td>\n",
              "      <td>Stable</td>\n",
              "      <td>Sep 11 2015</td>\n",
              "      <td>Andorra</td>\n",
              "      <td>AND</td>\n",
              "    </tr>\n",
              "    <tr>\n",
              "      <th>7</th>\n",
              "      <td>S&amp;P</td>\n",
              "      <td>BBB-</td>\n",
              "      <td>Negative</td>\n",
              "      <td>Jun 24 2015</td>\n",
              "      <td>Andorra</td>\n",
              "      <td>AND</td>\n",
              "    </tr>\n",
              "    <tr>\n",
              "      <th>8</th>\n",
              "      <td>S&amp;P</td>\n",
              "      <td>BBB-</td>\n",
              "      <td>Negative Watch</td>\n",
              "      <td>Mar 27 2015</td>\n",
              "      <td>Andorra</td>\n",
              "      <td>AND</td>\n",
              "    </tr>\n",
              "    <tr>\n",
              "      <th>9</th>\n",
              "      <td>S&amp;P</td>\n",
              "      <td>BBB</td>\n",
              "      <td>Negative Watch</td>\n",
              "      <td>Mar 12 2015</td>\n",
              "      <td>Andorra</td>\n",
              "      <td>AND</td>\n",
              "    </tr>\n",
              "    <tr>\n",
              "      <th>10</th>\n",
              "      <td>S&amp;P</td>\n",
              "      <td>BBB+</td>\n",
              "      <td>Stable</td>\n",
              "      <td>Oct 03 2014</td>\n",
              "      <td>Andorra</td>\n",
              "      <td>AND</td>\n",
              "    </tr>\n",
              "    <tr>\n",
              "      <th>11</th>\n",
              "      <td>S&amp;P</td>\n",
              "      <td>A-</td>\n",
              "      <td>Negative</td>\n",
              "      <td>Dec 03 2012</td>\n",
              "      <td>Andorra</td>\n",
              "      <td>AND</td>\n",
              "    </tr>\n",
              "    <tr>\n",
              "      <th>12</th>\n",
              "      <td>S&amp;P</td>\n",
              "      <td>A</td>\n",
              "      <td>Negative</td>\n",
              "      <td>Jun 14 2010</td>\n",
              "      <td>Andorra</td>\n",
              "      <td>AND</td>\n",
              "    </tr>\n",
              "    <tr>\n",
              "      <th>13</th>\n",
              "      <td>S&amp;P</td>\n",
              "      <td>A+</td>\n",
              "      <td>Stable</td>\n",
              "      <td>May 26 2009</td>\n",
              "      <td>Andorra</td>\n",
              "      <td>AND</td>\n",
              "    </tr>\n",
              "    <tr>\n",
              "      <th>14</th>\n",
              "      <td>S&amp;P</td>\n",
              "      <td>AA-</td>\n",
              "      <td>Negative</td>\n",
              "      <td>Aug 12 2008</td>\n",
              "      <td>Andorra</td>\n",
              "      <td>AND</td>\n",
              "    </tr>\n",
              "    <tr>\n",
              "      <th>15</th>\n",
              "      <td>S&amp;P</td>\n",
              "      <td>AA</td>\n",
              "      <td>Negative</td>\n",
              "      <td>Aug 16 2007</td>\n",
              "      <td>Andorra</td>\n",
              "      <td>AND</td>\n",
              "    </tr>\n",
              "    <tr>\n",
              "      <th>16</th>\n",
              "      <td>S&amp;P</td>\n",
              "      <td>AA</td>\n",
              "      <td>Stable</td>\n",
              "      <td>Aug 11 2004</td>\n",
              "      <td>Andorra</td>\n",
              "      <td>AND</td>\n",
              "    </tr>\n",
              "    <tr>\n",
              "      <th>17</th>\n",
              "      <td>S&amp;P</td>\n",
              "      <td>AA-</td>\n",
              "      <td>Stable</td>\n",
              "      <td>May 06 2003</td>\n",
              "      <td>Andorra</td>\n",
              "      <td>AND</td>\n",
              "    </tr>\n",
              "  </tbody>\n",
              "</table>\n",
              "</div>"
            ],
            "text/plain": [
              "     Agency Rating         Outlook         Date  Country ISOcode\n",
              "0        XX      a               b            c        d       e\n",
              "0       S&P     B+          Stable  Feb 05 2016  Albania     ALB\n",
              "1       S&P      B        Positive  Oct 10 2014  Albania     ALB\n",
              "2       S&P      B          Stable  Apr 11 2014  Albania     ALB\n",
              "3       S&P      B        Negative  Dec 06 2013  Albania     ALB\n",
              "4       S&P     B+          Stable  Apr 19 2010  Albania     ALB\n",
              "5   Moody's     B1          Stable  Jun 29 2007  Albania     ALB\n",
              "0       S&P    BBB          Stable  Apr 24 2020  Andorra     AND\n",
              "1       S&P    BBB        Positive  Jul 19 2019  Andorra     AND\n",
              "2     Fitch   BBB+          Stable  Aug 10 2018  Andorra     AND\n",
              "3       S&P    BBB          Stable  Jul 28 2017  Andorra     AND\n",
              "4     Fitch    BBB        Positive  Feb 24 2017  Andorra     AND\n",
              "5       S&P   BBB-          Stable  Jul 29 2016  Andorra     AND\n",
              "6     Fitch    BBB          Stable  Sep 11 2015  Andorra     AND\n",
              "7       S&P   BBB-        Negative  Jun 24 2015  Andorra     AND\n",
              "8       S&P   BBB-  Negative Watch  Mar 27 2015  Andorra     AND\n",
              "9       S&P    BBB  Negative Watch  Mar 12 2015  Andorra     AND\n",
              "10      S&P   BBB+          Stable  Oct 03 2014  Andorra     AND\n",
              "11      S&P     A-        Negative  Dec 03 2012  Andorra     AND\n",
              "12      S&P      A        Negative  Jun 14 2010  Andorra     AND\n",
              "13      S&P     A+          Stable  May 26 2009  Andorra     AND\n",
              "14      S&P    AA-        Negative  Aug 12 2008  Andorra     AND\n",
              "15      S&P     AA        Negative  Aug 16 2007  Andorra     AND\n",
              "16      S&P     AA          Stable  Aug 11 2004  Andorra     AND\n",
              "17      S&P    AA-          Stable  May 06 2003  Andorra     AND"
            ]
          },
          "execution_count": 20,
          "metadata": {},
          "output_type": "execute_result"
        }
      ]
    },
    {
      "cell_type": "markdown",
      "metadata": {
        "id": "bd24e115"
      },
      "source": [
        "## 5. Data Preprocessing"
      ],
      "id": "bd24e115"
    },
    {
      "cell_type": "code",
      "metadata": {
        "id": "dd5639bf"
      },
      "source": [
        ""
      ],
      "id": "dd5639bf",
      "execution_count": null,
      "outputs": []
    },
    {
      "cell_type": "markdown",
      "metadata": {
        "id": "81fb3f7d"
      },
      "source": [
        "## 6. Data Visualization"
      ],
      "id": "81fb3f7d"
    },
    {
      "cell_type": "markdown",
      "metadata": {
        "id": "d94f9e6e"
      },
      "source": [
        "### a. Geographical Heat Plot"
      ],
      "id": "d94f9e6e"
    },
    {
      "cell_type": "code",
      "metadata": {
        "scrolled": true,
        "id": "2c6e2bfd",
        "outputId": "a440f641-1df6-4ebf-e7e0-033a226ea42f"
      },
      "source": [
        "import plotly.express as px\n",
        "import plotly.express as p\n",
        "import pandas as pd\n",
        "\n",
        "df1 = pd.read_excel(\"geo_heat_plot.xlsx\")\n",
        "# df1 = pd.read_excel(\"geo_heat_plot.xlsx\", sheet_name = \"my_sheet\")\n",
        "\n",
        "df1.head()\n",
        "\n",
        "i = 1\n",
        "while i<2: #increase i for number of graphs required\n",
        "    if i == 1:\n",
        "        fig = px.choropleth(df1, locations=\"ISOcode\", color=\"S&P rating on 04/2010\", hover_name=\"country\", color_continuous_scale=px.colors.sequential.Plasma)\n",
        "    if i == 2:\n",
        "        fig = px.choropleth(df1, locations=\"ISOcode\", color=\"S&P rating on 09/2011\", hover_name=\"country\", color_continuous_scale=px.colors.sequential.Plasma)\n",
        "    if i == 3:\n",
        "        fig = px.choropleth(df1, locations=\"ISOcode\", color=\"S&P rating on 12/2011\", hover_name=\"country\", color_continuous_scale=px.colors.sequential.Plasma)\n",
        "    if i == 4:\n",
        "        fig = px.choropleth(df1, locations=\"ISOcode\", color=\"S&P rating on 01/2012\", hover_name=\"country\", color_continuous_scale=px.colors.sequential.Plasma)\n",
        "    if i == 5:\n",
        "        fig = px.choropleth(df1, locations=\"ISOcode\", color=\"S&P rating on 02/2012\", hover_name=\"country\", color_continuous_scale=px.colors.sequential.Plasma)\n",
        "    if i == 6:\n",
        "        fig = px.choropleth(df1, locations=\"ISOcode\", color=\"S&P rating on 03/2012\", hover_name=\"country\", color_continuous_scale=px.colors.sequential.Plasma)\n",
        "    if i == 7:\n",
        "        fig = px.choropleth(df1, locations=\"ISOcode\", color=\"S&P rating on 06/2012\", hover_name=\"country\", color_continuous_scale=px.colors.sequential.Plasma)\n",
        "    if i == 8:\n",
        "        fig = px.choropleth(df1, locations=\"ISOcode\", color=\"S&P rating on 07/2012\", hover_name=\"country\", color_continuous_scale=px.colors.sequential.Plasma)\n",
        "    if i == 9:\n",
        "        fig = px.choropleth(df1, locations=\"ISOcode\", color=\"S&P rating on 10/2012\", hover_name=\"country\", color_continuous_scale=px.colors.sequential.Plasma)\n",
        "    if i == 10:\n",
        "        fig = px.choropleth(df1, locations=\"ISOcode\", color=\"S&P rating on 01/2013\", hover_name=\"country\", color_continuous_scale=px.colors.sequential.Plasma)\n",
        "    if i == 11:\n",
        "        fig = px.choropleth(df1, locations=\"ISOcode\", color=\"S&P rating on 03/2013\", hover_name=\"country\", color_continuous_scale=px.colors.sequential.Plasma)\n",
        " \n",
        "    i = i+1\n",
        "    fig.show()"
      ],
      "id": "2c6e2bfd",
      "execution_count": null,
      "outputs": [
        {
          "data": {
            "application/vnd.plotly.v1+json": {
              "config": {
                "plotlyServerURL": "https://plot.ly"
              },
              "data": [
                {
                  "coloraxis": "coloraxis",
                  "geo": "geo",
                  "hovertemplate": "<b>%{hovertext}</b><br><br>ISOcode=%{location}<br>S&P rating on 04/2010=%{z}<extra></extra>",
                  "hovertext": [
                    "Albania",
                    "Andorra",
                    "Angola",
                    "Argentina",
                    "Aruba",
                    "Australia",
                    "Austria",
                    "Azerbaijan",
                    "Bahamas",
                    "Bahrain",
                    "Bangladesh",
                    "Barbados",
                    "Belarus",
                    "Belgium",
                    "Belize",
                    "Benin",
                    "Bermuda",
                    "Bolivia",
                    "Bosnia and Herzegovina",
                    "Botswana",
                    "Brazil",
                    "Bulgaria",
                    "Burkina Faso",
                    "Cambodia",
                    "Cameroon",
                    "Canada",
                    "Cape Verde",
                    "Chile",
                    "China",
                    "Colombia",
                    "Cook Islands",
                    "Costa Rica",
                    "Croatia",
                    "Curacao",
                    "Cyprus",
                    "Czech Republic",
                    "Denmark",
                    "Dominican Republic",
                    "Ecuador",
                    "Egypt",
                    "El Salvador",
                    "Estonia",
                    "Fiji",
                    "Finland",
                    "France",
                    "Gabon",
                    "Georgia",
                    "Germany",
                    "Ghana",
                    "Greece",
                    "Grenada",
                    "Guatemala",
                    "Guernsey",
                    "Honduras",
                    "Hong Kong",
                    "Hungary",
                    "Iceland",
                    "India",
                    "Indonesia",
                    "Ireland",
                    "Isle of Man",
                    "Israel",
                    "Italy",
                    "Jamaica",
                    "Japan",
                    "Jordan",
                    "Kazakhstan",
                    "Kenya",
                    "Korea",
                    "Kuwait",
                    "Latvia",
                    "Lebanon",
                    "Liechtenstein",
                    "Lithuania",
                    "Luxembourg",
                    "Macedonia",
                    "Malaysia",
                    "Malta",
                    "Mexico",
                    "Mongolia",
                    "Montenegro",
                    "Morocco",
                    "Mozambique",
                    "Netherlands",
                    "New Zealand",
                    "Nigeria",
                    "Norway",
                    "Oman",
                    "Pakistan",
                    "Panama",
                    "Papua New Guinea",
                    "Paraguay",
                    "Peru",
                    "Philippines",
                    "Poland",
                    "Portugal",
                    "Qatar",
                    "Romania",
                    "Russia",
                    "Rwanda",
                    "Saudi Arabia",
                    "Senegal",
                    "Serbia",
                    "Singapore",
                    "Slovakia",
                    "Slovenia",
                    "South Africa",
                    "Spain",
                    "Sri Lanka",
                    "Suriname",
                    "Sweden",
                    "Switzerland",
                    "Taiwan",
                    "Thailand",
                    "Trinidad & Tobago",
                    "Tunisia",
                    "Turkey",
                    "Uganda",
                    "Ukraine",
                    "United Arab Emirates (Abu Dhabi)",
                    "United Arab Emirates (Emirate of Ras Al Khaimah)",
                    "United Kingdom",
                    "United States",
                    "Uruguay",
                    "Venezuela",
                    "Vietnam",
                    "Zambia"
                  ],
                  "locations": [
                    "ALB",
                    "AND",
                    "AGO",
                    "ARG",
                    "ABW",
                    "AUS",
                    "AUT",
                    "AZE",
                    "BHS",
                    "BHR",
                    "BGD",
                    "BRB",
                    "BLR",
                    "BEL",
                    "BLZ",
                    "BEN",
                    "BMU",
                    "BOL",
                    "BIH",
                    "BWA",
                    "BRA",
                    "BGR",
                    "BFA",
                    "KHM",
                    "CMR",
                    "CAN",
                    "CPV",
                    "CHL",
                    "CHN",
                    "COL",
                    "COK",
                    "CRI",
                    "HRV",
                    "CUW",
                    "CYP",
                    "CZE",
                    "DNK",
                    "DOM",
                    "ECU",
                    "EGY",
                    "SLV",
                    "EST",
                    "FJI",
                    "FIN",
                    "FRA",
                    "GAB",
                    "GEO",
                    "DEU",
                    "GHA",
                    "GRC",
                    "GRD",
                    "GTM",
                    "GG",
                    "HND",
                    "HKG",
                    "HUN",
                    "ISL",
                    "IND",
                    "IDN",
                    "IRL",
                    "IMN",
                    "ISR",
                    "ITA",
                    "JAM",
                    "JPN",
                    "JOR",
                    "KZA",
                    "KEN",
                    "KOR",
                    "KWT",
                    "LVA",
                    "LSO",
                    "LIE",
                    "LTU",
                    "LUX",
                    "MK",
                    "MYS",
                    "MLT",
                    "MEX",
                    "MNG",
                    "MNE",
                    "MAR",
                    "MOZ",
                    "NLD",
                    "NZL",
                    "NGA",
                    "NOR",
                    "OMN",
                    "PAK",
                    "PAN",
                    "PNG",
                    "PRY",
                    "PER",
                    "PHI",
                    "POL",
                    "PRT",
                    "QAT",
                    "ROU",
                    "RUS",
                    "RWA",
                    "SAU",
                    "SEN",
                    "SRB",
                    "SGP",
                    "SVK",
                    "SVN",
                    "ZAF",
                    "ESP",
                    "LKA",
                    "SUR",
                    "SWE",
                    "CHE",
                    "TWN",
                    "THA",
                    "TTO",
                    "TUN",
                    "TUR",
                    "UGA",
                    "UKR",
                    "AE-AZ",
                    "AE-RK",
                    "GBR",
                    "USA",
                    "URY",
                    "VEN",
                    "VNM",
                    "ZMB"
                  ],
                  "name": "",
                  "type": "choropleth",
                  "z": [
                    9,
                    17,
                    10,
                    8,
                    16,
                    22,
                    22,
                    12,
                    15,
                    16,
                    10,
                    13,
                    9,
                    21,
                    8,
                    8,
                    20,
                    8,
                    9,
                    16,
                    13,
                    14,
                    8,
                    9,
                    8,
                    22,
                    9,
                    18,
                    19,
                    12,
                    10,
                    11,
                    13,
                    16,
                    17,
                    17,
                    22,
                    8,
                    7,
                    11,
                    10,
                    17,
                    7,
                    22,
                    22,
                    10,
                    8,
                    22,
                    9,
                    12,
                    7,
                    11,
                    22,
                    8,
                    22,
                    13,
                    13,
                    13,
                    11,
                    15,
                    22,
                    17,
                    18,
                    7,
                    19,
                    11,
                    14,
                    9,
                    17,
                    19,
                    12,
                    8,
                    22,
                    14,
                    22,
                    11,
                    16,
                    17,
                    14,
                    10,
                    11,
                    13,
                    9,
                    22,
                    21,
                    9,
                    22,
                    17,
                    7,
                    13,
                    9,
                    9,
                    13,
                    11,
                    16,
                    16,
                    20,
                    12,
                    14,
                    8,
                    19,
                    9,
                    10,
                    22,
                    18,
                    20,
                    15,
                    20,
                    9,
                    9,
                    22,
                    22,
                    19,
                    16,
                    17,
                    14,
                    11,
                    9,
                    9,
                    20,
                    17,
                    22,
                    22,
                    10,
                    10,
                    10,
                    9
                  ]
                }
              ],
              "layout": {
                "coloraxis": {
                  "colorbar": {
                    "title": {
                      "text": "S&P rating on 04/2010"
                    }
                  },
                  "colorscale": [
                    [
                      0,
                      "#0d0887"
                    ],
                    [
                      0.1111111111111111,
                      "#46039f"
                    ],
                    [
                      0.2222222222222222,
                      "#7201a8"
                    ],
                    [
                      0.3333333333333333,
                      "#9c179e"
                    ],
                    [
                      0.4444444444444444,
                      "#bd3786"
                    ],
                    [
                      0.5555555555555556,
                      "#d8576b"
                    ],
                    [
                      0.6666666666666666,
                      "#ed7953"
                    ],
                    [
                      0.7777777777777778,
                      "#fb9f3a"
                    ],
                    [
                      0.8888888888888888,
                      "#fdca26"
                    ],
                    [
                      1,
                      "#f0f921"
                    ]
                  ]
                },
                "geo": {
                  "center": {},
                  "domain": {
                    "x": [
                      0,
                      1
                    ],
                    "y": [
                      0,
                      1
                    ]
                  }
                },
                "legend": {
                  "tracegroupgap": 0
                },
                "margin": {
                  "t": 60
                },
                "template": {
                  "data": {
                    "bar": [
                      {
                        "error_x": {
                          "color": "#2a3f5f"
                        },
                        "error_y": {
                          "color": "#2a3f5f"
                        },
                        "marker": {
                          "line": {
                            "color": "#E5ECF6",
                            "width": 0.5
                          },
                          "pattern": {
                            "fillmode": "overlay",
                            "size": 10,
                            "solidity": 0.2
                          }
                        },
                        "type": "bar"
                      }
                    ],
                    "barpolar": [
                      {
                        "marker": {
                          "line": {
                            "color": "#E5ECF6",
                            "width": 0.5
                          },
                          "pattern": {
                            "fillmode": "overlay",
                            "size": 10,
                            "solidity": 0.2
                          }
                        },
                        "type": "barpolar"
                      }
                    ],
                    "carpet": [
                      {
                        "aaxis": {
                          "endlinecolor": "#2a3f5f",
                          "gridcolor": "white",
                          "linecolor": "white",
                          "minorgridcolor": "white",
                          "startlinecolor": "#2a3f5f"
                        },
                        "baxis": {
                          "endlinecolor": "#2a3f5f",
                          "gridcolor": "white",
                          "linecolor": "white",
                          "minorgridcolor": "white",
                          "startlinecolor": "#2a3f5f"
                        },
                        "type": "carpet"
                      }
                    ],
                    "choropleth": [
                      {
                        "colorbar": {
                          "outlinewidth": 0,
                          "ticks": ""
                        },
                        "type": "choropleth"
                      }
                    ],
                    "contour": [
                      {
                        "colorbar": {
                          "outlinewidth": 0,
                          "ticks": ""
                        },
                        "colorscale": [
                          [
                            0,
                            "#0d0887"
                          ],
                          [
                            0.1111111111111111,
                            "#46039f"
                          ],
                          [
                            0.2222222222222222,
                            "#7201a8"
                          ],
                          [
                            0.3333333333333333,
                            "#9c179e"
                          ],
                          [
                            0.4444444444444444,
                            "#bd3786"
                          ],
                          [
                            0.5555555555555556,
                            "#d8576b"
                          ],
                          [
                            0.6666666666666666,
                            "#ed7953"
                          ],
                          [
                            0.7777777777777778,
                            "#fb9f3a"
                          ],
                          [
                            0.8888888888888888,
                            "#fdca26"
                          ],
                          [
                            1,
                            "#f0f921"
                          ]
                        ],
                        "type": "contour"
                      }
                    ],
                    "contourcarpet": [
                      {
                        "colorbar": {
                          "outlinewidth": 0,
                          "ticks": ""
                        },
                        "type": "contourcarpet"
                      }
                    ],
                    "heatmap": [
                      {
                        "colorbar": {
                          "outlinewidth": 0,
                          "ticks": ""
                        },
                        "colorscale": [
                          [
                            0,
                            "#0d0887"
                          ],
                          [
                            0.1111111111111111,
                            "#46039f"
                          ],
                          [
                            0.2222222222222222,
                            "#7201a8"
                          ],
                          [
                            0.3333333333333333,
                            "#9c179e"
                          ],
                          [
                            0.4444444444444444,
                            "#bd3786"
                          ],
                          [
                            0.5555555555555556,
                            "#d8576b"
                          ],
                          [
                            0.6666666666666666,
                            "#ed7953"
                          ],
                          [
                            0.7777777777777778,
                            "#fb9f3a"
                          ],
                          [
                            0.8888888888888888,
                            "#fdca26"
                          ],
                          [
                            1,
                            "#f0f921"
                          ]
                        ],
                        "type": "heatmap"
                      }
                    ],
                    "heatmapgl": [
                      {
                        "colorbar": {
                          "outlinewidth": 0,
                          "ticks": ""
                        },
                        "colorscale": [
                          [
                            0,
                            "#0d0887"
                          ],
                          [
                            0.1111111111111111,
                            "#46039f"
                          ],
                          [
                            0.2222222222222222,
                            "#7201a8"
                          ],
                          [
                            0.3333333333333333,
                            "#9c179e"
                          ],
                          [
                            0.4444444444444444,
                            "#bd3786"
                          ],
                          [
                            0.5555555555555556,
                            "#d8576b"
                          ],
                          [
                            0.6666666666666666,
                            "#ed7953"
                          ],
                          [
                            0.7777777777777778,
                            "#fb9f3a"
                          ],
                          [
                            0.8888888888888888,
                            "#fdca26"
                          ],
                          [
                            1,
                            "#f0f921"
                          ]
                        ],
                        "type": "heatmapgl"
                      }
                    ],
                    "histogram": [
                      {
                        "marker": {
                          "pattern": {
                            "fillmode": "overlay",
                            "size": 10,
                            "solidity": 0.2
                          }
                        },
                        "type": "histogram"
                      }
                    ],
                    "histogram2d": [
                      {
                        "colorbar": {
                          "outlinewidth": 0,
                          "ticks": ""
                        },
                        "colorscale": [
                          [
                            0,
                            "#0d0887"
                          ],
                          [
                            0.1111111111111111,
                            "#46039f"
                          ],
                          [
                            0.2222222222222222,
                            "#7201a8"
                          ],
                          [
                            0.3333333333333333,
                            "#9c179e"
                          ],
                          [
                            0.4444444444444444,
                            "#bd3786"
                          ],
                          [
                            0.5555555555555556,
                            "#d8576b"
                          ],
                          [
                            0.6666666666666666,
                            "#ed7953"
                          ],
                          [
                            0.7777777777777778,
                            "#fb9f3a"
                          ],
                          [
                            0.8888888888888888,
                            "#fdca26"
                          ],
                          [
                            1,
                            "#f0f921"
                          ]
                        ],
                        "type": "histogram2d"
                      }
                    ],
                    "histogram2dcontour": [
                      {
                        "colorbar": {
                          "outlinewidth": 0,
                          "ticks": ""
                        },
                        "colorscale": [
                          [
                            0,
                            "#0d0887"
                          ],
                          [
                            0.1111111111111111,
                            "#46039f"
                          ],
                          [
                            0.2222222222222222,
                            "#7201a8"
                          ],
                          [
                            0.3333333333333333,
                            "#9c179e"
                          ],
                          [
                            0.4444444444444444,
                            "#bd3786"
                          ],
                          [
                            0.5555555555555556,
                            "#d8576b"
                          ],
                          [
                            0.6666666666666666,
                            "#ed7953"
                          ],
                          [
                            0.7777777777777778,
                            "#fb9f3a"
                          ],
                          [
                            0.8888888888888888,
                            "#fdca26"
                          ],
                          [
                            1,
                            "#f0f921"
                          ]
                        ],
                        "type": "histogram2dcontour"
                      }
                    ],
                    "mesh3d": [
                      {
                        "colorbar": {
                          "outlinewidth": 0,
                          "ticks": ""
                        },
                        "type": "mesh3d"
                      }
                    ],
                    "parcoords": [
                      {
                        "line": {
                          "colorbar": {
                            "outlinewidth": 0,
                            "ticks": ""
                          }
                        },
                        "type": "parcoords"
                      }
                    ],
                    "pie": [
                      {
                        "automargin": true,
                        "type": "pie"
                      }
                    ],
                    "scatter": [
                      {
                        "marker": {
                          "colorbar": {
                            "outlinewidth": 0,
                            "ticks": ""
                          }
                        },
                        "type": "scatter"
                      }
                    ],
                    "scatter3d": [
                      {
                        "line": {
                          "colorbar": {
                            "outlinewidth": 0,
                            "ticks": ""
                          }
                        },
                        "marker": {
                          "colorbar": {
                            "outlinewidth": 0,
                            "ticks": ""
                          }
                        },
                        "type": "scatter3d"
                      }
                    ],
                    "scattercarpet": [
                      {
                        "marker": {
                          "colorbar": {
                            "outlinewidth": 0,
                            "ticks": ""
                          }
                        },
                        "type": "scattercarpet"
                      }
                    ],
                    "scattergeo": [
                      {
                        "marker": {
                          "colorbar": {
                            "outlinewidth": 0,
                            "ticks": ""
                          }
                        },
                        "type": "scattergeo"
                      }
                    ],
                    "scattergl": [
                      {
                        "marker": {
                          "colorbar": {
                            "outlinewidth": 0,
                            "ticks": ""
                          }
                        },
                        "type": "scattergl"
                      }
                    ],
                    "scattermapbox": [
                      {
                        "marker": {
                          "colorbar": {
                            "outlinewidth": 0,
                            "ticks": ""
                          }
                        },
                        "type": "scattermapbox"
                      }
                    ],
                    "scatterpolar": [
                      {
                        "marker": {
                          "colorbar": {
                            "outlinewidth": 0,
                            "ticks": ""
                          }
                        },
                        "type": "scatterpolar"
                      }
                    ],
                    "scatterpolargl": [
                      {
                        "marker": {
                          "colorbar": {
                            "outlinewidth": 0,
                            "ticks": ""
                          }
                        },
                        "type": "scatterpolargl"
                      }
                    ],
                    "scatterternary": [
                      {
                        "marker": {
                          "colorbar": {
                            "outlinewidth": 0,
                            "ticks": ""
                          }
                        },
                        "type": "scatterternary"
                      }
                    ],
                    "surface": [
                      {
                        "colorbar": {
                          "outlinewidth": 0,
                          "ticks": ""
                        },
                        "colorscale": [
                          [
                            0,
                            "#0d0887"
                          ],
                          [
                            0.1111111111111111,
                            "#46039f"
                          ],
                          [
                            0.2222222222222222,
                            "#7201a8"
                          ],
                          [
                            0.3333333333333333,
                            "#9c179e"
                          ],
                          [
                            0.4444444444444444,
                            "#bd3786"
                          ],
                          [
                            0.5555555555555556,
                            "#d8576b"
                          ],
                          [
                            0.6666666666666666,
                            "#ed7953"
                          ],
                          [
                            0.7777777777777778,
                            "#fb9f3a"
                          ],
                          [
                            0.8888888888888888,
                            "#fdca26"
                          ],
                          [
                            1,
                            "#f0f921"
                          ]
                        ],
                        "type": "surface"
                      }
                    ],
                    "table": [
                      {
                        "cells": {
                          "fill": {
                            "color": "#EBF0F8"
                          },
                          "line": {
                            "color": "white"
                          }
                        },
                        "header": {
                          "fill": {
                            "color": "#C8D4E3"
                          },
                          "line": {
                            "color": "white"
                          }
                        },
                        "type": "table"
                      }
                    ]
                  },
                  "layout": {
                    "annotationdefaults": {
                      "arrowcolor": "#2a3f5f",
                      "arrowhead": 0,
                      "arrowwidth": 1
                    },
                    "autotypenumbers": "strict",
                    "coloraxis": {
                      "colorbar": {
                        "outlinewidth": 0,
                        "ticks": ""
                      }
                    },
                    "colorscale": {
                      "diverging": [
                        [
                          0,
                          "#8e0152"
                        ],
                        [
                          0.1,
                          "#c51b7d"
                        ],
                        [
                          0.2,
                          "#de77ae"
                        ],
                        [
                          0.3,
                          "#f1b6da"
                        ],
                        [
                          0.4,
                          "#fde0ef"
                        ],
                        [
                          0.5,
                          "#f7f7f7"
                        ],
                        [
                          0.6,
                          "#e6f5d0"
                        ],
                        [
                          0.7,
                          "#b8e186"
                        ],
                        [
                          0.8,
                          "#7fbc41"
                        ],
                        [
                          0.9,
                          "#4d9221"
                        ],
                        [
                          1,
                          "#276419"
                        ]
                      ],
                      "sequential": [
                        [
                          0,
                          "#0d0887"
                        ],
                        [
                          0.1111111111111111,
                          "#46039f"
                        ],
                        [
                          0.2222222222222222,
                          "#7201a8"
                        ],
                        [
                          0.3333333333333333,
                          "#9c179e"
                        ],
                        [
                          0.4444444444444444,
                          "#bd3786"
                        ],
                        [
                          0.5555555555555556,
                          "#d8576b"
                        ],
                        [
                          0.6666666666666666,
                          "#ed7953"
                        ],
                        [
                          0.7777777777777778,
                          "#fb9f3a"
                        ],
                        [
                          0.8888888888888888,
                          "#fdca26"
                        ],
                        [
                          1,
                          "#f0f921"
                        ]
                      ],
                      "sequentialminus": [
                        [
                          0,
                          "#0d0887"
                        ],
                        [
                          0.1111111111111111,
                          "#46039f"
                        ],
                        [
                          0.2222222222222222,
                          "#7201a8"
                        ],
                        [
                          0.3333333333333333,
                          "#9c179e"
                        ],
                        [
                          0.4444444444444444,
                          "#bd3786"
                        ],
                        [
                          0.5555555555555556,
                          "#d8576b"
                        ],
                        [
                          0.6666666666666666,
                          "#ed7953"
                        ],
                        [
                          0.7777777777777778,
                          "#fb9f3a"
                        ],
                        [
                          0.8888888888888888,
                          "#fdca26"
                        ],
                        [
                          1,
                          "#f0f921"
                        ]
                      ]
                    },
                    "colorway": [
                      "#636efa",
                      "#EF553B",
                      "#00cc96",
                      "#ab63fa",
                      "#FFA15A",
                      "#19d3f3",
                      "#FF6692",
                      "#B6E880",
                      "#FF97FF",
                      "#FECB52"
                    ],
                    "font": {
                      "color": "#2a3f5f"
                    },
                    "geo": {
                      "bgcolor": "white",
                      "lakecolor": "white",
                      "landcolor": "#E5ECF6",
                      "showlakes": true,
                      "showland": true,
                      "subunitcolor": "white"
                    },
                    "hoverlabel": {
                      "align": "left"
                    },
                    "hovermode": "closest",
                    "mapbox": {
                      "style": "light"
                    },
                    "paper_bgcolor": "white",
                    "plot_bgcolor": "#E5ECF6",
                    "polar": {
                      "angularaxis": {
                        "gridcolor": "white",
                        "linecolor": "white",
                        "ticks": ""
                      },
                      "bgcolor": "#E5ECF6",
                      "radialaxis": {
                        "gridcolor": "white",
                        "linecolor": "white",
                        "ticks": ""
                      }
                    },
                    "scene": {
                      "xaxis": {
                        "backgroundcolor": "#E5ECF6",
                        "gridcolor": "white",
                        "gridwidth": 2,
                        "linecolor": "white",
                        "showbackground": true,
                        "ticks": "",
                        "zerolinecolor": "white"
                      },
                      "yaxis": {
                        "backgroundcolor": "#E5ECF6",
                        "gridcolor": "white",
                        "gridwidth": 2,
                        "linecolor": "white",
                        "showbackground": true,
                        "ticks": "",
                        "zerolinecolor": "white"
                      },
                      "zaxis": {
                        "backgroundcolor": "#E5ECF6",
                        "gridcolor": "white",
                        "gridwidth": 2,
                        "linecolor": "white",
                        "showbackground": true,
                        "ticks": "",
                        "zerolinecolor": "white"
                      }
                    },
                    "shapedefaults": {
                      "line": {
                        "color": "#2a3f5f"
                      }
                    },
                    "ternary": {
                      "aaxis": {
                        "gridcolor": "white",
                        "linecolor": "white",
                        "ticks": ""
                      },
                      "baxis": {
                        "gridcolor": "white",
                        "linecolor": "white",
                        "ticks": ""
                      },
                      "bgcolor": "#E5ECF6",
                      "caxis": {
                        "gridcolor": "white",
                        "linecolor": "white",
                        "ticks": ""
                      }
                    },
                    "title": {
                      "x": 0.05
                    },
                    "xaxis": {
                      "automargin": true,
                      "gridcolor": "white",
                      "linecolor": "white",
                      "ticks": "",
                      "title": {
                        "standoff": 15
                      },
                      "zerolinecolor": "white",
                      "zerolinewidth": 2
                    },
                    "yaxis": {
                      "automargin": true,
                      "gridcolor": "white",
                      "linecolor": "white",
                      "ticks": "",
                      "title": {
                        "standoff": 15
                      },
                      "zerolinecolor": "white",
                      "zerolinewidth": 2
                    }
                  }
                }
              }
            },
            "text/html": [
              "<div>                            <div id=\"69858464-63b5-4a22-939f-549274bc67f7\" class=\"plotly-graph-div\" style=\"height:525px; width:100%;\"></div>            <script type=\"text/javascript\">                require([\"plotly\"], function(Plotly) {                    window.PLOTLYENV=window.PLOTLYENV || {};                                    if (document.getElementById(\"69858464-63b5-4a22-939f-549274bc67f7\")) {                    Plotly.newPlot(                        \"69858464-63b5-4a22-939f-549274bc67f7\",                        [{\"coloraxis\":\"coloraxis\",\"geo\":\"geo\",\"hovertemplate\":\"<b>%{hovertext}</b><br><br>ISOcode=%{location}<br>S&P rating on 04/2010=%{z}<extra></extra>\",\"hovertext\":[\"Albania\",\"Andorra\",\"Angola\",\"Argentina\",\"Aruba\",\"Australia\",\"Austria\",\"Azerbaijan\",\"Bahamas\",\"Bahrain\",\"Bangladesh\",\"Barbados\",\"Belarus\",\"Belgium\",\"Belize\",\"Benin\",\"Bermuda\",\"Bolivia\",\"Bosnia and Herzegovina\",\"Botswana\",\"Brazil\",\"Bulgaria\",\"Burkina Faso\",\"Cambodia\",\"Cameroon\",\"Canada\",\"Cape Verde\",\"Chile\",\"China\",\"Colombia\",\"Cook Islands\",\"Costa Rica\",\"Croatia\",\"Curacao\",\"Cyprus\",\"Czech Republic\",\"Denmark\",\"Dominican Republic\",\"Ecuador\",\"Egypt\",\"El Salvador\",\"Estonia\",\"Fiji\",\"Finland\",\"France\",\"Gabon\",\"Georgia\",\"Germany\",\"Ghana\",\"Greece\",\"Grenada\",\"Guatemala\",\"Guernsey\",\"Honduras\",\"Hong Kong\",\"Hungary\",\"Iceland\",\"India\",\"Indonesia\",\"Ireland\",\"Isle of Man\",\"Israel\",\"Italy\",\"Jamaica\",\"Japan\",\"Jordan\",\"Kazakhstan\",\"Kenya\",\"Korea\",\"Kuwait\",\"Latvia\",\"Lebanon\",\"Liechtenstein\",\"Lithuania\",\"Luxembourg\",\"Macedonia\",\"Malaysia\",\"Malta\",\"Mexico\",\"Mongolia\",\"Montenegro\",\"Morocco\",\"Mozambique\",\"Netherlands\",\"New Zealand\",\"Nigeria\",\"Norway\",\"Oman\",\"Pakistan\",\"Panama\",\"Papua New Guinea\",\"Paraguay\",\"Peru\",\"Philippines\",\"Poland\",\"Portugal\",\"Qatar\",\"Romania\",\"Russia\",\"Rwanda\",\"Saudi Arabia\",\"Senegal\",\"Serbia\",\"Singapore\",\"Slovakia\",\"Slovenia\",\"South Africa\",\"Spain\",\"Sri Lanka\",\"Suriname\",\"Sweden\",\"Switzerland\",\"Taiwan\",\"Thailand\",\"Trinidad & Tobago\",\"Tunisia\",\"Turkey\",\"Uganda\",\"Ukraine\",\"United Arab Emirates (Abu Dhabi)\",\"United Arab Emirates (Emirate of Ras Al Khaimah)\",\"United Kingdom\",\"United States\",\"Uruguay\",\"Venezuela\",\"Vietnam\",\"Zambia\"],\"locations\":[\"ALB\",\"AND\",\"AGO\",\"ARG\",\"ABW\",\"AUS\",\"AUT\",\"AZE\",\"BHS\",\"BHR\",\"BGD\",\"BRB\",\"BLR\",\"BEL\",\"BLZ\",\"BEN\",\"BMU\",\"BOL\",\"BIH\",\"BWA\",\"BRA\",\"BGR\",\"BFA\",\"KHM\",\"CMR\",\"CAN\",\"CPV\",\"CHL\",\"CHN\",\"COL\",\"COK\",\"CRI\",\"HRV\",\"CUW\",\"CYP\",\"CZE\",\"DNK\",\"DOM\",\"ECU\",\"EGY\",\"SLV\",\"EST\",\"FJI\",\"FIN\",\"FRA\",\"GAB\",\"GEO\",\"DEU\",\"GHA\",\"GRC\",\"GRD\",\"GTM\",\"GG\",\"HND\",\"HKG\",\"HUN\",\"ISL\",\"IND\",\"IDN\",\"IRL\",\"IMN\",\"ISR\",\"ITA\",\"JAM\",\"JPN\",\"JOR\",\"KZA\",\"KEN\",\"KOR\",\"KWT\",\"LVA\",\"LSO\",\"LIE\",\"LTU\",\"LUX\",\"MK\",\"MYS\",\"MLT\",\"MEX\",\"MNG\",\"MNE\",\"MAR\",\"MOZ\",\"NLD\",\"NZL\",\"NGA\",\"NOR\",\"OMN\",\"PAK\",\"PAN\",\"PNG\",\"PRY\",\"PER\",\"PHI\",\"POL\",\"PRT\",\"QAT\",\"ROU\",\"RUS\",\"RWA\",\"SAU\",\"SEN\",\"SRB\",\"SGP\",\"SVK\",\"SVN\",\"ZAF\",\"ESP\",\"LKA\",\"SUR\",\"SWE\",\"CHE\",\"TWN\",\"THA\",\"TTO\",\"TUN\",\"TUR\",\"UGA\",\"UKR\",\"AE-AZ\",\"AE-RK\",\"GBR\",\"USA\",\"URY\",\"VEN\",\"VNM\",\"ZMB\"],\"name\":\"\",\"type\":\"choropleth\",\"z\":[9.0,17.0,10.0,8.0,16.0,22.0,22.0,12.0,15.0,16.0,10.0,13.0,9.0,21.0,8.0,8.0,20.0,8.0,9.0,16.0,13.0,14.0,8.0,9.0,8.0,22.0,9.0,18.0,19.0,12.0,10.0,11.0,13.0,16.0,17.0,17.0,22.0,8.0,7.0,11.0,10.0,17.0,7.0,22.0,22.0,10.0,8.0,22.0,9.0,12.0,7.0,11.0,22.0,8.0,22.0,13.0,13.0,13.0,11.0,15.0,22.0,17.0,18.0,7.0,19.0,11.0,14.0,9.0,17.0,19.0,12.0,8.0,22.0,14.0,22.0,11.0,16.0,17.0,14.0,10.0,11.0,13.0,9.0,22.0,21.0,9.0,22.0,17.0,7.0,13.0,9.0,9.0,13.0,11.0,16.0,16.0,20.0,12.0,14.0,8.0,19.0,9.0,10.0,22.0,18.0,20.0,15.0,20.0,9.0,9.0,22.0,22.0,19.0,16.0,17.0,14.0,11.0,9.0,9.0,20.0,17.0,22.0,22.0,10.0,10.0,10.0,9.0]}],                        {\"coloraxis\":{\"colorbar\":{\"title\":{\"text\":\"S&P rating on 04/2010\"}},\"colorscale\":[[0.0,\"#0d0887\"],[0.1111111111111111,\"#46039f\"],[0.2222222222222222,\"#7201a8\"],[0.3333333333333333,\"#9c179e\"],[0.4444444444444444,\"#bd3786\"],[0.5555555555555556,\"#d8576b\"],[0.6666666666666666,\"#ed7953\"],[0.7777777777777778,\"#fb9f3a\"],[0.8888888888888888,\"#fdca26\"],[1.0,\"#f0f921\"]]},\"geo\":{\"center\":{},\"domain\":{\"x\":[0.0,1.0],\"y\":[0.0,1.0]}},\"legend\":{\"tracegroupgap\":0},\"margin\":{\"t\":60},\"template\":{\"data\":{\"bar\":[{\"error_x\":{\"color\":\"#2a3f5f\"},\"error_y\":{\"color\":\"#2a3f5f\"},\"marker\":{\"line\":{\"color\":\"#E5ECF6\",\"width\":0.5},\"pattern\":{\"fillmode\":\"overlay\",\"size\":10,\"solidity\":0.2}},\"type\":\"bar\"}],\"barpolar\":[{\"marker\":{\"line\":{\"color\":\"#E5ECF6\",\"width\":0.5},\"pattern\":{\"fillmode\":\"overlay\",\"size\":10,\"solidity\":0.2}},\"type\":\"barpolar\"}],\"carpet\":[{\"aaxis\":{\"endlinecolor\":\"#2a3f5f\",\"gridcolor\":\"white\",\"linecolor\":\"white\",\"minorgridcolor\":\"white\",\"startlinecolor\":\"#2a3f5f\"},\"baxis\":{\"endlinecolor\":\"#2a3f5f\",\"gridcolor\":\"white\",\"linecolor\":\"white\",\"minorgridcolor\":\"white\",\"startlinecolor\":\"#2a3f5f\"},\"type\":\"carpet\"}],\"choropleth\":[{\"colorbar\":{\"outlinewidth\":0,\"ticks\":\"\"},\"type\":\"choropleth\"}],\"contour\":[{\"colorbar\":{\"outlinewidth\":0,\"ticks\":\"\"},\"colorscale\":[[0.0,\"#0d0887\"],[0.1111111111111111,\"#46039f\"],[0.2222222222222222,\"#7201a8\"],[0.3333333333333333,\"#9c179e\"],[0.4444444444444444,\"#bd3786\"],[0.5555555555555556,\"#d8576b\"],[0.6666666666666666,\"#ed7953\"],[0.7777777777777778,\"#fb9f3a\"],[0.8888888888888888,\"#fdca26\"],[1.0,\"#f0f921\"]],\"type\":\"contour\"}],\"contourcarpet\":[{\"colorbar\":{\"outlinewidth\":0,\"ticks\":\"\"},\"type\":\"contourcarpet\"}],\"heatmap\":[{\"colorbar\":{\"outlinewidth\":0,\"ticks\":\"\"},\"colorscale\":[[0.0,\"#0d0887\"],[0.1111111111111111,\"#46039f\"],[0.2222222222222222,\"#7201a8\"],[0.3333333333333333,\"#9c179e\"],[0.4444444444444444,\"#bd3786\"],[0.5555555555555556,\"#d8576b\"],[0.6666666666666666,\"#ed7953\"],[0.7777777777777778,\"#fb9f3a\"],[0.8888888888888888,\"#fdca26\"],[1.0,\"#f0f921\"]],\"type\":\"heatmap\"}],\"heatmapgl\":[{\"colorbar\":{\"outlinewidth\":0,\"ticks\":\"\"},\"colorscale\":[[0.0,\"#0d0887\"],[0.1111111111111111,\"#46039f\"],[0.2222222222222222,\"#7201a8\"],[0.3333333333333333,\"#9c179e\"],[0.4444444444444444,\"#bd3786\"],[0.5555555555555556,\"#d8576b\"],[0.6666666666666666,\"#ed7953\"],[0.7777777777777778,\"#fb9f3a\"],[0.8888888888888888,\"#fdca26\"],[1.0,\"#f0f921\"]],\"type\":\"heatmapgl\"}],\"histogram\":[{\"marker\":{\"pattern\":{\"fillmode\":\"overlay\",\"size\":10,\"solidity\":0.2}},\"type\":\"histogram\"}],\"histogram2d\":[{\"colorbar\":{\"outlinewidth\":0,\"ticks\":\"\"},\"colorscale\":[[0.0,\"#0d0887\"],[0.1111111111111111,\"#46039f\"],[0.2222222222222222,\"#7201a8\"],[0.3333333333333333,\"#9c179e\"],[0.4444444444444444,\"#bd3786\"],[0.5555555555555556,\"#d8576b\"],[0.6666666666666666,\"#ed7953\"],[0.7777777777777778,\"#fb9f3a\"],[0.8888888888888888,\"#fdca26\"],[1.0,\"#f0f921\"]],\"type\":\"histogram2d\"}],\"histogram2dcontour\":[{\"colorbar\":{\"outlinewidth\":0,\"ticks\":\"\"},\"colorscale\":[[0.0,\"#0d0887\"],[0.1111111111111111,\"#46039f\"],[0.2222222222222222,\"#7201a8\"],[0.3333333333333333,\"#9c179e\"],[0.4444444444444444,\"#bd3786\"],[0.5555555555555556,\"#d8576b\"],[0.6666666666666666,\"#ed7953\"],[0.7777777777777778,\"#fb9f3a\"],[0.8888888888888888,\"#fdca26\"],[1.0,\"#f0f921\"]],\"type\":\"histogram2dcontour\"}],\"mesh3d\":[{\"colorbar\":{\"outlinewidth\":0,\"ticks\":\"\"},\"type\":\"mesh3d\"}],\"parcoords\":[{\"line\":{\"colorbar\":{\"outlinewidth\":0,\"ticks\":\"\"}},\"type\":\"parcoords\"}],\"pie\":[{\"automargin\":true,\"type\":\"pie\"}],\"scatter\":[{\"marker\":{\"colorbar\":{\"outlinewidth\":0,\"ticks\":\"\"}},\"type\":\"scatter\"}],\"scatter3d\":[{\"line\":{\"colorbar\":{\"outlinewidth\":0,\"ticks\":\"\"}},\"marker\":{\"colorbar\":{\"outlinewidth\":0,\"ticks\":\"\"}},\"type\":\"scatter3d\"}],\"scattercarpet\":[{\"marker\":{\"colorbar\":{\"outlinewidth\":0,\"ticks\":\"\"}},\"type\":\"scattercarpet\"}],\"scattergeo\":[{\"marker\":{\"colorbar\":{\"outlinewidth\":0,\"ticks\":\"\"}},\"type\":\"scattergeo\"}],\"scattergl\":[{\"marker\":{\"colorbar\":{\"outlinewidth\":0,\"ticks\":\"\"}},\"type\":\"scattergl\"}],\"scattermapbox\":[{\"marker\":{\"colorbar\":{\"outlinewidth\":0,\"ticks\":\"\"}},\"type\":\"scattermapbox\"}],\"scatterpolar\":[{\"marker\":{\"colorbar\":{\"outlinewidth\":0,\"ticks\":\"\"}},\"type\":\"scatterpolar\"}],\"scatterpolargl\":[{\"marker\":{\"colorbar\":{\"outlinewidth\":0,\"ticks\":\"\"}},\"type\":\"scatterpolargl\"}],\"scatterternary\":[{\"marker\":{\"colorbar\":{\"outlinewidth\":0,\"ticks\":\"\"}},\"type\":\"scatterternary\"}],\"surface\":[{\"colorbar\":{\"outlinewidth\":0,\"ticks\":\"\"},\"colorscale\":[[0.0,\"#0d0887\"],[0.1111111111111111,\"#46039f\"],[0.2222222222222222,\"#7201a8\"],[0.3333333333333333,\"#9c179e\"],[0.4444444444444444,\"#bd3786\"],[0.5555555555555556,\"#d8576b\"],[0.6666666666666666,\"#ed7953\"],[0.7777777777777778,\"#fb9f3a\"],[0.8888888888888888,\"#fdca26\"],[1.0,\"#f0f921\"]],\"type\":\"surface\"}],\"table\":[{\"cells\":{\"fill\":{\"color\":\"#EBF0F8\"},\"line\":{\"color\":\"white\"}},\"header\":{\"fill\":{\"color\":\"#C8D4E3\"},\"line\":{\"color\":\"white\"}},\"type\":\"table\"}]},\"layout\":{\"annotationdefaults\":{\"arrowcolor\":\"#2a3f5f\",\"arrowhead\":0,\"arrowwidth\":1},\"autotypenumbers\":\"strict\",\"coloraxis\":{\"colorbar\":{\"outlinewidth\":0,\"ticks\":\"\"}},\"colorscale\":{\"diverging\":[[0,\"#8e0152\"],[0.1,\"#c51b7d\"],[0.2,\"#de77ae\"],[0.3,\"#f1b6da\"],[0.4,\"#fde0ef\"],[0.5,\"#f7f7f7\"],[0.6,\"#e6f5d0\"],[0.7,\"#b8e186\"],[0.8,\"#7fbc41\"],[0.9,\"#4d9221\"],[1,\"#276419\"]],\"sequential\":[[0.0,\"#0d0887\"],[0.1111111111111111,\"#46039f\"],[0.2222222222222222,\"#7201a8\"],[0.3333333333333333,\"#9c179e\"],[0.4444444444444444,\"#bd3786\"],[0.5555555555555556,\"#d8576b\"],[0.6666666666666666,\"#ed7953\"],[0.7777777777777778,\"#fb9f3a\"],[0.8888888888888888,\"#fdca26\"],[1.0,\"#f0f921\"]],\"sequentialminus\":[[0.0,\"#0d0887\"],[0.1111111111111111,\"#46039f\"],[0.2222222222222222,\"#7201a8\"],[0.3333333333333333,\"#9c179e\"],[0.4444444444444444,\"#bd3786\"],[0.5555555555555556,\"#d8576b\"],[0.6666666666666666,\"#ed7953\"],[0.7777777777777778,\"#fb9f3a\"],[0.8888888888888888,\"#fdca26\"],[1.0,\"#f0f921\"]]},\"colorway\":[\"#636efa\",\"#EF553B\",\"#00cc96\",\"#ab63fa\",\"#FFA15A\",\"#19d3f3\",\"#FF6692\",\"#B6E880\",\"#FF97FF\",\"#FECB52\"],\"font\":{\"color\":\"#2a3f5f\"},\"geo\":{\"bgcolor\":\"white\",\"lakecolor\":\"white\",\"landcolor\":\"#E5ECF6\",\"showlakes\":true,\"showland\":true,\"subunitcolor\":\"white\"},\"hoverlabel\":{\"align\":\"left\"},\"hovermode\":\"closest\",\"mapbox\":{\"style\":\"light\"},\"paper_bgcolor\":\"white\",\"plot_bgcolor\":\"#E5ECF6\",\"polar\":{\"angularaxis\":{\"gridcolor\":\"white\",\"linecolor\":\"white\",\"ticks\":\"\"},\"bgcolor\":\"#E5ECF6\",\"radialaxis\":{\"gridcolor\":\"white\",\"linecolor\":\"white\",\"ticks\":\"\"}},\"scene\":{\"xaxis\":{\"backgroundcolor\":\"#E5ECF6\",\"gridcolor\":\"white\",\"gridwidth\":2,\"linecolor\":\"white\",\"showbackground\":true,\"ticks\":\"\",\"zerolinecolor\":\"white\"},\"yaxis\":{\"backgroundcolor\":\"#E5ECF6\",\"gridcolor\":\"white\",\"gridwidth\":2,\"linecolor\":\"white\",\"showbackground\":true,\"ticks\":\"\",\"zerolinecolor\":\"white\"},\"zaxis\":{\"backgroundcolor\":\"#E5ECF6\",\"gridcolor\":\"white\",\"gridwidth\":2,\"linecolor\":\"white\",\"showbackground\":true,\"ticks\":\"\",\"zerolinecolor\":\"white\"}},\"shapedefaults\":{\"line\":{\"color\":\"#2a3f5f\"}},\"ternary\":{\"aaxis\":{\"gridcolor\":\"white\",\"linecolor\":\"white\",\"ticks\":\"\"},\"baxis\":{\"gridcolor\":\"white\",\"linecolor\":\"white\",\"ticks\":\"\"},\"bgcolor\":\"#E5ECF6\",\"caxis\":{\"gridcolor\":\"white\",\"linecolor\":\"white\",\"ticks\":\"\"}},\"title\":{\"x\":0.05},\"xaxis\":{\"automargin\":true,\"gridcolor\":\"white\",\"linecolor\":\"white\",\"ticks\":\"\",\"title\":{\"standoff\":15},\"zerolinecolor\":\"white\",\"zerolinewidth\":2},\"yaxis\":{\"automargin\":true,\"gridcolor\":\"white\",\"linecolor\":\"white\",\"ticks\":\"\",\"title\":{\"standoff\":15},\"zerolinecolor\":\"white\",\"zerolinewidth\":2}}}},                        {\"responsive\": true}                    ).then(function(){\n",
              "                            \n",
              "var gd = document.getElementById('69858464-63b5-4a22-939f-549274bc67f7');\n",
              "var x = new MutationObserver(function (mutations, observer) {{\n",
              "        var display = window.getComputedStyle(gd).display;\n",
              "        if (!display || display === 'none') {{\n",
              "            console.log([gd, 'removed!']);\n",
              "            Plotly.purge(gd);\n",
              "            observer.disconnect();\n",
              "        }}\n",
              "}});\n",
              "\n",
              "// Listen for the removal of the full notebook cells\n",
              "var notebookContainer = gd.closest('#notebook-container');\n",
              "if (notebookContainer) {{\n",
              "    x.observe(notebookContainer, {childList: true});\n",
              "}}\n",
              "\n",
              "// Listen for the clearing of the current output cell\n",
              "var outputEl = gd.closest('.output');\n",
              "if (outputEl) {{\n",
              "    x.observe(outputEl, {childList: true});\n",
              "}}\n",
              "\n",
              "                        })                };                });            </script>        </div>"
            ]
          },
          "metadata": {},
          "output_type": "display_data"
        }
      ]
    },
    {
      "cell_type": "markdown",
      "metadata": {
        "id": "48eeace8"
      },
      "source": [
        "### b. Stock X-Y Plot"
      ],
      "id": "48eeace8"
    },
    {
      "cell_type": "code",
      "metadata": {
        "id": "c1ba3b27",
        "outputId": "4254ef4d-4247-4841-c54b-70187804ec3b"
      },
      "source": [
        "import pandas  as pd\n",
        "\n",
        "df = pd.read_excel(\"xy_plot.xlsx\")\n",
        "# df = pd.read_excel(\"xy_plot.xlsx\", sheet_name=\"name\")\n",
        "df.head()\n",
        "\n",
        "import plotly.graph_objects as go\n",
        "import numpy as np\n",
        "\n",
        "x = df.Date\n",
        "y = df.Rating\n",
        "fig = go.Figure()\n",
        "title = 'Main Source for News'\n",
        "\n",
        "fig.add_trace(go.Scatter(x=x, y=y, name=\"India\", line_shape='hvh'))\n",
        "\n",
        "\n",
        "\n",
        "fig.update_traces(hoverinfo='text+name', mode='lines+markers')\n",
        "fig.update_layout(legend=dict(y=0.5, traceorder='reversed', font_size=16,))\n",
        "\n",
        "fig.show()\n",
        "\n",
        "\n",
        "\n",
        "df"
      ],
      "id": "c1ba3b27",
      "execution_count": null,
      "outputs": [
        {
          "data": {
            "application/vnd.plotly.v1+json": {
              "config": {
                "plotlyServerURL": "https://plot.ly"
              },
              "data": [
                {
                  "hoverinfo": "text+name",
                  "line": {
                    "shape": "hvh"
                  },
                  "mode": "lines+markers",
                  "name": "India",
                  "type": "scatter",
                  "x": [
                    "1990-09-13T00:00:00",
                    "1991-03-07T00:00:00",
                    "1991-05-29T00:00:00",
                    "1991-09-29T00:00:00",
                    "1996-10-01T00:00:00",
                    "1997-10-06T00:00:00",
                    "1998-05-22T00:00:00",
                    "1998-10-22T00:00:00",
                    "2000-03-20T00:00:00",
                    "2000-10-10T00:00:00",
                    "2001-08-07T00:00:00",
                    "2003-12-16T00:00:00",
                    "2004-08-23T00:00:00",
                    "2005-02-02T00:00:00",
                    "2006-04-19T00:00:00",
                    "2007-01-30T00:00:00",
                    "2009-02-24T00:00:00",
                    "2010-03-18T00:00:00",
                    "2012-04-25T00:00:00",
                    "2014-09-26T00:00:00"
                  ],
                  "y": [
                    14,
                    13,
                    12,
                    12,
                    12,
                    12,
                    12,
                    11,
                    11,
                    11,
                    11,
                    11,
                    11,
                    12,
                    12,
                    13,
                    13,
                    13,
                    13,
                    13
                  ]
                }
              ],
              "layout": {
                "legend": {
                  "font": {
                    "size": 16
                  },
                  "traceorder": "reversed",
                  "y": 0.5
                },
                "template": {
                  "data": {
                    "bar": [
                      {
                        "error_x": {
                          "color": "#2a3f5f"
                        },
                        "error_y": {
                          "color": "#2a3f5f"
                        },
                        "marker": {
                          "line": {
                            "color": "#E5ECF6",
                            "width": 0.5
                          },
                          "pattern": {
                            "fillmode": "overlay",
                            "size": 10,
                            "solidity": 0.2
                          }
                        },
                        "type": "bar"
                      }
                    ],
                    "barpolar": [
                      {
                        "marker": {
                          "line": {
                            "color": "#E5ECF6",
                            "width": 0.5
                          },
                          "pattern": {
                            "fillmode": "overlay",
                            "size": 10,
                            "solidity": 0.2
                          }
                        },
                        "type": "barpolar"
                      }
                    ],
                    "carpet": [
                      {
                        "aaxis": {
                          "endlinecolor": "#2a3f5f",
                          "gridcolor": "white",
                          "linecolor": "white",
                          "minorgridcolor": "white",
                          "startlinecolor": "#2a3f5f"
                        },
                        "baxis": {
                          "endlinecolor": "#2a3f5f",
                          "gridcolor": "white",
                          "linecolor": "white",
                          "minorgridcolor": "white",
                          "startlinecolor": "#2a3f5f"
                        },
                        "type": "carpet"
                      }
                    ],
                    "choropleth": [
                      {
                        "colorbar": {
                          "outlinewidth": 0,
                          "ticks": ""
                        },
                        "type": "choropleth"
                      }
                    ],
                    "contour": [
                      {
                        "colorbar": {
                          "outlinewidth": 0,
                          "ticks": ""
                        },
                        "colorscale": [
                          [
                            0,
                            "#0d0887"
                          ],
                          [
                            0.1111111111111111,
                            "#46039f"
                          ],
                          [
                            0.2222222222222222,
                            "#7201a8"
                          ],
                          [
                            0.3333333333333333,
                            "#9c179e"
                          ],
                          [
                            0.4444444444444444,
                            "#bd3786"
                          ],
                          [
                            0.5555555555555556,
                            "#d8576b"
                          ],
                          [
                            0.6666666666666666,
                            "#ed7953"
                          ],
                          [
                            0.7777777777777778,
                            "#fb9f3a"
                          ],
                          [
                            0.8888888888888888,
                            "#fdca26"
                          ],
                          [
                            1,
                            "#f0f921"
                          ]
                        ],
                        "type": "contour"
                      }
                    ],
                    "contourcarpet": [
                      {
                        "colorbar": {
                          "outlinewidth": 0,
                          "ticks": ""
                        },
                        "type": "contourcarpet"
                      }
                    ],
                    "heatmap": [
                      {
                        "colorbar": {
                          "outlinewidth": 0,
                          "ticks": ""
                        },
                        "colorscale": [
                          [
                            0,
                            "#0d0887"
                          ],
                          [
                            0.1111111111111111,
                            "#46039f"
                          ],
                          [
                            0.2222222222222222,
                            "#7201a8"
                          ],
                          [
                            0.3333333333333333,
                            "#9c179e"
                          ],
                          [
                            0.4444444444444444,
                            "#bd3786"
                          ],
                          [
                            0.5555555555555556,
                            "#d8576b"
                          ],
                          [
                            0.6666666666666666,
                            "#ed7953"
                          ],
                          [
                            0.7777777777777778,
                            "#fb9f3a"
                          ],
                          [
                            0.8888888888888888,
                            "#fdca26"
                          ],
                          [
                            1,
                            "#f0f921"
                          ]
                        ],
                        "type": "heatmap"
                      }
                    ],
                    "heatmapgl": [
                      {
                        "colorbar": {
                          "outlinewidth": 0,
                          "ticks": ""
                        },
                        "colorscale": [
                          [
                            0,
                            "#0d0887"
                          ],
                          [
                            0.1111111111111111,
                            "#46039f"
                          ],
                          [
                            0.2222222222222222,
                            "#7201a8"
                          ],
                          [
                            0.3333333333333333,
                            "#9c179e"
                          ],
                          [
                            0.4444444444444444,
                            "#bd3786"
                          ],
                          [
                            0.5555555555555556,
                            "#d8576b"
                          ],
                          [
                            0.6666666666666666,
                            "#ed7953"
                          ],
                          [
                            0.7777777777777778,
                            "#fb9f3a"
                          ],
                          [
                            0.8888888888888888,
                            "#fdca26"
                          ],
                          [
                            1,
                            "#f0f921"
                          ]
                        ],
                        "type": "heatmapgl"
                      }
                    ],
                    "histogram": [
                      {
                        "marker": {
                          "pattern": {
                            "fillmode": "overlay",
                            "size": 10,
                            "solidity": 0.2
                          }
                        },
                        "type": "histogram"
                      }
                    ],
                    "histogram2d": [
                      {
                        "colorbar": {
                          "outlinewidth": 0,
                          "ticks": ""
                        },
                        "colorscale": [
                          [
                            0,
                            "#0d0887"
                          ],
                          [
                            0.1111111111111111,
                            "#46039f"
                          ],
                          [
                            0.2222222222222222,
                            "#7201a8"
                          ],
                          [
                            0.3333333333333333,
                            "#9c179e"
                          ],
                          [
                            0.4444444444444444,
                            "#bd3786"
                          ],
                          [
                            0.5555555555555556,
                            "#d8576b"
                          ],
                          [
                            0.6666666666666666,
                            "#ed7953"
                          ],
                          [
                            0.7777777777777778,
                            "#fb9f3a"
                          ],
                          [
                            0.8888888888888888,
                            "#fdca26"
                          ],
                          [
                            1,
                            "#f0f921"
                          ]
                        ],
                        "type": "histogram2d"
                      }
                    ],
                    "histogram2dcontour": [
                      {
                        "colorbar": {
                          "outlinewidth": 0,
                          "ticks": ""
                        },
                        "colorscale": [
                          [
                            0,
                            "#0d0887"
                          ],
                          [
                            0.1111111111111111,
                            "#46039f"
                          ],
                          [
                            0.2222222222222222,
                            "#7201a8"
                          ],
                          [
                            0.3333333333333333,
                            "#9c179e"
                          ],
                          [
                            0.4444444444444444,
                            "#bd3786"
                          ],
                          [
                            0.5555555555555556,
                            "#d8576b"
                          ],
                          [
                            0.6666666666666666,
                            "#ed7953"
                          ],
                          [
                            0.7777777777777778,
                            "#fb9f3a"
                          ],
                          [
                            0.8888888888888888,
                            "#fdca26"
                          ],
                          [
                            1,
                            "#f0f921"
                          ]
                        ],
                        "type": "histogram2dcontour"
                      }
                    ],
                    "mesh3d": [
                      {
                        "colorbar": {
                          "outlinewidth": 0,
                          "ticks": ""
                        },
                        "type": "mesh3d"
                      }
                    ],
                    "parcoords": [
                      {
                        "line": {
                          "colorbar": {
                            "outlinewidth": 0,
                            "ticks": ""
                          }
                        },
                        "type": "parcoords"
                      }
                    ],
                    "pie": [
                      {
                        "automargin": true,
                        "type": "pie"
                      }
                    ],
                    "scatter": [
                      {
                        "marker": {
                          "colorbar": {
                            "outlinewidth": 0,
                            "ticks": ""
                          }
                        },
                        "type": "scatter"
                      }
                    ],
                    "scatter3d": [
                      {
                        "line": {
                          "colorbar": {
                            "outlinewidth": 0,
                            "ticks": ""
                          }
                        },
                        "marker": {
                          "colorbar": {
                            "outlinewidth": 0,
                            "ticks": ""
                          }
                        },
                        "type": "scatter3d"
                      }
                    ],
                    "scattercarpet": [
                      {
                        "marker": {
                          "colorbar": {
                            "outlinewidth": 0,
                            "ticks": ""
                          }
                        },
                        "type": "scattercarpet"
                      }
                    ],
                    "scattergeo": [
                      {
                        "marker": {
                          "colorbar": {
                            "outlinewidth": 0,
                            "ticks": ""
                          }
                        },
                        "type": "scattergeo"
                      }
                    ],
                    "scattergl": [
                      {
                        "marker": {
                          "colorbar": {
                            "outlinewidth": 0,
                            "ticks": ""
                          }
                        },
                        "type": "scattergl"
                      }
                    ],
                    "scattermapbox": [
                      {
                        "marker": {
                          "colorbar": {
                            "outlinewidth": 0,
                            "ticks": ""
                          }
                        },
                        "type": "scattermapbox"
                      }
                    ],
                    "scatterpolar": [
                      {
                        "marker": {
                          "colorbar": {
                            "outlinewidth": 0,
                            "ticks": ""
                          }
                        },
                        "type": "scatterpolar"
                      }
                    ],
                    "scatterpolargl": [
                      {
                        "marker": {
                          "colorbar": {
                            "outlinewidth": 0,
                            "ticks": ""
                          }
                        },
                        "type": "scatterpolargl"
                      }
                    ],
                    "scatterternary": [
                      {
                        "marker": {
                          "colorbar": {
                            "outlinewidth": 0,
                            "ticks": ""
                          }
                        },
                        "type": "scatterternary"
                      }
                    ],
                    "surface": [
                      {
                        "colorbar": {
                          "outlinewidth": 0,
                          "ticks": ""
                        },
                        "colorscale": [
                          [
                            0,
                            "#0d0887"
                          ],
                          [
                            0.1111111111111111,
                            "#46039f"
                          ],
                          [
                            0.2222222222222222,
                            "#7201a8"
                          ],
                          [
                            0.3333333333333333,
                            "#9c179e"
                          ],
                          [
                            0.4444444444444444,
                            "#bd3786"
                          ],
                          [
                            0.5555555555555556,
                            "#d8576b"
                          ],
                          [
                            0.6666666666666666,
                            "#ed7953"
                          ],
                          [
                            0.7777777777777778,
                            "#fb9f3a"
                          ],
                          [
                            0.8888888888888888,
                            "#fdca26"
                          ],
                          [
                            1,
                            "#f0f921"
                          ]
                        ],
                        "type": "surface"
                      }
                    ],
                    "table": [
                      {
                        "cells": {
                          "fill": {
                            "color": "#EBF0F8"
                          },
                          "line": {
                            "color": "white"
                          }
                        },
                        "header": {
                          "fill": {
                            "color": "#C8D4E3"
                          },
                          "line": {
                            "color": "white"
                          }
                        },
                        "type": "table"
                      }
                    ]
                  },
                  "layout": {
                    "annotationdefaults": {
                      "arrowcolor": "#2a3f5f",
                      "arrowhead": 0,
                      "arrowwidth": 1
                    },
                    "autotypenumbers": "strict",
                    "coloraxis": {
                      "colorbar": {
                        "outlinewidth": 0,
                        "ticks": ""
                      }
                    },
                    "colorscale": {
                      "diverging": [
                        [
                          0,
                          "#8e0152"
                        ],
                        [
                          0.1,
                          "#c51b7d"
                        ],
                        [
                          0.2,
                          "#de77ae"
                        ],
                        [
                          0.3,
                          "#f1b6da"
                        ],
                        [
                          0.4,
                          "#fde0ef"
                        ],
                        [
                          0.5,
                          "#f7f7f7"
                        ],
                        [
                          0.6,
                          "#e6f5d0"
                        ],
                        [
                          0.7,
                          "#b8e186"
                        ],
                        [
                          0.8,
                          "#7fbc41"
                        ],
                        [
                          0.9,
                          "#4d9221"
                        ],
                        [
                          1,
                          "#276419"
                        ]
                      ],
                      "sequential": [
                        [
                          0,
                          "#0d0887"
                        ],
                        [
                          0.1111111111111111,
                          "#46039f"
                        ],
                        [
                          0.2222222222222222,
                          "#7201a8"
                        ],
                        [
                          0.3333333333333333,
                          "#9c179e"
                        ],
                        [
                          0.4444444444444444,
                          "#bd3786"
                        ],
                        [
                          0.5555555555555556,
                          "#d8576b"
                        ],
                        [
                          0.6666666666666666,
                          "#ed7953"
                        ],
                        [
                          0.7777777777777778,
                          "#fb9f3a"
                        ],
                        [
                          0.8888888888888888,
                          "#fdca26"
                        ],
                        [
                          1,
                          "#f0f921"
                        ]
                      ],
                      "sequentialminus": [
                        [
                          0,
                          "#0d0887"
                        ],
                        [
                          0.1111111111111111,
                          "#46039f"
                        ],
                        [
                          0.2222222222222222,
                          "#7201a8"
                        ],
                        [
                          0.3333333333333333,
                          "#9c179e"
                        ],
                        [
                          0.4444444444444444,
                          "#bd3786"
                        ],
                        [
                          0.5555555555555556,
                          "#d8576b"
                        ],
                        [
                          0.6666666666666666,
                          "#ed7953"
                        ],
                        [
                          0.7777777777777778,
                          "#fb9f3a"
                        ],
                        [
                          0.8888888888888888,
                          "#fdca26"
                        ],
                        [
                          1,
                          "#f0f921"
                        ]
                      ]
                    },
                    "colorway": [
                      "#636efa",
                      "#EF553B",
                      "#00cc96",
                      "#ab63fa",
                      "#FFA15A",
                      "#19d3f3",
                      "#FF6692",
                      "#B6E880",
                      "#FF97FF",
                      "#FECB52"
                    ],
                    "font": {
                      "color": "#2a3f5f"
                    },
                    "geo": {
                      "bgcolor": "white",
                      "lakecolor": "white",
                      "landcolor": "#E5ECF6",
                      "showlakes": true,
                      "showland": true,
                      "subunitcolor": "white"
                    },
                    "hoverlabel": {
                      "align": "left"
                    },
                    "hovermode": "closest",
                    "mapbox": {
                      "style": "light"
                    },
                    "paper_bgcolor": "white",
                    "plot_bgcolor": "#E5ECF6",
                    "polar": {
                      "angularaxis": {
                        "gridcolor": "white",
                        "linecolor": "white",
                        "ticks": ""
                      },
                      "bgcolor": "#E5ECF6",
                      "radialaxis": {
                        "gridcolor": "white",
                        "linecolor": "white",
                        "ticks": ""
                      }
                    },
                    "scene": {
                      "xaxis": {
                        "backgroundcolor": "#E5ECF6",
                        "gridcolor": "white",
                        "gridwidth": 2,
                        "linecolor": "white",
                        "showbackground": true,
                        "ticks": "",
                        "zerolinecolor": "white"
                      },
                      "yaxis": {
                        "backgroundcolor": "#E5ECF6",
                        "gridcolor": "white",
                        "gridwidth": 2,
                        "linecolor": "white",
                        "showbackground": true,
                        "ticks": "",
                        "zerolinecolor": "white"
                      },
                      "zaxis": {
                        "backgroundcolor": "#E5ECF6",
                        "gridcolor": "white",
                        "gridwidth": 2,
                        "linecolor": "white",
                        "showbackground": true,
                        "ticks": "",
                        "zerolinecolor": "white"
                      }
                    },
                    "shapedefaults": {
                      "line": {
                        "color": "#2a3f5f"
                      }
                    },
                    "ternary": {
                      "aaxis": {
                        "gridcolor": "white",
                        "linecolor": "white",
                        "ticks": ""
                      },
                      "baxis": {
                        "gridcolor": "white",
                        "linecolor": "white",
                        "ticks": ""
                      },
                      "bgcolor": "#E5ECF6",
                      "caxis": {
                        "gridcolor": "white",
                        "linecolor": "white",
                        "ticks": ""
                      }
                    },
                    "title": {
                      "x": 0.05
                    },
                    "xaxis": {
                      "automargin": true,
                      "gridcolor": "white",
                      "linecolor": "white",
                      "ticks": "",
                      "title": {
                        "standoff": 15
                      },
                      "zerolinecolor": "white",
                      "zerolinewidth": 2
                    },
                    "yaxis": {
                      "automargin": true,
                      "gridcolor": "white",
                      "linecolor": "white",
                      "ticks": "",
                      "title": {
                        "standoff": 15
                      },
                      "zerolinecolor": "white",
                      "zerolinewidth": 2
                    }
                  }
                }
              }
            },
            "text/html": [
              "<div>                            <div id=\"c1fe36b7-d744-4f1c-9d42-9a9fa8ef54c7\" class=\"plotly-graph-div\" style=\"height:525px; width:100%;\"></div>            <script type=\"text/javascript\">                require([\"plotly\"], function(Plotly) {                    window.PLOTLYENV=window.PLOTLYENV || {};                                    if (document.getElementById(\"c1fe36b7-d744-4f1c-9d42-9a9fa8ef54c7\")) {                    Plotly.newPlot(                        \"c1fe36b7-d744-4f1c-9d42-9a9fa8ef54c7\",                        [{\"hoverinfo\":\"text+name\",\"line\":{\"shape\":\"hvh\"},\"mode\":\"lines+markers\",\"name\":\"India\",\"type\":\"scatter\",\"x\":[\"1990-09-13T00:00:00\",\"1991-03-07T00:00:00\",\"1991-05-29T00:00:00\",\"1991-09-29T00:00:00\",\"1996-10-01T00:00:00\",\"1997-10-06T00:00:00\",\"1998-05-22T00:00:00\",\"1998-10-22T00:00:00\",\"2000-03-20T00:00:00\",\"2000-10-10T00:00:00\",\"2001-08-07T00:00:00\",\"2003-12-16T00:00:00\",\"2004-08-23T00:00:00\",\"2005-02-02T00:00:00\",\"2006-04-19T00:00:00\",\"2007-01-30T00:00:00\",\"2009-02-24T00:00:00\",\"2010-03-18T00:00:00\",\"2012-04-25T00:00:00\",\"2014-09-26T00:00:00\"],\"y\":[14,13,12,12,12,12,12,11,11,11,11,11,11,12,12,13,13,13,13,13]}],                        {\"legend\":{\"font\":{\"size\":16},\"traceorder\":\"reversed\",\"y\":0.5},\"template\":{\"data\":{\"bar\":[{\"error_x\":{\"color\":\"#2a3f5f\"},\"error_y\":{\"color\":\"#2a3f5f\"},\"marker\":{\"line\":{\"color\":\"#E5ECF6\",\"width\":0.5},\"pattern\":{\"fillmode\":\"overlay\",\"size\":10,\"solidity\":0.2}},\"type\":\"bar\"}],\"barpolar\":[{\"marker\":{\"line\":{\"color\":\"#E5ECF6\",\"width\":0.5},\"pattern\":{\"fillmode\":\"overlay\",\"size\":10,\"solidity\":0.2}},\"type\":\"barpolar\"}],\"carpet\":[{\"aaxis\":{\"endlinecolor\":\"#2a3f5f\",\"gridcolor\":\"white\",\"linecolor\":\"white\",\"minorgridcolor\":\"white\",\"startlinecolor\":\"#2a3f5f\"},\"baxis\":{\"endlinecolor\":\"#2a3f5f\",\"gridcolor\":\"white\",\"linecolor\":\"white\",\"minorgridcolor\":\"white\",\"startlinecolor\":\"#2a3f5f\"},\"type\":\"carpet\"}],\"choropleth\":[{\"colorbar\":{\"outlinewidth\":0,\"ticks\":\"\"},\"type\":\"choropleth\"}],\"contour\":[{\"colorbar\":{\"outlinewidth\":0,\"ticks\":\"\"},\"colorscale\":[[0.0,\"#0d0887\"],[0.1111111111111111,\"#46039f\"],[0.2222222222222222,\"#7201a8\"],[0.3333333333333333,\"#9c179e\"],[0.4444444444444444,\"#bd3786\"],[0.5555555555555556,\"#d8576b\"],[0.6666666666666666,\"#ed7953\"],[0.7777777777777778,\"#fb9f3a\"],[0.8888888888888888,\"#fdca26\"],[1.0,\"#f0f921\"]],\"type\":\"contour\"}],\"contourcarpet\":[{\"colorbar\":{\"outlinewidth\":0,\"ticks\":\"\"},\"type\":\"contourcarpet\"}],\"heatmap\":[{\"colorbar\":{\"outlinewidth\":0,\"ticks\":\"\"},\"colorscale\":[[0.0,\"#0d0887\"],[0.1111111111111111,\"#46039f\"],[0.2222222222222222,\"#7201a8\"],[0.3333333333333333,\"#9c179e\"],[0.4444444444444444,\"#bd3786\"],[0.5555555555555556,\"#d8576b\"],[0.6666666666666666,\"#ed7953\"],[0.7777777777777778,\"#fb9f3a\"],[0.8888888888888888,\"#fdca26\"],[1.0,\"#f0f921\"]],\"type\":\"heatmap\"}],\"heatmapgl\":[{\"colorbar\":{\"outlinewidth\":0,\"ticks\":\"\"},\"colorscale\":[[0.0,\"#0d0887\"],[0.1111111111111111,\"#46039f\"],[0.2222222222222222,\"#7201a8\"],[0.3333333333333333,\"#9c179e\"],[0.4444444444444444,\"#bd3786\"],[0.5555555555555556,\"#d8576b\"],[0.6666666666666666,\"#ed7953\"],[0.7777777777777778,\"#fb9f3a\"],[0.8888888888888888,\"#fdca26\"],[1.0,\"#f0f921\"]],\"type\":\"heatmapgl\"}],\"histogram\":[{\"marker\":{\"pattern\":{\"fillmode\":\"overlay\",\"size\":10,\"solidity\":0.2}},\"type\":\"histogram\"}],\"histogram2d\":[{\"colorbar\":{\"outlinewidth\":0,\"ticks\":\"\"},\"colorscale\":[[0.0,\"#0d0887\"],[0.1111111111111111,\"#46039f\"],[0.2222222222222222,\"#7201a8\"],[0.3333333333333333,\"#9c179e\"],[0.4444444444444444,\"#bd3786\"],[0.5555555555555556,\"#d8576b\"],[0.6666666666666666,\"#ed7953\"],[0.7777777777777778,\"#fb9f3a\"],[0.8888888888888888,\"#fdca26\"],[1.0,\"#f0f921\"]],\"type\":\"histogram2d\"}],\"histogram2dcontour\":[{\"colorbar\":{\"outlinewidth\":0,\"ticks\":\"\"},\"colorscale\":[[0.0,\"#0d0887\"],[0.1111111111111111,\"#46039f\"],[0.2222222222222222,\"#7201a8\"],[0.3333333333333333,\"#9c179e\"],[0.4444444444444444,\"#bd3786\"],[0.5555555555555556,\"#d8576b\"],[0.6666666666666666,\"#ed7953\"],[0.7777777777777778,\"#fb9f3a\"],[0.8888888888888888,\"#fdca26\"],[1.0,\"#f0f921\"]],\"type\":\"histogram2dcontour\"}],\"mesh3d\":[{\"colorbar\":{\"outlinewidth\":0,\"ticks\":\"\"},\"type\":\"mesh3d\"}],\"parcoords\":[{\"line\":{\"colorbar\":{\"outlinewidth\":0,\"ticks\":\"\"}},\"type\":\"parcoords\"}],\"pie\":[{\"automargin\":true,\"type\":\"pie\"}],\"scatter\":[{\"marker\":{\"colorbar\":{\"outlinewidth\":0,\"ticks\":\"\"}},\"type\":\"scatter\"}],\"scatter3d\":[{\"line\":{\"colorbar\":{\"outlinewidth\":0,\"ticks\":\"\"}},\"marker\":{\"colorbar\":{\"outlinewidth\":0,\"ticks\":\"\"}},\"type\":\"scatter3d\"}],\"scattercarpet\":[{\"marker\":{\"colorbar\":{\"outlinewidth\":0,\"ticks\":\"\"}},\"type\":\"scattercarpet\"}],\"scattergeo\":[{\"marker\":{\"colorbar\":{\"outlinewidth\":0,\"ticks\":\"\"}},\"type\":\"scattergeo\"}],\"scattergl\":[{\"marker\":{\"colorbar\":{\"outlinewidth\":0,\"ticks\":\"\"}},\"type\":\"scattergl\"}],\"scattermapbox\":[{\"marker\":{\"colorbar\":{\"outlinewidth\":0,\"ticks\":\"\"}},\"type\":\"scattermapbox\"}],\"scatterpolar\":[{\"marker\":{\"colorbar\":{\"outlinewidth\":0,\"ticks\":\"\"}},\"type\":\"scatterpolar\"}],\"scatterpolargl\":[{\"marker\":{\"colorbar\":{\"outlinewidth\":0,\"ticks\":\"\"}},\"type\":\"scatterpolargl\"}],\"scatterternary\":[{\"marker\":{\"colorbar\":{\"outlinewidth\":0,\"ticks\":\"\"}},\"type\":\"scatterternary\"}],\"surface\":[{\"colorbar\":{\"outlinewidth\":0,\"ticks\":\"\"},\"colorscale\":[[0.0,\"#0d0887\"],[0.1111111111111111,\"#46039f\"],[0.2222222222222222,\"#7201a8\"],[0.3333333333333333,\"#9c179e\"],[0.4444444444444444,\"#bd3786\"],[0.5555555555555556,\"#d8576b\"],[0.6666666666666666,\"#ed7953\"],[0.7777777777777778,\"#fb9f3a\"],[0.8888888888888888,\"#fdca26\"],[1.0,\"#f0f921\"]],\"type\":\"surface\"}],\"table\":[{\"cells\":{\"fill\":{\"color\":\"#EBF0F8\"},\"line\":{\"color\":\"white\"}},\"header\":{\"fill\":{\"color\":\"#C8D4E3\"},\"line\":{\"color\":\"white\"}},\"type\":\"table\"}]},\"layout\":{\"annotationdefaults\":{\"arrowcolor\":\"#2a3f5f\",\"arrowhead\":0,\"arrowwidth\":1},\"autotypenumbers\":\"strict\",\"coloraxis\":{\"colorbar\":{\"outlinewidth\":0,\"ticks\":\"\"}},\"colorscale\":{\"diverging\":[[0,\"#8e0152\"],[0.1,\"#c51b7d\"],[0.2,\"#de77ae\"],[0.3,\"#f1b6da\"],[0.4,\"#fde0ef\"],[0.5,\"#f7f7f7\"],[0.6,\"#e6f5d0\"],[0.7,\"#b8e186\"],[0.8,\"#7fbc41\"],[0.9,\"#4d9221\"],[1,\"#276419\"]],\"sequential\":[[0.0,\"#0d0887\"],[0.1111111111111111,\"#46039f\"],[0.2222222222222222,\"#7201a8\"],[0.3333333333333333,\"#9c179e\"],[0.4444444444444444,\"#bd3786\"],[0.5555555555555556,\"#d8576b\"],[0.6666666666666666,\"#ed7953\"],[0.7777777777777778,\"#fb9f3a\"],[0.8888888888888888,\"#fdca26\"],[1.0,\"#f0f921\"]],\"sequentialminus\":[[0.0,\"#0d0887\"],[0.1111111111111111,\"#46039f\"],[0.2222222222222222,\"#7201a8\"],[0.3333333333333333,\"#9c179e\"],[0.4444444444444444,\"#bd3786\"],[0.5555555555555556,\"#d8576b\"],[0.6666666666666666,\"#ed7953\"],[0.7777777777777778,\"#fb9f3a\"],[0.8888888888888888,\"#fdca26\"],[1.0,\"#f0f921\"]]},\"colorway\":[\"#636efa\",\"#EF553B\",\"#00cc96\",\"#ab63fa\",\"#FFA15A\",\"#19d3f3\",\"#FF6692\",\"#B6E880\",\"#FF97FF\",\"#FECB52\"],\"font\":{\"color\":\"#2a3f5f\"},\"geo\":{\"bgcolor\":\"white\",\"lakecolor\":\"white\",\"landcolor\":\"#E5ECF6\",\"showlakes\":true,\"showland\":true,\"subunitcolor\":\"white\"},\"hoverlabel\":{\"align\":\"left\"},\"hovermode\":\"closest\",\"mapbox\":{\"style\":\"light\"},\"paper_bgcolor\":\"white\",\"plot_bgcolor\":\"#E5ECF6\",\"polar\":{\"angularaxis\":{\"gridcolor\":\"white\",\"linecolor\":\"white\",\"ticks\":\"\"},\"bgcolor\":\"#E5ECF6\",\"radialaxis\":{\"gridcolor\":\"white\",\"linecolor\":\"white\",\"ticks\":\"\"}},\"scene\":{\"xaxis\":{\"backgroundcolor\":\"#E5ECF6\",\"gridcolor\":\"white\",\"gridwidth\":2,\"linecolor\":\"white\",\"showbackground\":true,\"ticks\":\"\",\"zerolinecolor\":\"white\"},\"yaxis\":{\"backgroundcolor\":\"#E5ECF6\",\"gridcolor\":\"white\",\"gridwidth\":2,\"linecolor\":\"white\",\"showbackground\":true,\"ticks\":\"\",\"zerolinecolor\":\"white\"},\"zaxis\":{\"backgroundcolor\":\"#E5ECF6\",\"gridcolor\":\"white\",\"gridwidth\":2,\"linecolor\":\"white\",\"showbackground\":true,\"ticks\":\"\",\"zerolinecolor\":\"white\"}},\"shapedefaults\":{\"line\":{\"color\":\"#2a3f5f\"}},\"ternary\":{\"aaxis\":{\"gridcolor\":\"white\",\"linecolor\":\"white\",\"ticks\":\"\"},\"baxis\":{\"gridcolor\":\"white\",\"linecolor\":\"white\",\"ticks\":\"\"},\"bgcolor\":\"#E5ECF6\",\"caxis\":{\"gridcolor\":\"white\",\"linecolor\":\"white\",\"ticks\":\"\"}},\"title\":{\"x\":0.05},\"xaxis\":{\"automargin\":true,\"gridcolor\":\"white\",\"linecolor\":\"white\",\"ticks\":\"\",\"title\":{\"standoff\":15},\"zerolinecolor\":\"white\",\"zerolinewidth\":2},\"yaxis\":{\"automargin\":true,\"gridcolor\":\"white\",\"linecolor\":\"white\",\"ticks\":\"\",\"title\":{\"standoff\":15},\"zerolinecolor\":\"white\",\"zerolinewidth\":2}}}},                        {\"responsive\": true}                    ).then(function(){\n",
              "                            \n",
              "var gd = document.getElementById('c1fe36b7-d744-4f1c-9d42-9a9fa8ef54c7');\n",
              "var x = new MutationObserver(function (mutations, observer) {{\n",
              "        var display = window.getComputedStyle(gd).display;\n",
              "        if (!display || display === 'none') {{\n",
              "            console.log([gd, 'removed!']);\n",
              "            Plotly.purge(gd);\n",
              "            observer.disconnect();\n",
              "        }}\n",
              "}});\n",
              "\n",
              "// Listen for the removal of the full notebook cells\n",
              "var notebookContainer = gd.closest('#notebook-container');\n",
              "if (notebookContainer) {{\n",
              "    x.observe(notebookContainer, {childList: true});\n",
              "}}\n",
              "\n",
              "// Listen for the clearing of the current output cell\n",
              "var outputEl = gd.closest('.output');\n",
              "if (outputEl) {{\n",
              "    x.observe(outputEl, {childList: true});\n",
              "}}\n",
              "\n",
              "                        })                };                });            </script>        </div>"
            ]
          },
          "metadata": {},
          "output_type": "display_data"
        },
        {
          "data": {
            "text/html": [
              "<div>\n",
              "<style scoped>\n",
              "    .dataframe tbody tr th:only-of-type {\n",
              "        vertical-align: middle;\n",
              "    }\n",
              "\n",
              "    .dataframe tbody tr th {\n",
              "        vertical-align: top;\n",
              "    }\n",
              "\n",
              "    .dataframe thead th {\n",
              "        text-align: right;\n",
              "    }\n",
              "</style>\n",
              "<table border=\"1\" class=\"dataframe\">\n",
              "  <thead>\n",
              "    <tr style=\"text-align: right;\">\n",
              "      <th></th>\n",
              "      <th>Date</th>\n",
              "      <th>Rating</th>\n",
              "    </tr>\n",
              "  </thead>\n",
              "  <tbody>\n",
              "    <tr>\n",
              "      <th>0</th>\n",
              "      <td>1990-09-13</td>\n",
              "      <td>14</td>\n",
              "    </tr>\n",
              "    <tr>\n",
              "      <th>1</th>\n",
              "      <td>1991-03-07</td>\n",
              "      <td>13</td>\n",
              "    </tr>\n",
              "    <tr>\n",
              "      <th>2</th>\n",
              "      <td>1991-05-29</td>\n",
              "      <td>12</td>\n",
              "    </tr>\n",
              "    <tr>\n",
              "      <th>3</th>\n",
              "      <td>1991-09-29</td>\n",
              "      <td>12</td>\n",
              "    </tr>\n",
              "    <tr>\n",
              "      <th>4</th>\n",
              "      <td>1996-10-01</td>\n",
              "      <td>12</td>\n",
              "    </tr>\n",
              "    <tr>\n",
              "      <th>5</th>\n",
              "      <td>1997-10-06</td>\n",
              "      <td>12</td>\n",
              "    </tr>\n",
              "    <tr>\n",
              "      <th>6</th>\n",
              "      <td>1998-05-22</td>\n",
              "      <td>12</td>\n",
              "    </tr>\n",
              "    <tr>\n",
              "      <th>7</th>\n",
              "      <td>1998-10-22</td>\n",
              "      <td>11</td>\n",
              "    </tr>\n",
              "    <tr>\n",
              "      <th>8</th>\n",
              "      <td>2000-03-20</td>\n",
              "      <td>11</td>\n",
              "    </tr>\n",
              "    <tr>\n",
              "      <th>9</th>\n",
              "      <td>2000-10-10</td>\n",
              "      <td>11</td>\n",
              "    </tr>\n",
              "    <tr>\n",
              "      <th>10</th>\n",
              "      <td>2001-08-07</td>\n",
              "      <td>11</td>\n",
              "    </tr>\n",
              "    <tr>\n",
              "      <th>11</th>\n",
              "      <td>2003-12-16</td>\n",
              "      <td>11</td>\n",
              "    </tr>\n",
              "    <tr>\n",
              "      <th>12</th>\n",
              "      <td>2004-08-23</td>\n",
              "      <td>11</td>\n",
              "    </tr>\n",
              "    <tr>\n",
              "      <th>13</th>\n",
              "      <td>2005-02-02</td>\n",
              "      <td>12</td>\n",
              "    </tr>\n",
              "    <tr>\n",
              "      <th>14</th>\n",
              "      <td>2006-04-19</td>\n",
              "      <td>12</td>\n",
              "    </tr>\n",
              "    <tr>\n",
              "      <th>15</th>\n",
              "      <td>2007-01-30</td>\n",
              "      <td>13</td>\n",
              "    </tr>\n",
              "    <tr>\n",
              "      <th>16</th>\n",
              "      <td>2009-02-24</td>\n",
              "      <td>13</td>\n",
              "    </tr>\n",
              "    <tr>\n",
              "      <th>17</th>\n",
              "      <td>2010-03-18</td>\n",
              "      <td>13</td>\n",
              "    </tr>\n",
              "    <tr>\n",
              "      <th>18</th>\n",
              "      <td>2012-04-25</td>\n",
              "      <td>13</td>\n",
              "    </tr>\n",
              "    <tr>\n",
              "      <th>19</th>\n",
              "      <td>2014-09-26</td>\n",
              "      <td>13</td>\n",
              "    </tr>\n",
              "  </tbody>\n",
              "</table>\n",
              "</div>"
            ],
            "text/plain": [
              "         Date  Rating\n",
              "0  1990-09-13      14\n",
              "1  1991-03-07      13\n",
              "2  1991-05-29      12\n",
              "3  1991-09-29      12\n",
              "4  1996-10-01      12\n",
              "5  1997-10-06      12\n",
              "6  1998-05-22      12\n",
              "7  1998-10-22      11\n",
              "8  2000-03-20      11\n",
              "9  2000-10-10      11\n",
              "10 2001-08-07      11\n",
              "11 2003-12-16      11\n",
              "12 2004-08-23      11\n",
              "13 2005-02-02      12\n",
              "14 2006-04-19      12\n",
              "15 2007-01-30      13\n",
              "16 2009-02-24      13\n",
              "17 2010-03-18      13\n",
              "18 2012-04-25      13\n",
              "19 2014-09-26      13"
            ]
          },
          "execution_count": 9,
          "metadata": {},
          "output_type": "execute_result"
        }
      ]
    },
    {
      "cell_type": "markdown",
      "metadata": {
        "id": "91231b76"
      },
      "source": [
        "# 7. Model Building \n"
      ],
      "id": "91231b76"
    },
    {
      "cell_type": "markdown",
      "metadata": {
        "id": "da12c038"
      },
      "source": [
        "# Bayes Classification"
      ],
      "id": "da12c038"
    },
    {
      "cell_type": "code",
      "metadata": {
        "id": "29a3f1eb",
        "outputId": "db0460e8-91c4-4566-b394-1cf1e0be6896"
      },
      "source": [
        "import pandas as pd\n",
        "from sklearn.model_selection import train_test_split\n",
        "from sklearn.naive_bayes import GaussianNB\n",
        "from matplotlib import pyplot as plt\n",
        "from sklearn.metrics import accuracy_score\n",
        "from sklearn.metrics import confusion_matrix\n",
        "\n",
        "\n",
        "\n",
        "\n",
        "\n",
        "my_sheet = 'S&P rating' # change it to your sheet name, you can find your sheet name at the bottom left of your excel file\n",
        "file_name = 'fresh-data-1.xlsx' # change it to the name of your excel file\n",
        "df = pd.read_excel(file_name, sheet_name = my_sheet)\n",
        "df.head()\n",
        "\n",
        "\n",
        "\n",
        "\n",
        "\n",
        "\n",
        "df.drop([\"Country\",\"Agency\",\"Date_of_Rating\",\"No_of_Months\",\"Start_Date\"],axis='columns',inplace=True)\n",
        "#droping all unnecessary attributes\n",
        "df.head()\n",
        "\n",
        "\n",
        "\n",
        "\n",
        "iso_code=df[\"ISOcode\"].unique() #different iso_code\n",
        "print(len(iso_code))\n",
        "dit=dict.fromkeys(iso_code,[])\n",
        "for index,row in df.iterrows():\n",
        "  dit[row[\"ISOcode\"]]=dit.get(row[\"ISOcode\"],0)+[index]\n",
        "print(dit) # map with country as key and list of indices from dataset as values\n",
        "\n",
        "\n",
        "\n",
        "\n",
        "\n",
        "dummies = pd.get_dummies(df.Outlook)\n",
        "su = dummies.rename(columns={dummies.columns[1]: 'new',dummies.columns[3]: 'new1'})\n",
        "su.drop([\"new\",\"new1\"],axis='columns',inplace=True)\n",
        "su.head()\n",
        "\n",
        "\n",
        "\n",
        "\n",
        "df = pd.concat([df,su],axis='columns') # changing outlook attribute ategorical value to binary values with new attribute NEgative, Positive and stable\n",
        "df.head(3)\n",
        "\n",
        "\n",
        "\n",
        "df.drop(['Outlook',\"Rating\"],axis='columns',inplace=True)\n",
        "df = df.rename(columns={df.columns[1]: 'Rating'})\n",
        "df.head(3)\n",
        "\n",
        "\n",
        "\n",
        "\n",
        "df.Rating = df.Rating.fillna(10)\n",
        "target=df[\"Rating\"]\n",
        "df.drop([\"Rating\",],axis='columns',inplace=True)\n",
        "df2=df.copy()\n",
        "df2.drop([\"ISOcode\"],axis='columns',inplace=True)\n",
        "df2.head()\n",
        "\n",
        "\n",
        "\n",
        "count=0\n",
        "#iso_code=[\"AND\"]\n",
        "original_values=[]\n",
        "predicted_values=[]\n",
        "map=dict.fromkeys(iso_code,{\"original_values\":[],\"predicted_values\":[]})\n",
        "for key,value in dit.items():\n",
        "  if len(value)>4:\n",
        "   count+=1\n",
        "   #print(key)\n",
        "   temp_df=df2[value[1]:value[-1]+1]\n",
        "   #print(temp_df)\n",
        "   temp_df=temp_df.astype('int')\n",
        "   temp_target=target[value[1]:value[-1]+1]\n",
        "   #print(temp_target)\n",
        "   try:\n",
        "     temp_target.replace({\"SD\":1}, inplace=True)\n",
        "   except:\n",
        "     pass\n",
        "   temp_target=temp_target.astype('int')\n",
        "   X_train, X_test, y_train, y_test = train_test_split(temp_df,temp_target,test_size=0.2)\n",
        "   model = GaussianNB()\n",
        "   model.fit(X_train,y_train)\n",
        "   model.score(X_test,y_test)\n",
        "   predicted_value=model.predict(X_test[:10])\n",
        "   predicted_values+=predicted_value.tolist()\n",
        "   #print(value)\n",
        "   original_value=y_test.tolist()\n",
        "   original_values+=original_value\n",
        "   #print(original_value)\n",
        "   map[key][\"original_values\"]=original_value\n",
        "   map[key][\"predicted_values\"]=predicted_value\n",
        "print(count)\n",
        "print(len(predicted_values))\n",
        "print(len(original_values))\n",
        "print(map)\n",
        "\n",
        "\n",
        "\n",
        "\n",
        "x_points=[i for i in range(len(original_values))]\n",
        "plt.plot(x_points,original_values,\n",
        "         x_points,predicted_values)\n",
        "\n",
        "\n",
        "\n",
        "\n",
        "print(\"Accuracy score:\",accuracy_score(original_values,predicted_values,))\n",
        "print(confusion_matrix(original_values,predicted_values,))"
      ],
      "id": "29a3f1eb",
      "execution_count": null,
      "outputs": [
        {
          "name": "stdout",
          "output_type": "stream",
          "text": [
            "131\n",
            "{'ALB': [0, 1, 2, 3, 4], 'AND': [5, 6, 7, 8, 9, 10, 11, 12, 13, 14, 15, 16, 17, 18, 19], 'AGO': [20, 21, 22, 23, 24, 25, 26, 27, 28], 'ARG': [29, 30, 31, 32, 33, 34, 35, 36, 37, 38, 39, 40, 41, 42, 43, 44, 45, 46, 47, 48, 49, 50, 51, 52, 53, 54, 55, 56, 57, 58, 59, 60, 61, 62, 63, 64], 'ABW': [65, 66, 67, 68, 69, 70, 71, 72, 73, 74], 'AUS': [75, 76, 77, 78, 79, 80, 81, 82, 83, 84, 85, 86, 87], 'AUT': [88, 89, 90, 91, 92], 'AZE': [93, 94, 95, 96, 97, 98, 99, 100, 101], 'BHS': [102, 103, 104, 105, 106, 107, 108, 109, 110, 111, 112, 113, 114], 'BHR': [115, 116, 117, 118, 119, 120, 121, 122, 123, 124, 125, 126, 127, 128, 129, 130], 'BGD': [131], 'BRB': [132, 133, 134, 135, 136, 137, 138, 139, 140, 141, 142, 143, 144, 145, 146, 147, 148, 149, 150], 'BLR': [151, 152, 153, 154, 155, 156, 157, 158, 159, 160], 'BEL': [161, 162, 163, 164, 165, 166, 167, 168], 'BLZ': [169, 170, 171, 172, 173, 174, 175, 176, 177, 178, 179, 180, 181, 182, 183, 184, 185, 186, 187, 188, 189, 190, 191, 192, 193, 194, 195, 196, 197, 198, 199, 200, 201], 'BEN': [202, 203, 204], 'BMU': [205, 206, 207, 208, 209, 210], 'BOL': [211, 212, 213, 214, 215, 216, 217, 218, 219], 'BIH': [220, 221, 222, 223, 224, 225], 'BWA': [226, 227, 228, 229, 230, 231, 232], 'BRA': [233, 234, 235, 236, 237, 238, 239, 240, 241, 242, 243, 244, 245, 246, 247, 248, 249, 250, 251, 252, 253, 254, 255, 256, 257, 258, 259, 260, 261, 262, 263], 'BGR': [264, 265, 266, 267, 268, 269, 270, 271, 272, 273, 274, 275, 276, 277, 278, 279, 280, 281, 282, 283], 'BFA': [284, 285, 286, 287, 288, 289, 290], 'KHM': [291, 292], 'CMR': [293, 294, 295, 296, 297, 298], 'CAN': [299, 300, 301, 302, 303, 304, 305], 'CPV': [306, 307, 308, 309, 310, 311, 312, 313, 314, 315, 316], 'CHL': [317, 318, 319, 320, 321, 322, 323, 324, 325, 326, 327, 328, 329], 'CHN': [330, 331, 332, 333, 334, 335, 336, 337, 338, 339, 340, 341, 342, 343], 'COL': [344, 345, 346, 347, 348, 349, 350, 351, 352, 353, 354, 355, 356, 357, 358, 359, 360, 361], 'COK': [362, 363, 364, 365, 366], 'CRI': [367, 368, 369, 370, 371, 372, 373, 374, 375, 376], 'HRV': [377, 378, 379, 380, 381, 382, 383, 384, 385, 386, 387, 388, 389, 390, 391, 392], 'CYP': [393, 394, 395, 396, 397, 398, 399, 400, 401, 402, 403, 404, 405, 406, 407, 408, 409, 410, 411, 412, 413, 414, 415, 416, 417, 418, 419, 420], 'CZE': [421, 422, 423, 424, 425, 426, 427, 428], 'DNK': [429, 430, 431, 432, 433, 434, 435, 436], 'DOM': [437, 438, 439], 'ECU': [440, 441, 442, 443, 444, 445, 446, 447, 448, 449, 450, 451, 452, 453, 454, 455, 456, 457, 458, 459, 460, 461, 462, 463, 464, 465, 466], 'EGY': [467, 468, 469, 470, 471, 472, 473, 474, 475, 476, 477, 478, 479, 480, 481, 482, 483, 484, 485, 486, 487], 'SLV': [488, 489, 490, 491, 492, 493, 494, 495, 496, 497, 498, 499, 500, 501, 502, 503, 504], 'EST': [505, 506, 507, 508, 509, 510, 511, 512, 513, 514, 515, 516, 517, 518, 519, 520, 521, 522, 523, 524], 'ETH': [525, 526, 527], 'FJI': [528, 529, 530, 531, 532, 533, 534, 535, 536, 537, 538, 539, 540, 541], 'FIN': [542, 543, 544, 545, 546, 547, 548, 549, 550, 551, 552, 553, 554, 555, 556, 557, 558, 559, 560], 'FRA': [561, 562, 563, 564, 565, 566, 567], 'GAB': [568, 569, 570], 'GEO': [571, 572, 573, 574, 575, 576, 577, 578, 579, 580, 581, 582], 'DEU': [583, 584, 585, 586], 'GHA': [587, 588, 589, 590, 591, 592, 593, 594, 595, 596], 'GRC': [597, 598, 599, 600, 601, 602, 603, 604, 605, 606, 607, 608, 609, 610, 611, 612, 613, 614, 615, 616, 617, 618, 619, 620, 621, 622, 623, 624, 625, 626, 627, 628, 629, 630], 'GRD': [631], 'GTM': [632, 633, 634, 635, 636, 637, 638, 639, 640, 641, 642, 643], 'HND': [644, 645, 646, 647, 648, 649, 650, 651, 652, 653], 'HKG': [654, 655, 656, 657, 658, 659, 660, 661, 662, 663, 664, 665, 666, 667, 668, 669, 670, 671, 672, 673, 674, 675], 'HUN': [676, 677, 678, 679, 680, 681, 682, 683, 684, 685, 686, 687, 688, 689, 690, 691, 692, 693, 694, 695, 696, 697, 698, 699, 700, 701, 702, 703, 704], 'ISL': [705, 706, 707, 708, 709, 710, 711, 712, 713, 714, 715, 716, 717, 718, 719, 720, 721, 722, 723, 724, 725, 726, 727, 728, 729, 730, 731, 732, 733, 734], 'IND': [735, 736, 737, 738, 739, 740, 741, 742, 743, 744, 745, 746, 747, 748, 749, 750, 751, 752, 753, 754], 'IDN': [755, 756, 757, 758, 759, 760, 761, 762, 763, 764, 765, 766, 767, 768, 769, 770, 771, 772, 773, 774, 775, 776, 777, 778, 779, 780, 781, 782, 783, 784, 785, 786, 787, 788, 789], 'IRQ': [790], 'ISR': [791, 792, 793, 794, 795, 796, 797, 798, 799, 800, 801, 802, 803, 804, 805, 806, 807, 808, 809, 810, 811, 812, 813, 814, 815, 816, 817, 818, 819, 820, 821, 822, 823, 824, 825, 826, 827, 828, 829], 'ITA': [830, 831, 832, 833, 834, 835, 836, 837, 838, 839, 840, 841, 842, 843, 844, 845, 846, 847, 848, 849], 'CIV': [850], 'JAM': [851, 852, 853, 854, 855, 856, 857, 858, 859, 860, 861, 862, 863, 864, 865, 866, 867, 868, 869, 870, 871, 872, 873], 'JPN': [874, 875, 876, 877, 878, 879, 880, 881, 882, 883, 884, 885, 886, 887, 888, 889], 'JOR': [890, 891, 892, 893, 894, 895, 896, 897, 898, 899, 900, 901], 'KAZ': [902, 903, 904, 905, 906, 907, 908, 909, 910, 911, 912, 913, 914, 915, 916, 917, 918, 919, 920], 'KEN': [921, 922, 923, 924, 925, 926, 927, 928, 929], 'KWT': [930, 931, 932, 933, 934, 935, 936], 'KGZ': [937], 'LVA': [938, 939, 940, 941, 942, 943, 944, 945, 946, 947, 948, 949, 950, 951, 952, 953, 954, 955, 956, 957, 958], 'LBN': [959, 960, 961, 962, 963, 964, 965, 966, 967, 968, 969, 970, 971, 972, 973, 974, 975, 976, 977, 978, 979, 980, 981, 982, 983], 'LIE': [984, 985], 'LTU': [986, 987, 988, 989, 990, 991, 992, 993, 994, 995, 996, 997, 998, 999, 1000, 1001, 1002, 1003, 1004], 'LUX': [1005, 1006, 1007, 1008], 'MKD': [1009, 1010, 1011, 1012, 1013, 1014], 'MYS': [1015, 1016, 1017, 1018, 1019, 1020, 1021, 1022, 1023, 1024, 1025, 1026, 1027, 1028, 1029, 1030, 1031, 1032, 1033, 1034, 1035, 1036, 1037], 'MLT': [1038, 1039, 1040, 1041, 1042, 1043, 1044, 1045, 1046, 1047, 1048, 1049], 'MEX': [1050, 1051, 1052, 1053, 1054, 1055, 1056, 1057, 1058, 1059, 1060, 1061, 1062, 1063, 1064, 1065, 1066, 1067, 1068, 1069, 1070, 1071, 1072], 'MNG': [1073, 1074, 1075, 1076, 1077, 1078, 1079, 1080, 1081, 1082, 1083, 1084, 1085, 1086, 1087, 1088], 'MNE': [1089, 1090, 1091, 1092, 1093, 1094, 1095, 1096, 1097, 1098, 1099], 'MAR': [1100, 1101, 1102, 1103, 1104, 1105, 1106, 1107, 1108, 1109, 1110, 1111, 1112, 1113], 'MOZ': [1114, 1115, 1116, 1117, 1118, 1119, 1120, 1121, 1122, 1123, 1124, 1125, 1126, 1127], 'NLD': [1128, 1129, 1130, 1131, 1132, 1133, 1134], 'NZL': [1135, 1136, 1137, 1138, 1139, 1140, 1141, 1142, 1143, 1144, 1145, 1146, 1147, 1148, 1149, 1150, 1151], 'NIC': [1152, 1153, 1154, 1155, 1156], 'NGA': [1157, 1158, 1159, 1160, 1161, 1162, 1163, 1164, 1165, 1166, 1167, 1168, 1169], 'NOR': [1170, 1171, 1172, 1173], 'OMN': [1174, 1175, 1176, 1177, 1178, 1179, 1180, 1181, 1182, 1183, 1184, 1185, 1186, 1187, 1188, 1189, 1190, 1191, 1192, 1193], 'PAK': [1194, 1195, 1196, 1197, 1198, 1199, 1200, 1201, 1202, 1203, 1204, 1205, 1206, 1207, 1208, 1209, 1210, 1211, 1212, 1213, 1214, 1215, 1216, 1217], 'PAN': [1218, 1219, 1220, 1221, 1222, 1223, 1224, 1225, 1226, 1227, 1228, 1229, 1230, 1231, 1232, 1233], 'PNG': [1234, 1235, 1236, 1237, 1238, 1239, 1240, 1241, 1242, 1243, 1244, 1245, 1246, 1247, 1248, 1249, 1250, 1251], 'PRY': [1252, 1253, 1254, 1255, 1256, 1257, 1258, 1259, 1260, 1261, 1262, 1263, 1264, 1265, 1266, 1267], 'PER': [1268, 1269, 1270, 1271, 1272, 1273, 1274, 1275, 1276, 1277, 1278, 1279, 1280, 1281, 1282, 1283], 'PHI': [1284, 1285, 1286, 1287, 1288, 1289, 1290, 1291, 1292, 1293, 1294, 1295, 1296, 1297, 1298, 1299, 1300, 1301, 1302, 1303, 1304, 1305], 'POL': [1306, 1307, 1308, 1309, 1310, 1311, 1312, 1313, 1314, 1315, 1316, 1317, 1318, 1319, 1320, 1321, 1322, 1323, 1324], 'PRT': [1325, 1326, 1327, 1328, 1329, 1330, 1331, 1332, 1333, 1334, 1335, 1336, 1337, 1338, 1339, 1340, 1341, 1342, 1343, 1344, 1345, 1346, 1347, 1348, 1349, 1350, 1351, 1352, 1353, 1354], 'PRI': [1355], 'QAT': [1356, 1357, 1358, 1359, 1360, 1361, 1362, 1363, 1364, 1365, 1366, 1367], 'ROU': [1368, 1369, 1370, 1371, 1372, 1373, 1374, 1375, 1376, 1377, 1378], 'ROM': [1379, 1380, 1381, 1382, 1383, 1384, 1385, 1386, 1387, 1388, 1389, 1390, 1391, 1392, 1393, 1394, 1395, 1396, 1397, 1398, 1399, 1400], 'RUS': [1401, 1402, 1403, 1404, 1405, 1406, 1407, 1408, 1409, 1410, 1411, 1412, 1413, 1414, 1415, 1416, 1417, 1418, 1419, 1420, 1421, 1422, 1423, 1424, 1425, 1426, 1427, 1428, 1429, 1430, 1431], 'RWA': [1432, 1433, 1434, 1435, 1436, 1437, 1438, 1439, 1440], 'SAU': [1441, 1442, 1443, 1444, 1445, 1446, 1447, 1448, 1449], 'SEN': [1450, 1451, 1452, 1453, 1454, 1455, 1456], 'SRB': [1457, 1458, 1459, 1460, 1461, 1462, 1463, 1464, 1465, 1466, 1467, 1468, 1469, 1470, 1471, 1472], 'SGP': [1473, 1474, 1475, 1476], 'SVK': [1477, 1478, 1479, 1480, 1481, 1482, 1483, 1484, 1485, 1486, 1487, 1488, 1489, 1490, 1491, 1492, 1493, 1494, 1495, 1496, 1497], 'ZAF': [1498, 1499, 1500, 1501, 1502, 1503, 1504, 1505, 1506, 1507, 1508, 1509, 1510, 1511, 1512, 1513], 'KOR': [1514, 1515, 1516, 1517, 1518, 1519, 1520, 1521, 1522, 1523, 1524, 1525, 1526, 1527, 1528, 1529, 1530, 1531, 1532, 1533, 1534, 1535], 'ESP': [1536, 1537, 1538, 1539, 1540, 1541, 1542, 1543, 1544, 1545, 1546, 1547, 1548, 1549, 1550, 1551, 1552, 1553, 1554, 1555, 1556, 1557, 1558], 'LKA': [1559, 1560, 1561, 1562, 1563, 1564, 1565, 1566, 1567, 1568, 1569, 1570, 1571, 1572, 1573, 1574, 1575], 'SUR': [1576, 1577, 1578, 1579, 1580, 1581, 1582, 1583, 1584, 1585, 1586, 1587, 1588, 1589, 1590, 1591, 1592, 1593, 1594, 1595, 1596], 'SWE': [1597, 1598, 1599, 1600, 1601, 1602, 1603, 1604, 1605], 'CHE': [1606, 1607], 'TWN': [1608, 1609, 1610, 1611, 1612, 1613, 1614, 1615, 1616, 1617, 1618], 'TJK': [1619], 'THA': [1620, 1621, 1622, 1623, 1624, 1625, 1626, 1627, 1628, 1629, 1630, 1631, 1632, 1633, 1634, 1635, 1636, 1637, 1638, 1639], 'TGO ': [1640], 'TTO': [1641, 1642, 1643, 1644, 1645, 1646, 1647, 1648, 1649, 1650, 1651, 1652, 1653, 1654, 1655, 1656], 'TUN': [1657, 1658, 1659, 1660, 1661, 1662, 1663, 1664], 'TUR': [1665, 1666, 1667, 1668, 1669, 1670, 1671, 1672, 1673, 1674, 1675, 1676, 1677, 1678, 1679, 1680, 1681, 1682, 1683, 1684, 1685, 1686, 1687, 1688, 1689, 1690, 1691, 1692, 1693, 1694, 1695, 1696, 1697, 1698, 1699, 1700, 1701, 1702, 1703, 1704], 'UGA': [1705, 1706, 1707], 'UKR': [1708, 1709, 1710, 1711, 1712, 1713, 1714, 1715, 1716, 1717, 1718, 1719, 1720, 1721, 1722, 1723, 1724, 1725, 1726, 1727, 1728, 1729, 1730, 1731, 1732, 1733, 1734, 1735, 1736, 1737], 'ARE': [1738], 'GBR': [1739, 1740, 1741, 1742, 1743, 1744, 1745, 1746, 1747], 'USA': [1748, 1749, 1750, 1751], 'URY': [1752, 1753, 1754, 1755, 1756], 'UZB': [1757, 1758, 1759], 'VEN': [1760, 1761, 1762, 1763, 1764, 1765, 1766, 1767, 1768, 1769, 1770, 1771, 1772, 1773, 1774, 1775, 1776, 1777, 1778, 1779, 1780, 1781, 1782, 1783, 1784, 1785, 1786, 1787, 1788, 1789, 1790, 1791, 1792, 1793, 1794, 1795, 1796, 1797, 1798, 1799, 1800, 1801, 1802], 'VNM': [1803, 1804, 1805, 1806, 1807], 'ZMB': [1808, 1809, 1810, 1811, 1812, 1813, 1814, 1815, 1816, 1817, 1818]}\n"
          ]
        },
        {
          "name": "stderr",
          "output_type": "stream",
          "text": [
            "c:\\users\\asaro\\appdata\\local\\programs\\python\\python37\\lib\\site-packages\\sklearn\\naive_bayes.py:452: RuntimeWarning:\n",
            "\n",
            "divide by zero encountered in log\n",
            "\n",
            "c:\\users\\asaro\\appdata\\local\\programs\\python\\python37\\lib\\site-packages\\sklearn\\naive_bayes.py:454: RuntimeWarning:\n",
            "\n",
            "divide by zero encountered in true_divide\n",
            "\n",
            "c:\\users\\asaro\\appdata\\local\\programs\\python\\python37\\lib\\site-packages\\sklearn\\naive_bayes.py:454: RuntimeWarning:\n",
            "\n",
            "invalid value encountered in true_divide\n",
            "\n",
            "c:\\users\\asaro\\appdata\\local\\programs\\python\\python37\\lib\\site-packages\\sklearn\\naive_bayes.py:452: RuntimeWarning:\n",
            "\n",
            "divide by zero encountered in log\n",
            "\n",
            "c:\\users\\asaro\\appdata\\local\\programs\\python\\python37\\lib\\site-packages\\sklearn\\naive_bayes.py:454: RuntimeWarning:\n",
            "\n",
            "divide by zero encountered in true_divide\n",
            "\n",
            "c:\\users\\asaro\\appdata\\local\\programs\\python\\python37\\lib\\site-packages\\sklearn\\naive_bayes.py:454: RuntimeWarning:\n",
            "\n",
            "invalid value encountered in true_divide\n",
            "\n",
            "c:\\users\\asaro\\appdata\\local\\programs\\python\\python37\\lib\\site-packages\\sklearn\\naive_bayes.py:452: RuntimeWarning:\n",
            "\n",
            "divide by zero encountered in log\n",
            "\n",
            "c:\\users\\asaro\\appdata\\local\\programs\\python\\python37\\lib\\site-packages\\sklearn\\naive_bayes.py:454: RuntimeWarning:\n",
            "\n",
            "divide by zero encountered in true_divide\n",
            "\n",
            "c:\\users\\asaro\\appdata\\local\\programs\\python\\python37\\lib\\site-packages\\sklearn\\naive_bayes.py:454: RuntimeWarning:\n",
            "\n",
            "invalid value encountered in true_divide\n",
            "\n",
            "c:\\users\\asaro\\appdata\\local\\programs\\python\\python37\\lib\\site-packages\\sklearn\\naive_bayes.py:452: RuntimeWarning:\n",
            "\n",
            "divide by zero encountered in log\n",
            "\n",
            "c:\\users\\asaro\\appdata\\local\\programs\\python\\python37\\lib\\site-packages\\sklearn\\naive_bayes.py:454: RuntimeWarning:\n",
            "\n",
            "divide by zero encountered in true_divide\n",
            "\n",
            "c:\\users\\asaro\\appdata\\local\\programs\\python\\python37\\lib\\site-packages\\sklearn\\naive_bayes.py:454: RuntimeWarning:\n",
            "\n",
            "invalid value encountered in true_divide\n",
            "\n"
          ]
        },
        {
          "name": "stdout",
          "output_type": "stream",
          "text": [
            "108\n",
            "371\n",
            "371\n",
            "{'ALB': {'original_values': [7, 9], 'predicted_values': array([4, 4])}, 'AND': {'original_values': [7, 9], 'predicted_values': array([4, 4])}, 'AGO': {'original_values': [7, 9], 'predicted_values': array([4, 4])}, 'ARG': {'original_values': [7, 9], 'predicted_values': array([4, 4])}, 'ABW': {'original_values': [7, 9], 'predicted_values': array([4, 4])}, 'AUS': {'original_values': [7, 9], 'predicted_values': array([4, 4])}, 'AUT': {'original_values': [7, 9], 'predicted_values': array([4, 4])}, 'AZE': {'original_values': [7, 9], 'predicted_values': array([4, 4])}, 'BHS': {'original_values': [7, 9], 'predicted_values': array([4, 4])}, 'BHR': {'original_values': [7, 9], 'predicted_values': array([4, 4])}, 'BGD': {'original_values': [7, 9], 'predicted_values': array([4, 4])}, 'BRB': {'original_values': [7, 9], 'predicted_values': array([4, 4])}, 'BLR': {'original_values': [7, 9], 'predicted_values': array([4, 4])}, 'BEL': {'original_values': [7, 9], 'predicted_values': array([4, 4])}, 'BLZ': {'original_values': [7, 9], 'predicted_values': array([4, 4])}, 'BEN': {'original_values': [7, 9], 'predicted_values': array([4, 4])}, 'BMU': {'original_values': [7, 9], 'predicted_values': array([4, 4])}, 'BOL': {'original_values': [7, 9], 'predicted_values': array([4, 4])}, 'BIH': {'original_values': [7, 9], 'predicted_values': array([4, 4])}, 'BWA': {'original_values': [7, 9], 'predicted_values': array([4, 4])}, 'BRA': {'original_values': [7, 9], 'predicted_values': array([4, 4])}, 'BGR': {'original_values': [7, 9], 'predicted_values': array([4, 4])}, 'BFA': {'original_values': [7, 9], 'predicted_values': array([4, 4])}, 'KHM': {'original_values': [7, 9], 'predicted_values': array([4, 4])}, 'CMR': {'original_values': [7, 9], 'predicted_values': array([4, 4])}, 'CAN': {'original_values': [7, 9], 'predicted_values': array([4, 4])}, 'CPV': {'original_values': [7, 9], 'predicted_values': array([4, 4])}, 'CHL': {'original_values': [7, 9], 'predicted_values': array([4, 4])}, 'CHN': {'original_values': [7, 9], 'predicted_values': array([4, 4])}, 'COL': {'original_values': [7, 9], 'predicted_values': array([4, 4])}, 'COK': {'original_values': [7, 9], 'predicted_values': array([4, 4])}, 'CRI': {'original_values': [7, 9], 'predicted_values': array([4, 4])}, 'HRV': {'original_values': [7, 9], 'predicted_values': array([4, 4])}, 'CYP': {'original_values': [7, 9], 'predicted_values': array([4, 4])}, 'CZE': {'original_values': [7, 9], 'predicted_values': array([4, 4])}, 'DNK': {'original_values': [7, 9], 'predicted_values': array([4, 4])}, 'DOM': {'original_values': [7, 9], 'predicted_values': array([4, 4])}, 'ECU': {'original_values': [7, 9], 'predicted_values': array([4, 4])}, 'EGY': {'original_values': [7, 9], 'predicted_values': array([4, 4])}, 'SLV': {'original_values': [7, 9], 'predicted_values': array([4, 4])}, 'EST': {'original_values': [7, 9], 'predicted_values': array([4, 4])}, 'ETH': {'original_values': [7, 9], 'predicted_values': array([4, 4])}, 'FJI': {'original_values': [7, 9], 'predicted_values': array([4, 4])}, 'FIN': {'original_values': [7, 9], 'predicted_values': array([4, 4])}, 'FRA': {'original_values': [7, 9], 'predicted_values': array([4, 4])}, 'GAB': {'original_values': [7, 9], 'predicted_values': array([4, 4])}, 'GEO': {'original_values': [7, 9], 'predicted_values': array([4, 4])}, 'DEU': {'original_values': [7, 9], 'predicted_values': array([4, 4])}, 'GHA': {'original_values': [7, 9], 'predicted_values': array([4, 4])}, 'GRC': {'original_values': [7, 9], 'predicted_values': array([4, 4])}, 'GRD': {'original_values': [7, 9], 'predicted_values': array([4, 4])}, 'GTM': {'original_values': [7, 9], 'predicted_values': array([4, 4])}, 'HND': {'original_values': [7, 9], 'predicted_values': array([4, 4])}, 'HKG': {'original_values': [7, 9], 'predicted_values': array([4, 4])}, 'HUN': {'original_values': [7, 9], 'predicted_values': array([4, 4])}, 'ISL': {'original_values': [7, 9], 'predicted_values': array([4, 4])}, 'IND': {'original_values': [7, 9], 'predicted_values': array([4, 4])}, 'IDN': {'original_values': [7, 9], 'predicted_values': array([4, 4])}, 'IRQ': {'original_values': [7, 9], 'predicted_values': array([4, 4])}, 'ISR': {'original_values': [7, 9], 'predicted_values': array([4, 4])}, 'ITA': {'original_values': [7, 9], 'predicted_values': array([4, 4])}, 'CIV': {'original_values': [7, 9], 'predicted_values': array([4, 4])}, 'JAM': {'original_values': [7, 9], 'predicted_values': array([4, 4])}, 'JPN': {'original_values': [7, 9], 'predicted_values': array([4, 4])}, 'JOR': {'original_values': [7, 9], 'predicted_values': array([4, 4])}, 'KAZ': {'original_values': [7, 9], 'predicted_values': array([4, 4])}, 'KEN': {'original_values': [7, 9], 'predicted_values': array([4, 4])}, 'KWT': {'original_values': [7, 9], 'predicted_values': array([4, 4])}, 'KGZ': {'original_values': [7, 9], 'predicted_values': array([4, 4])}, 'LVA': {'original_values': [7, 9], 'predicted_values': array([4, 4])}, 'LBN': {'original_values': [7, 9], 'predicted_values': array([4, 4])}, 'LIE': {'original_values': [7, 9], 'predicted_values': array([4, 4])}, 'LTU': {'original_values': [7, 9], 'predicted_values': array([4, 4])}, 'LUX': {'original_values': [7, 9], 'predicted_values': array([4, 4])}, 'MKD': {'original_values': [7, 9], 'predicted_values': array([4, 4])}, 'MYS': {'original_values': [7, 9], 'predicted_values': array([4, 4])}, 'MLT': {'original_values': [7, 9], 'predicted_values': array([4, 4])}, 'MEX': {'original_values': [7, 9], 'predicted_values': array([4, 4])}, 'MNG': {'original_values': [7, 9], 'predicted_values': array([4, 4])}, 'MNE': {'original_values': [7, 9], 'predicted_values': array([4, 4])}, 'MAR': {'original_values': [7, 9], 'predicted_values': array([4, 4])}, 'MOZ': {'original_values': [7, 9], 'predicted_values': array([4, 4])}, 'NLD': {'original_values': [7, 9], 'predicted_values': array([4, 4])}, 'NZL': {'original_values': [7, 9], 'predicted_values': array([4, 4])}, 'NIC': {'original_values': [7, 9], 'predicted_values': array([4, 4])}, 'NGA': {'original_values': [7, 9], 'predicted_values': array([4, 4])}, 'NOR': {'original_values': [7, 9], 'predicted_values': array([4, 4])}, 'OMN': {'original_values': [7, 9], 'predicted_values': array([4, 4])}, 'PAK': {'original_values': [7, 9], 'predicted_values': array([4, 4])}, 'PAN': {'original_values': [7, 9], 'predicted_values': array([4, 4])}, 'PNG': {'original_values': [7, 9], 'predicted_values': array([4, 4])}, 'PRY': {'original_values': [7, 9], 'predicted_values': array([4, 4])}, 'PER': {'original_values': [7, 9], 'predicted_values': array([4, 4])}, 'PHI': {'original_values': [7, 9], 'predicted_values': array([4, 4])}, 'POL': {'original_values': [7, 9], 'predicted_values': array([4, 4])}, 'PRT': {'original_values': [7, 9], 'predicted_values': array([4, 4])}, 'PRI': {'original_values': [7, 9], 'predicted_values': array([4, 4])}, 'QAT': {'original_values': [7, 9], 'predicted_values': array([4, 4])}, 'ROU': {'original_values': [7, 9], 'predicted_values': array([4, 4])}, 'ROM': {'original_values': [7, 9], 'predicted_values': array([4, 4])}, 'RUS': {'original_values': [7, 9], 'predicted_values': array([4, 4])}, 'RWA': {'original_values': [7, 9], 'predicted_values': array([4, 4])}, 'SAU': {'original_values': [7, 9], 'predicted_values': array([4, 4])}, 'SEN': {'original_values': [7, 9], 'predicted_values': array([4, 4])}, 'SRB': {'original_values': [7, 9], 'predicted_values': array([4, 4])}, 'SGP': {'original_values': [7, 9], 'predicted_values': array([4, 4])}, 'SVK': {'original_values': [7, 9], 'predicted_values': array([4, 4])}, 'ZAF': {'original_values': [7, 9], 'predicted_values': array([4, 4])}, 'KOR': {'original_values': [7, 9], 'predicted_values': array([4, 4])}, 'ESP': {'original_values': [7, 9], 'predicted_values': array([4, 4])}, 'LKA': {'original_values': [7, 9], 'predicted_values': array([4, 4])}, 'SUR': {'original_values': [7, 9], 'predicted_values': array([4, 4])}, 'SWE': {'original_values': [7, 9], 'predicted_values': array([4, 4])}, 'CHE': {'original_values': [7, 9], 'predicted_values': array([4, 4])}, 'TWN': {'original_values': [7, 9], 'predicted_values': array([4, 4])}, 'TJK': {'original_values': [7, 9], 'predicted_values': array([4, 4])}, 'THA': {'original_values': [7, 9], 'predicted_values': array([4, 4])}, 'TGO ': {'original_values': [7, 9], 'predicted_values': array([4, 4])}, 'TTO': {'original_values': [7, 9], 'predicted_values': array([4, 4])}, 'TUN': {'original_values': [7, 9], 'predicted_values': array([4, 4])}, 'TUR': {'original_values': [7, 9], 'predicted_values': array([4, 4])}, 'UGA': {'original_values': [7, 9], 'predicted_values': array([4, 4])}, 'UKR': {'original_values': [7, 9], 'predicted_values': array([4, 4])}, 'ARE': {'original_values': [7, 9], 'predicted_values': array([4, 4])}, 'GBR': {'original_values': [7, 9], 'predicted_values': array([4, 4])}, 'USA': {'original_values': [7, 9], 'predicted_values': array([4, 4])}, 'URY': {'original_values': [7, 9], 'predicted_values': array([4, 4])}, 'UZB': {'original_values': [7, 9], 'predicted_values': array([4, 4])}, 'VEN': {'original_values': [7, 9], 'predicted_values': array([4, 4])}, 'VNM': {'original_values': [7, 9], 'predicted_values': array([4, 4])}, 'ZMB': {'original_values': [7, 9], 'predicted_values': array([4, 4])}}\n",
            "Accuracy score: 0.14285714285714285\n",
            "[[3 0 0 0 0 2 0 1 1 1 0 0 0 0 0 0 0 0 0 0 0]\n",
            " [0 1 0 0 0 0 0 0 0 0 0 0 0 0 0 0 0 0 0 0 0]\n",
            " [0 6 0 0 0 0 0 0 0 0 0 0 0 0 0 0 0 0 0 0 0]\n",
            " [0 2 0 0 1 0 0 0 0 0 0 0 0 0 0 0 0 0 0 0 0]\n",
            " [2 4 1 1 1 2 1 0 0 0 0 0 0 0 0 0 0 0 0 0 0]\n",
            " [8 4 1 3 4 2 5 1 4 0 0 0 0 0 0 0 0 0 0 0 0]\n",
            " [5 4 0 1 2 6 5 3 2 1 0 0 0 0 0 0 0 0 0 0 0]\n",
            " [4 2 1 0 3 0 6 7 4 2 0 1 0 0 0 0 0 0 0 0 0]\n",
            " [2 2 0 0 0 2 2 4 5 6 1 0 2 0 0 0 0 0 0 0 0]\n",
            " [0 1 0 1 0 0 1 5 7 5 2 3 1 0 1 1 0 0 0 0 0]\n",
            " [3 1 0 0 1 0 1 2 4 5 2 1 4 6 1 0 1 0 0 0 0]\n",
            " [1 0 0 0 0 0 1 2 3 3 3 0 2 1 2 1 1 0 0 0 0]\n",
            " [1 0 0 0 0 0 0 0 0 2 1 7 1 3 0 3 0 0 0 0 0]\n",
            " [0 2 0 0 0 1 0 1 0 1 0 2 5 1 8 3 1 0 0 0 0]\n",
            " [0 0 0 0 0 0 0 1 0 0 0 4 2 4 0 3 2 0 0 0 0]\n",
            " [0 0 0 0 0 0 0 1 1 0 1 0 1 5 3 2 6 2 0 0 0]\n",
            " [0 0 0 0 0 1 0 0 0 0 1 2 2 0 0 2 1 2 1 0 0]\n",
            " [0 0 0 0 0 0 0 0 0 0 0 0 1 0 2 3 2 2 1 1 1]\n",
            " [0 0 0 0 0 0 0 0 0 0 0 0 1 1 0 1 0 3 2 1 1]\n",
            " [0 0 0 0 0 0 0 0 0 0 0 0 2 0 1 0 0 1 1 5 3]\n",
            " [0 0 0 0 0 0 0 0 0 0 0 0 0 0 0 0 1 1 1 4 8]]\n"
          ]
        },
        {
          "data": {
            "image/png": "[encoded data removed]",
            "text/plain": [
              "<Figure size 432x288 with 1 Axes>"
            ]
          },
          "metadata": {
            "needs_background": "light"
          },
          "output_type": "display_data"
        }
      ]
    },
    {
      "cell_type": "markdown",
      "metadata": {
        "id": "6c4376b7"
      },
      "source": [
        "# Time Series Forcasting Model\n",
        "\n",
        "### Diffrent Types of time series model\n",
        "\n",
        "1. Autoregression Models (AR Models) \n",
        "2. Moving averages Models (MA Models)\n",
        "3. Autoregressive Moving Averages (ARMA Models)\n",
        "4. Autoregressive Integrated Moving Averages (ARIMA Models)\n",
        "\n",
        "### What is time series and why to use?\n",
        "\n",
        "- A time series is a set of observations taken at a specified time interval\n",
        "\n",
        "\n",
        "### Checking Stationarity\n",
        "- Constant Mean \n",
        "- Constant Variance \n",
        "- No Seasonality\n",
        "\n",
        "   If any time series data set satisfy above mentioned pionts then it is stationart and time series model can be used on it\n",
        "\n",
        "### Time Series Analysis can be used in:\n",
        "\n",
        "- Economic Forecasting\n",
        "- Sales Forecasting\n",
        "- Budgetary Analysis\n",
        "- Stock Market Analysis\n",
        "- Yield Projections\n",
        "- Inventory assessments\n",
        "- Workload projections\n",
        "- Demographics projections\n",
        "- Weather patterns and forecasts\n",
        "\n",
        "\n"
      ],
      "id": "6c4376b7"
    },
    {
      "cell_type": "markdown",
      "metadata": {
        "id": "4c85076c"
      },
      "source": [
        "# AR Model"
      ],
      "id": "4c85076c"
    },
    {
      "cell_type": "markdown",
      "metadata": {
        "id": "052741ad"
      },
      "source": [
        "### AutoRegression Model\n",
        "AR Model of order 1\n",
        "$$  \n",
        "         \\Upsilon_{t} = \\beta_{0}+ \\beta_{1}*\\Upsilon _{t-1}\n",
        "$$\n",
        "\n",
        "AR Model of order 2\n",
        "\n",
        "$$\n",
        "        \\Upsilon_{t} = \\beta_{0}+ \\beta_{1}*\\Upsilon _{t-1} + \\beta_{2}*\\Upsilon _{t-2}\n",
        "$$\n",
        "AR Model of order p\n",
        "\n",
        "$$\n",
        "        \\Upsilon_{t} = \\beta_{0}+ \\beta_{1}*\\Upsilon _{t-1} + \\beta_{2}*\\Upsilon _{t-2}  . . . . + \\beta_{p}*\\Upsilon _{t-p}\n",
        "$$\n",
        "\n",
        "\n",
        "- <B>Stationarity of the time-series data</B>: The stationarity of the data can be found using adfuller class of statsmodels.tsa.stattools module. The value of p-value is used to determine whether there is stationarity. If the value is less than 0.05, the stationarity exists.\n",
        "- <B>Order of AR model to be trained</B>: The order of AR model is determined by checking the partial autocorrelation plot. The plot_pacf method of statsmodels.graphics.tsaplots is used to plot."
      ],
      "id": "052741ad"
    },
    {
      "cell_type": "code",
      "metadata": {
        "id": "49785752",
        "outputId": "b6faff88-d70b-4898-e770-ec50f515d1ee"
      },
      "source": [
        "import pandas  as pd\n",
        "import numpy as np\n",
        "from matplotlib import pyplot\n",
        "from pandas.plotting import lag_plot\n",
        "from statsmodels.tsa.ar_model import AutoReg\n",
        "from statsmodels.graphics.tsaplots import plot_pacf,plot_acf\n",
        "from statsmodels.tsa.stattools import adfuller\n",
        "from sklearn.metrics import confusion_matrix\n",
        "\n",
        "\n",
        "my_sheet = 'S&P rating' # change it to your sheet name, you can find your sheet name at the bottom left of your excel file\n",
        "file_name = 'fresh-data-1.xlsx' # change it to the name of your excel file\n",
        "df = pd.read_excel(\"fresh-data-1.xlsx\", sheet_name = \"S&P rating\")\n",
        "df.head()\n",
        "\n",
        "\n",
        "\n",
        "\n",
        "iso_code=df[\"ISOcode\"].unique() #different iso_code\n",
        "# print(len(iso_code))\n",
        "dit=dict.fromkeys(iso_code,[]) \n",
        "# print(dit)\n",
        "for index,row in df.iterrows():\n",
        "  dit[row[\"ISOcode\"]]=dit.get(row[\"ISOcode\"],0)+[index]\n",
        "# print(dit) #indices for particalr country\n",
        "\n",
        "\n",
        "\n",
        "i = 0\n",
        "for key,value in dit.items():\n",
        "    try:\n",
        "        temp_target.replace({\"SD\":1}, inplace=True)\n",
        "    except:\n",
        "        pass\n",
        "    temp_df=df[value[0]:value[-1]+1]\n",
        "    #print(key)\n",
        "#     print(temp_df)\n",
        "    print(\"---------##########################----------\")\n",
        "    \n",
        "    \n",
        "\n",
        "    count_row = temp_df.shape[0]\n",
        "    i = count_row +i\n",
        "#     print(i)\n",
        "    \n",
        "    pcountry = temp_df.Country[i - 1]\n",
        "    pISOcode = temp_df.ISOcode[i - 1]\n",
        "    print(\"Number of data points of\", pcountry, \"are\", count_row)\n",
        "    if count_row > 6:\n",
        "        date_temp = temp_df.Date_of_Rating\n",
        "        rating_temp = temp_df.Numeric_Rating    \n",
        "    \n",
        "        rating = rating_temp.values\n",
        "#         print(rating)\n",
        "        rating = rating.reshape((count_row, 1))\n",
        "        print(rating)\n",
        "\n",
        "#         dftest = adfuller(temp_df[\"Numeric_Rating\"], autolag = \"AIC\")\n",
        "    \n",
        "        train = rating[:len(rating)-1]\n",
        "        model = AutoReg(train,lags=2).fit()\n",
        "        pred = model.predict(start=len(train), end=len(rating)-1, dynamic=False)\n",
        "        pred1 = np.ceil(pred)\n",
        "\n",
        "        print(\"Predicted S&P rating of\",pcountry, \"in next month is\" , pred1)\n",
        "\n",
        "            \n",
        "    if pISOcode == \"GRC\":\n",
        "        train = rating[:len(rating)-6]\n",
        "        test = rating[len(rating)-6:]\n",
        "        # print(train)\n",
        "        print(train)\n",
        "        model1 = AutoReg(train,lags=3).fit()\n",
        "        # print(model.summary())\n",
        "\n",
        "        pred_s = model.predict(start=len(train), end=len(rating)-1, dynamic=False)\n",
        "        pred1_s = np.ceil(pred_s)\n",
        "        pyplot.figure(figsize=(10, 6), dpi=70)\n",
        "        \n",
        "        pyplot.plot(pred1_s, \"ro\")\n",
        "        pyplot.plot(test, \"ro\" ,color = 'blue', )\n",
        "        \n",
        "        \n",
        "        pyplot.xlabel('Time', fontsize=20)\n",
        "        pyplot.ylabel('Numeric Rating', fontsize=20)\n",
        "        pyplot.title(pcountry, fontsize=20)\n",
        "        print(pred1_s)\n",
        "#         print(\"Hello Greece\")\n",
        "    \n",
        "    \n",
        "print(\"  \")\n",
        "print(\"  \")\n",
        "print(\"  \")\n",
        "print(\"  \")\n",
        "print(\"Actual points - Blue\")\n",
        "print(\"Predicted points - Red\")\n"
      ],
      "id": "49785752",
      "execution_count": null,
      "outputs": [
        {
          "name": "stdout",
          "output_type": "stream",
          "text": [
            "---------##########################----------\n",
            "Number of data points of Albania are 5\n",
            "---------##########################----------\n",
            "Number of data points of Andorra are 15\n",
            "[[19]\n",
            " [20]\n",
            " [20]\n",
            " [19]\n",
            " [18]\n",
            " [17]\n",
            " [16]\n",
            " [15]\n",
            " [14]\n",
            " [13]\n",
            " [13]\n",
            " [13]\n",
            " [14]\n",
            " [14]\n",
            " [14]]\n",
            "Predicted S&P rating of Andorra in next month is [14.]\n",
            "---------##########################----------\n",
            "Number of data points of Angola are 9\n",
            "[[ 9]\n",
            " [10]\n",
            " [ 9]\n",
            " [ 9]\n",
            " [ 8]\n",
            " [ 8]\n",
            " [ 7]\n",
            " [ 7]\n",
            " [ 6]]\n",
            "Predicted S&P rating of Angola in next month is [7.]\n",
            "---------##########################----------\n",
            "Number of data points of Argentina are 36\n",
            "[[11]\n",
            " [10]\n",
            " [10]\n",
            " [ 9]\n",
            " [ 8]\n",
            " [ 8]\n",
            " [ 7]\n",
            " [ 6]\n",
            " [ 3]\n",
            " [ 1]\n",
            " [ 7]\n",
            " [ 8]\n",
            " [ 9]\n",
            " [ 9]\n",
            " [ 8]\n",
            " [ 7]\n",
            " [ 8]\n",
            " [ 8]\n",
            " [ 7]\n",
            " [ 6]\n",
            " [ 4]\n",
            " [ 4]\n",
            " [ 1]\n",
            " [ 7]\n",
            " [ 8]\n",
            " [ 9]\n",
            " [ 9]\n",
            " [ 8]\n",
            " [ 7]\n",
            " [ 1]\n",
            " [ 4]\n",
            " [ 1]\n",
            " [ 3]\n",
            " [ 4]\n",
            " [ 1]\n",
            " [ 6]]\n",
            "Predicted S&P rating of Argentina in next month is [3.]\n",
            "---------##########################----------\n",
            "Number of data points of Aruba are 10\n",
            "[[16]\n",
            " [16]\n",
            " [16]\n",
            " [15]\n",
            " [15]\n",
            " [15]\n",
            " [15]\n",
            " [15]\n",
            " [15]\n",
            " [14]]\n",
            "Predicted S&P rating of Aruba in next month is [16.]\n",
            "---------##########################----------\n",
            "Number of data points of Australia are 13\n",
            "[[14]\n",
            " [22]\n",
            " [21]\n",
            " [21]\n",
            " [20]\n",
            " [20]\n",
            " [20]\n",
            " [21]\n",
            " [22]\n",
            " [22]\n",
            " [22]\n",
            " [22]\n",
            " [22]]\n",
            "Predicted S&P rating of Australia in next month is [22.]\n",
            "---------##########################----------\n",
            "Number of data points of Austria are 5\n",
            "---------##########################----------\n",
            "Number of data points of Azerbaijan are 9\n",
            "[[12]\n",
            " [12]\n",
            " [13]\n",
            " [13]\n",
            " [12]\n",
            " [12]\n",
            " [12]\n",
            " [12]\n",
            " [12]]\n",
            "Predicted S&P rating of Azerbaijan in next month is [13.]\n",
            "---------##########################----------\n",
            "Number of data points of Bahamas are 13\n",
            "[[16]\n",
            " [16]\n",
            " [16]\n",
            " [16]\n",
            " [15]\n",
            " [14]\n",
            " [14]\n",
            " [14]\n",
            " [13]\n",
            " [12]\n",
            " [12]\n",
            " [11]\n",
            " [10]]\n",
            "Predicted S&P rating of Bahamas in next month is [11.]\n",
            "---------##########################----------\n",
            "Number of data points of Bahrain are 16\n",
            "[[16]\n",
            " [16]\n",
            " [17]\n",
            " [16]\n",
            " [14]\n",
            " [14]\n",
            " [14]\n",
            " [14]\n",
            " [13]\n",
            " [11]\n",
            " [10]\n",
            " [10]\n",
            " [ 9]\n",
            " [ 9]\n",
            " [ 9]\n",
            " [ 9]]\n",
            "Predicted S&P rating of Bahrain in next month is [9.]\n",
            "---------##########################----------\n",
            "Number of data points of Bangladesh are 1\n",
            "---------##########################----------\n",
            "Number of data points of Barbados are 19\n",
            "[[16]\n",
            " [16]\n",
            " [15]\n",
            " [15]\n",
            " [15]\n",
            " [15]\n",
            " [14]\n",
            " [14]\n",
            " [13]\n",
            " [13]\n",
            " [12]\n",
            " [12]\n",
            " [10]\n",
            " [ 8]\n",
            " [ 7]\n",
            " [ 6]\n",
            " [ 1]\n",
            " [ 7]\n",
            " [ 7]]\n",
            "Predicted S&P rating of Barbados in next month is [-10.]\n",
            "---------##########################----------\n",
            "Number of data points of Belarus are 10\n",
            "[[9]\n",
            " [9]\n",
            " [8]\n",
            " [8]\n",
            " [7]\n",
            " [7]\n",
            " [7]\n",
            " [7]\n",
            " [8]\n",
            " [8]]\n",
            "Predicted S&P rating of Belarus in next month is [8.]\n",
            "---------##########################----------\n",
            "Number of data points of Belgium are 8\n",
            "[[21]\n",
            " [21]\n",
            " [21]\n",
            " [21]\n",
            " [20]\n",
            " [20]\n",
            " [20]\n",
            " [20]]\n",
            "Predicted S&P rating of Belgium in next month is [21.]\n",
            "---------##########################----------\n",
            "Number of data points of Belize are 33\n",
            "[[11]\n",
            " [10]\n",
            " [10]\n",
            " [ 9]\n",
            " [ 9]\n",
            " [ 8]\n",
            " [ 7]\n",
            " [ 5]\n",
            " [ 4]\n",
            " [ 3]\n",
            " [ 1]\n",
            " [ 8]\n",
            " [ 8]\n",
            " [ 7]\n",
            " [ 7]\n",
            " [ 6]\n",
            " [ 4]\n",
            " [ 3]\n",
            " [ 1]\n",
            " [ 7]\n",
            " [ 7]\n",
            " [ 7]\n",
            " [ 6]\n",
            " [ 3]\n",
            " [ 3]\n",
            " [ 1]\n",
            " [ 7]\n",
            " [ 5]\n",
            " [ 3]\n",
            " [ 1]\n",
            " [ 6]\n",
            " [ 3]\n",
            " [ 1]]\n",
            "Predicted S&P rating of Belize in next month is [5.]\n",
            "---------##########################----------\n",
            "Number of data points of Benin are 3\n",
            "---------##########################----------\n",
            "Number of data points of Bermuda are 6\n",
            "---------##########################----------\n",
            "Number of data points of Bolivia are 9\n",
            "[[ 9]\n",
            " [ 9]\n",
            " [10]\n",
            " [11]\n",
            " [11]\n",
            " [10]\n",
            " [10]\n",
            " [ 9]\n",
            " [ 9]]\n",
            "Predicted S&P rating of Bolivia in next month is [10.]\n",
            "---------##########################----------\n",
            "Number of data points of Bosnia and Herzegovina are 6\n",
            "---------##########################----------\n",
            "Number of data points of Botswana are 7\n",
            "[[17]\n",
            " [17]\n",
            " [16]\n",
            " [16]\n",
            " [16]\n",
            " [15]\n",
            " [15]]\n",
            "Predicted S&P rating of Botswana in next month is [16.]\n",
            "---------##########################----------\n",
            "Number of data points of Brazil are 31\n",
            "[[ 8]\n",
            " [ 9]\n",
            " [ 9]\n",
            " [10]\n",
            " [10]\n",
            " [ 9]\n",
            " [ 9]\n",
            " [ 9]\n",
            " [10]\n",
            " [10]\n",
            " [ 9]\n",
            " [ 9]\n",
            " [ 9]\n",
            " [10]\n",
            " [10]\n",
            " [11]\n",
            " [11]\n",
            " [12]\n",
            " [13]\n",
            " [13]\n",
            " [14]\n",
            " [14]\n",
            " [13]\n",
            " [13]\n",
            " [12]\n",
            " [11]\n",
            " [11]\n",
            " [11]\n",
            " [10]\n",
            " [10]\n",
            " [10]]\n",
            "Predicted S&P rating of Brazil in next month is [11.]\n",
            "---------##########################----------\n",
            "Number of data points of Bulgaria are 20\n",
            "[[ 8]\n",
            " [ 9]\n",
            " [10]\n",
            " [11]\n",
            " [12]\n",
            " [13]\n",
            " [13]\n",
            " [14]\n",
            " [15]\n",
            " [15]\n",
            " [14]\n",
            " [14]\n",
            " [14]\n",
            " [13]\n",
            " [12]\n",
            " [12]\n",
            " [13]\n",
            " [13]\n",
            " [14]\n",
            " [14]]\n",
            "Predicted S&P rating of Bulgaria in next month is [15.]\n",
            "---------##########################----------\n",
            "Number of data points of Burkina Faso are 7\n",
            "[[8]\n",
            " [8]\n",
            " [8]\n",
            " [8]\n",
            " [7]\n",
            " [7]\n",
            " [8]]\n",
            "Predicted S&P rating of Burkina Faso in next month is [7.]\n",
            "---------##########################----------\n",
            "Number of data points of Cambodia are 2\n",
            "---------##########################----------\n",
            "Number of data points of Cameroon are 6\n",
            "---------##########################----------\n",
            "Number of data points of Canada are 7\n",
            "[[20]\n",
            " [22]\n",
            " [22]\n",
            " [21]\n",
            " [21]\n",
            " [21]\n",
            " [22]]\n",
            "Predicted S&P rating of Canada in next month is [22.]\n",
            "---------##########################----------\n",
            "Number of data points of Cape Verde are 11\n",
            "[[9]\n",
            " [9]\n",
            " [9]\n",
            " [9]\n",
            " [8]\n",
            " [8]\n",
            " [8]\n",
            " [8]\n",
            " [8]\n",
            " [8]\n",
            " [7]]\n",
            "Predicted S&P rating of Cape Verde in next month is [8.]\n",
            "---------##########################----------\n",
            "Number of data points of Chile are 13\n",
            "[[14]\n",
            " [15]\n",
            " [16]\n",
            " [16]\n",
            " [17]\n",
            " [17]\n",
            " [18]\n",
            " [18]\n",
            " [19]\n",
            " [19]\n",
            " [18]\n",
            " [18]\n",
            " [17]]\n",
            "Predicted S&P rating of Chile in next month is [19.]\n",
            "---------##########################----------\n",
            "Number of data points of China are 14\n",
            "[[14]\n",
            " [14]\n",
            " [15]\n",
            " [15]\n",
            " [14]\n",
            " [14]\n",
            " [15]\n",
            " [16]\n",
            " [17]\n",
            " [17]\n",
            " [18]\n",
            " [19]\n",
            " [19]\n",
            " [18]]\n",
            "Predicted S&P rating of China in next month is [20.]\n",
            "---------##########################----------\n",
            "Number of data points of Colombia are 18\n",
            "[[13]\n",
            " [13]\n",
            " [13]\n",
            " [13]\n",
            " [12]\n",
            " [12]\n",
            " [11]\n",
            " [11]\n",
            " [11]\n",
            " [12]\n",
            " [12]\n",
            " [13]\n",
            " [13]\n",
            " [14]\n",
            " [14]\n",
            " [13]\n",
            " [13]\n",
            " [12]]\n",
            "Predicted S&P rating of Colombia in next month is [13.]\n",
            "---------##########################----------\n",
            "Number of data points of Congo are 5\n",
            "---------##########################----------\n",
            "Number of data points of Costa Rica are 10\n",
            "[[11]\n",
            " [11]\n",
            " [11]\n",
            " [11]\n",
            " [11]\n",
            " [11]\n",
            " [11]\n",
            " [10]\n",
            " [ 9]\n",
            " [ 8]]\n",
            "Predicted S&P rating of Costa Rica in next month is [9.]\n",
            "---------##########################----------\n",
            "Number of data points of Croatia are 16\n",
            "[[13]\n",
            " [13]\n",
            " [13]\n",
            " [13]\n",
            " [14]\n",
            " [14]\n",
            " [13]\n",
            " [12]\n",
            " [12]\n",
            " [11]\n",
            " [11]\n",
            " [11]\n",
            " [11]\n",
            " [12]\n",
            " [12]\n",
            " [13]]\n",
            "Predicted S&P rating of Croatia in next month is [13.]\n",
            "---------##########################----------\n",
            "Number of data points of Cyprus are 28\n",
            "[[19]\n",
            " [18]\n",
            " [17]\n",
            " [17]\n",
            " [18]\n",
            " [18]\n",
            " [17]\n",
            " [16]\n",
            " [15]\n",
            " [15]\n",
            " [14]\n",
            " [12]\n",
            " [11]\n",
            " [ 8]\n",
            " [ 6]\n",
            " [ 5]\n",
            " [ 5]\n",
            " [ 1]\n",
            " [ 6]\n",
            " [ 7]\n",
            " [ 8]\n",
            " [ 9]\n",
            " [ 9]\n",
            " [10]\n",
            " [11]\n",
            " [12]\n",
            " [12]\n",
            " [13]]\n",
            "Predicted S&P rating of Cyprus in next month is [12.]\n",
            "---------##########################----------\n",
            "Number of data points of Czech Republic are 8\n",
            "[[14]\n",
            " [15]\n",
            " [17]\n",
            " [16]\n",
            " [16]\n",
            " [17]\n",
            " [17]\n",
            " [19]]\n",
            "Predicted S&P rating of Czech Republic in next month is [17.]\n",
            "---------##########################----------\n",
            "Number of data points of Denmark are 8\n",
            "[[22]\n",
            " [21]\n",
            " [20]\n",
            " [20]\n",
            " [20]\n",
            " [21]\n",
            " [21]\n",
            " [22]]\n",
            "Predicted S&P rating of Denmark in next month is [21.]\n",
            "---------##########################----------\n",
            "Number of data points of Dominican Republic are 3\n",
            "---------##########################----------\n",
            "Number of data points of Ecuador are 27\n",
            "[[1]\n",
            " [1]\n",
            " [7]\n",
            " [6]\n",
            " [6]\n",
            " [6]\n",
            " [6]\n",
            " [7]\n",
            " [7]\n",
            " [6]\n",
            " [6]\n",
            " [6]\n",
            " [5]\n",
            " [7]\n",
            " [4]\n",
            " [1]\n",
            " [6]\n",
            " [7]\n",
            " [7]\n",
            " [8]\n",
            " [8]\n",
            " [9]\n",
            " [8]\n",
            " [7]\n",
            " [4]\n",
            " [1]\n",
            " [7]]\n",
            "Predicted S&P rating of Ecuador in next month is [4.]\n",
            "---------##########################----------\n",
            "Number of data points of Egypt are 21\n",
            "[[13]\n",
            " [13]\n",
            " [12]\n",
            " [12]\n",
            " [12]\n",
            " [11]\n",
            " [11]\n",
            " [10]\n",
            " [ 9]\n",
            " [ 8]\n",
            " [ 8]\n",
            " [ 8]\n",
            " [ 7]\n",
            " [ 6]\n",
            " [ 7]\n",
            " [ 7]\n",
            " [ 7]\n",
            " [ 7]\n",
            " [ 7]\n",
            " [ 7]\n",
            " [ 8]]\n",
            "Predicted S&P rating of Egypt in next month is [7.]\n",
            "---------##########################----------\n",
            "Number of data points of El Salvador are 17\n",
            "[[11]\n",
            " [12]\n",
            " [12]\n",
            " [11]\n",
            " [10]\n",
            " [10]\n",
            " [ 9]\n",
            " [ 9]\n",
            " [ 8]\n",
            " [ 7]\n",
            " [ 4]\n",
            " [ 1]\n",
            " [ 3]\n",
            " [ 1]\n",
            " [ 6]\n",
            " [ 6]\n",
            " [ 7]]\n",
            "Predicted S&P rating of El Salvador in next month is [6.]\n",
            "---------##########################----------\n",
            "Number of data points of Estonia are 20\n",
            "[[15]\n",
            " [15]\n",
            " [16]\n",
            " [16]\n",
            " [17]\n",
            " [17]\n",
            " [17]\n",
            " [17]\n",
            " [17]\n",
            " [17]\n",
            " [16]\n",
            " [16]\n",
            " [17]\n",
            " [17]\n",
            " [19]\n",
            " [19]\n",
            " [19]\n",
            " [19]\n",
            " [19]\n",
            " [19]]\n",
            "Predicted S&P rating of Estonia in next month is [19.]\n",
            "---------##########################----------\n",
            "Number of data points of Ethiopia are 3\n",
            "---------##########################----------\n",
            "Number of data points of Fiji are 14\n",
            "[[10]\n",
            " [10]\n",
            " [ 9]\n",
            " [ 8]\n",
            " [ 8]\n",
            " [ 8]\n",
            " [ 7]\n",
            " [ 7]\n",
            " [ 7]\n",
            " [ 8]\n",
            " [ 8]\n",
            " [ 9]\n",
            " [10]\n",
            " [10]]\n",
            "Predicted S&P rating of Fiji in next month is [10.]\n",
            "---------##########################----------\n",
            "Number of data points of Finland are 19\n",
            "[[22]\n",
            " [22]\n",
            " [22]\n",
            " [21]\n",
            " [21]\n",
            " [19]\n",
            " [19]\n",
            " [20]\n",
            " [20]\n",
            " [21]\n",
            " [21]\n",
            " [22]\n",
            " [22]\n",
            " [22]\n",
            " [22]\n",
            " [22]\n",
            " [21]\n",
            " [21]\n",
            " [21]]\n",
            "Predicted S&P rating of Finland in next month is [21.]\n",
            "---------##########################----------\n",
            "Number of data points of France are 7\n",
            "[[22]\n",
            " [22]\n",
            " [22]\n",
            " [21]\n",
            " [20]\n",
            " [20]\n",
            " [20]]\n",
            "Predicted S&P rating of France in next month is [22.]\n",
            "---------##########################----------\n",
            "Number of data points of Gabon are 3\n",
            "---------##########################----------\n",
            "Number of data points of Georgia are 12\n",
            "[[ 9]\n",
            " [ 9]\n",
            " [ 9]\n",
            " [ 9]\n",
            " [ 8]\n",
            " [ 8]\n",
            " [ 9]\n",
            " [ 9]\n",
            " [10]\n",
            " [10]\n",
            " [11]\n",
            " [11]]\n",
            "Predicted S&P rating of Georgia in next month is [12.]\n",
            "---------##########################----------\n",
            "Number of data points of Germany are 4\n",
            "---------##########################----------\n",
            "Number of data points of Ghana are 10\n",
            "[[9]\n",
            " [8]\n",
            " [8]\n",
            " [9]\n",
            " [8]\n",
            " [7]\n",
            " [7]\n",
            " [8]\n",
            " [8]\n",
            " [7]]\n",
            "Predicted S&P rating of Ghana in next month is [8.]\n",
            "---------##########################----------\n",
            "Number of data points of Greece are 34\n",
            "[[18]\n",
            " [18]\n",
            " [17]\n",
            " [17]\n",
            " [16]\n",
            " [16]\n",
            " [15]\n",
            " [15]\n",
            " [12]\n",
            " [12]\n",
            " [10]\n",
            " [ 8]\n",
            " [ 5]\n",
            " [ 3]\n",
            " [ 1]\n",
            " [ 5]\n",
            " [ 5]\n",
            " [ 1]\n",
            " [ 7]\n",
            " [ 8]\n",
            " [ 8]\n",
            " [ 7]\n",
            " [ 6]\n",
            " [ 5]\n",
            " [ 4]\n",
            " [ 6]\n",
            " [ 7]\n",
            " [ 7]\n",
            " [ 8]\n",
            " [ 9]\n",
            " [ 9]\n",
            " [10]\n",
            " [10]\n",
            " [11]]\n",
            "Predicted S&P rating of Greece in next month is [10.]\n",
            "[[18]\n",
            " [18]\n",
            " [17]\n",
            " [17]\n",
            " [16]\n",
            " [16]\n",
            " [15]\n",
            " [15]\n",
            " [12]\n",
            " [12]\n",
            " [10]\n",
            " [ 8]\n",
            " [ 5]\n",
            " [ 3]\n",
            " [ 1]\n",
            " [ 5]\n",
            " [ 5]\n",
            " [ 1]\n",
            " [ 7]\n",
            " [ 8]\n",
            " [ 8]\n",
            " [ 7]\n",
            " [ 6]\n",
            " [ 5]\n",
            " [ 4]\n",
            " [ 6]\n",
            " [ 7]\n",
            " [ 7]]\n"
          ]
        },
        {
          "name": "stderr",
          "output_type": "stream",
          "text": [
            "c:\\users\\asaro\\appdata\\local\\programs\\python\\python37\\lib\\site-packages\\ipykernel_launcher.py:81: UserWarning: color is redundantly defined by the 'color' keyword argument and the fmt string \"ro\" (-> color='r'). The keyword argument will take precedence.\n",
            "c:\\users\\asaro\\appdata\\local\\programs\\python\\python37\\lib\\site-packages\\statsmodels\\tsa\\ar_model.py:252: FutureWarning: The parameter names will change after 0.12 is released. Set old_names to False to use the new names now. Set old_names to True to use the old names. \n",
            "  FutureWarning,\n"
          ]
        },
        {
          "name": "stdout",
          "output_type": "stream",
          "text": [
            "[ 8.  8.  9.  9. 10. 10.]\n",
            "---------##########################----------\n",
            "Number of data points of Grenada are 1\n",
            "---------##########################----------\n",
            "Number of data points of Guatemala are 12\n",
            "[[11]\n",
            " [11]\n",
            " [10]\n",
            " [11]\n",
            " [11]\n",
            " [11]\n",
            " [11]\n",
            " [11]\n",
            " [11]\n",
            " [10]\n",
            " [10]\n",
            " [10]]\n",
            "Predicted S&P rating of Guatemala in next month is [11.]\n",
            "---------##########################----------\n",
            "Number of data points of Honduras are 10\n",
            "[[ 9]\n",
            " [ 9]\n",
            " [ 8]\n",
            " [ 8]\n",
            " [ 9]\n",
            " [ 9]\n",
            " [ 8]\n",
            " [ 9]\n",
            " [ 9]\n",
            " [10]]\n",
            "Predicted S&P rating of Honduras in next month is [9.]\n",
            "---------##########################----------\n",
            "Number of data points of Hong Kong are 22\n",
            "[[18]\n",
            " [18]\n",
            " [17]\n",
            " [17]\n",
            " [17]\n",
            " [17]\n",
            " [17]\n",
            " [17]\n",
            " [18]\n",
            " [18]\n",
            " [17]\n",
            " [17]\n",
            " [18]\n",
            " [18]\n",
            " [19]\n",
            " [19]\n",
            " [20]\n",
            " [20]\n",
            " [21]\n",
            " [22]\n",
            " [22]\n",
            " [21]]\n",
            "Predicted S&P rating of Hong Kong in next month is [23.]\n",
            "---------##########################----------\n",
            "Number of data points of Hungary are 29\n",
            "[[12]\n",
            " [12]\n",
            " [12]\n",
            " [12]\n",
            " [13]\n",
            " [13]\n",
            " [14]\n",
            " [15]\n",
            " [16]\n",
            " [16]\n",
            " [15]\n",
            " [15]\n",
            " [15]\n",
            " [15]\n",
            " [14]\n",
            " [13]\n",
            " [13]\n",
            " [13]\n",
            " [13]\n",
            " [12]\n",
            " [11]\n",
            " [11]\n",
            " [11]\n",
            " [12]\n",
            " [13]\n",
            " [13]\n",
            " [14]\n",
            " [14]\n",
            " [14]]\n",
            "Predicted S&P rating of Hungary in next month is [14.]\n",
            "---------##########################----------\n",
            "Number of data points of Iceland are 30\n",
            "[[17]\n",
            " [17]\n",
            " [18]\n",
            " [18]\n",
            " [18]\n",
            " [18]\n",
            " [18]\n",
            " [18]\n",
            " [19]\n",
            " [19]\n",
            " [18]\n",
            " [18]\n",
            " [18]\n",
            " [17]\n",
            " [16]\n",
            " [14]\n",
            " [13]\n",
            " [13]\n",
            " [13]\n",
            " [13]\n",
            " [13]\n",
            " [13]\n",
            " [13]\n",
            " [13]\n",
            " [13]\n",
            " [13]\n",
            " [14]\n",
            " [15]\n",
            " [16]\n",
            " [17]]\n",
            "Predicted S&P rating of Iceland in next month is [17.]\n",
            "---------##########################----------\n",
            "Number of data points of India are 20\n",
            "[[14]\n",
            " [13]\n",
            " [12]\n",
            " [12]\n",
            " [12]\n",
            " [12]\n",
            " [12]\n",
            " [11]\n",
            " [11]\n",
            " [11]\n",
            " [11]\n",
            " [11]\n",
            " [11]\n",
            " [12]\n",
            " [12]\n",
            " [13]\n",
            " [13]\n",
            " [13]\n",
            " [13]\n",
            " [13]]\n",
            "Predicted S&P rating of India in next month is [13.]\n",
            "---------##########################----------\n",
            "Number of data points of Indonesia are 35\n",
            "[[13]\n",
            " [14]\n",
            " [13]\n",
            " [12]\n",
            " [11]\n",
            " [ 8]\n",
            " [ 7]\n",
            " [ 6]\n",
            " [ 6]\n",
            " [ 1]\n",
            " [ 6]\n",
            " [ 6]\n",
            " [ 1]\n",
            " [ 7]\n",
            " [ 7]\n",
            " [ 6]\n",
            " [ 6]\n",
            " [ 5]\n",
            " [ 1]\n",
            " [ 6]\n",
            " [ 7]\n",
            " [ 8]\n",
            " [ 8]\n",
            " [ 9]\n",
            " [ 9]\n",
            " [ 9]\n",
            " [10]\n",
            " [10]\n",
            " [11]\n",
            " [12]\n",
            " [12]\n",
            " [12]\n",
            " [13]\n",
            " [14]\n",
            " [14]]\n",
            "Predicted S&P rating of Indonesia in next month is [13.]\n",
            "---------##########################----------\n",
            "Number of data points of Iraq are 1\n",
            "---------##########################----------\n",
            "Number of data points of Israel are 39\n",
            "[[18]\n",
            " [18]\n",
            " [19]\n",
            " [19]\n",
            " [20]\n",
            " [21]\n",
            " [21]\n",
            " [22]\n",
            " [22]\n",
            " [21]\n",
            " [20]\n",
            " [19]\n",
            " [17]\n",
            " [16]\n",
            " [15]\n",
            " [15]\n",
            " [15]\n",
            " [15]\n",
            " [15]\n",
            " [16]\n",
            " [17]\n",
            " [18]\n",
            " [19]\n",
            " [13]\n",
            " [13]\n",
            " [13]\n",
            " [14]\n",
            " [15]\n",
            " [16]\n",
            " [16]\n",
            " [16]\n",
            " [16]\n",
            " [16]\n",
            " [16]\n",
            " [17]\n",
            " [17]\n",
            " [18]\n",
            " [18]\n",
            " [19]]\n",
            "Predicted S&P rating of Israel in next month is [18.]\n",
            "---------##########################----------\n",
            "Number of data points of Italy are 20\n",
            "[[21]\n",
            " [21]\n",
            " [21]\n",
            " [21]\n",
            " [20]\n",
            " [20]\n",
            " [20]\n",
            " [20]\n",
            " [19]\n",
            " [19]\n",
            " [18]\n",
            " [18]\n",
            " [17]\n",
            " [17]\n",
            " [15]\n",
            " [14]\n",
            " [13]\n",
            " [14]\n",
            " [14]\n",
            " [14]]\n",
            "Predicted S&P rating of Italy in next month is [14.]\n",
            "---------##########################----------\n",
            "Number of data points of Ivory Coast are 1\n",
            "---------##########################----------\n",
            "Number of data points of Jamaica are 23\n",
            "[[8]\n",
            " [8]\n",
            " [9]\n",
            " [9]\n",
            " [8]\n",
            " [8]\n",
            " [8]\n",
            " [8]\n",
            " [7]\n",
            " [6]\n",
            " [5]\n",
            " [1]\n",
            " [7]\n",
            " [7]\n",
            " [1]\n",
            " [7]\n",
            " [6]\n",
            " [6]\n",
            " [7]\n",
            " [8]\n",
            " [8]\n",
            " [9]\n",
            " [9]]\n",
            "Predicted S&P rating of Jamaica in next month is [8.]\n",
            "---------##########################----------\n",
            "Number of data points of Japan are 16\n",
            "[[14]\n",
            " [22]\n",
            " [22]\n",
            " [21]\n",
            " [21]\n",
            " [20]\n",
            " [19]\n",
            " [19]\n",
            " [19]\n",
            " [20]\n",
            " [20]\n",
            " [19]\n",
            " [19]\n",
            " [18]\n",
            " [18]\n",
            " [18]]\n",
            "Predicted S&P rating of Japan in next month is [19.]\n",
            "---------##########################----------\n",
            "Number of data points of Jordan are 12\n",
            "[[ 9]\n",
            " [10]\n",
            " [10]\n",
            " [10]\n",
            " [10]\n",
            " [10]\n",
            " [11]\n",
            " [11]\n",
            " [10]\n",
            " [10]\n",
            " [10]\n",
            " [ 9]]\n",
            "Predicted S&P rating of Jordan in next month is [11.]\n",
            "---------##########################----------\n",
            "Number of data points of Kazakhstan are 19\n",
            "[[10]\n",
            " [ 9]\n",
            " [ 9]\n",
            " [10]\n",
            " [11]\n",
            " [11]\n",
            " [12]\n",
            " [13]\n",
            " [13]\n",
            " [14]\n",
            " [13]\n",
            " [13]\n",
            " [13]\n",
            " [14]\n",
            " [15]\n",
            " [15]\n",
            " [14]\n",
            " [13]\n",
            " [13]]\n",
            "Predicted S&P rating of Kazakhstan in next month is [13.]\n",
            "---------##########################----------\n",
            "Number of data points of Kenya are 9\n",
            "[[9]\n",
            " [8]\n",
            " [8]\n",
            " [8]\n",
            " [9]\n",
            " [9]\n",
            " [9]\n",
            " [9]\n",
            " [8]]\n",
            "Predicted S&P rating of Kenya in next month is [9.]\n",
            "---------##########################----------\n",
            "Number of data points of Kuwait are 7\n",
            "[[17]\n",
            " [18]\n",
            " [19]\n",
            " [20]\n",
            " [19]\n",
            " [19]\n",
            " [18]]\n",
            "Predicted S&P rating of Kuwait in next month is [20.]\n",
            "---------##########################----------\n",
            "Number of data points of Kyrgyzstan are 1\n",
            "---------##########################----------\n",
            "Number of data points of Latvia are 21\n",
            "[[14]\n",
            " [14]\n",
            " [15]\n",
            " [15]\n",
            " [16]\n",
            " [16]\n",
            " [15]\n",
            " [14]\n",
            " [12]\n",
            " [11]\n",
            " [11]\n",
            " [12]\n",
            " [12]\n",
            " [13]\n",
            " [14]\n",
            " [15]\n",
            " [15]\n",
            " [16]\n",
            " [16]\n",
            " [17]\n",
            " [18]]\n",
            "Predicted S&P rating of Latvia in next month is [18.]\n",
            "---------##########################----------\n",
            "Number of data points of Lebanon are 25\n",
            "[[10]\n",
            " [10]\n",
            " [ 9]\n",
            " [ 9]\n",
            " [ 8]\n",
            " [ 7]\n",
            " [ 7]\n",
            " [ 7]\n",
            " [ 7]\n",
            " [ 7]\n",
            " [ 6]\n",
            " [ 7]\n",
            " [ 8]\n",
            " [ 8]\n",
            " [ 8]\n",
            " [ 7]\n",
            " [ 7]\n",
            " [ 7]\n",
            " [ 7]\n",
            " [ 7]\n",
            " [ 7]\n",
            " [ 5]\n",
            " [ 3]\n",
            " [ 1]\n",
            " [ 1]]\n",
            "Predicted S&P rating of Lebanon in next month is [-0.]\n",
            "---------##########################----------\n",
            "Number of data points of Liechtenstein are 2\n",
            "---------##########################----------\n",
            "Number of data points of Lithuania are 19\n",
            "[[13]\n",
            " [14]\n",
            " [15]\n",
            " [15]\n",
            " [16]\n",
            " [16]\n",
            " [17]\n",
            " [17]\n",
            " [17]\n",
            " [16]\n",
            " [15]\n",
            " [14]\n",
            " [14]\n",
            " [14]\n",
            " [14]\n",
            " [16]\n",
            " [16]\n",
            " [17]\n",
            " [18]]\n",
            "Predicted S&P rating of Lithuania in next month is [17.]\n",
            "---------##########################----------\n",
            "Number of data points of Luxembourg are 4\n",
            "---------##########################----------\n",
            "Number of data points of Macedonia are 6\n",
            "---------##########################----------\n",
            "Number of data points of Malaysia are 23\n",
            "[[16]\n",
            " [16]\n",
            " [16]\n",
            " [17]\n",
            " [17]\n",
            " [18]\n",
            " [18]\n",
            " [18]\n",
            " [18]\n",
            " [17]\n",
            " [16]\n",
            " [15]\n",
            " [13]\n",
            " [13]\n",
            " [14]\n",
            " [14]\n",
            " [14]\n",
            " [14]\n",
            " [15]\n",
            " [16]\n",
            " [16]\n",
            " [16]\n",
            " [16]]\n",
            "Predicted S&P rating of Malaysia in next month is [16.]\n",
            "---------##########################----------\n",
            "Number of data points of Malta are 12\n",
            "[[17]\n",
            " [18]\n",
            " [18]\n",
            " [17]\n",
            " [17]\n",
            " [17]\n",
            " [16]\n",
            " [15]\n",
            " [15]\n",
            " [16]\n",
            " [16]\n",
            " [16]]\n",
            "Predicted S&P rating of Malta in next month is [17.]\n",
            "---------##########################----------\n",
            "Number of data points of Mexico are 23\n",
            "[[12]\n",
            " [12]\n",
            " [12]\n",
            " [12]\n",
            " [12]\n",
            " [11]\n",
            " [11]\n",
            " [11]\n",
            " [11]\n",
            " [11]\n",
            " [12]\n",
            " [13]\n",
            " [14]\n",
            " [14]\n",
            " [15]\n",
            " [15]\n",
            " [14]\n",
            " [14]\n",
            " [15]\n",
            " [15]\n",
            " [15]\n",
            " [15]\n",
            " [14]]\n",
            "Predicted S&P rating of Mexico in next month is [15.]\n",
            "---------##########################----------\n",
            "Number of data points of Mongolia are 16\n",
            "[[ 8]\n",
            " [ 8]\n",
            " [ 8]\n",
            " [ 8]\n",
            " [ 9]\n",
            " [10]\n",
            " [10]\n",
            " [10]\n",
            " [10]\n",
            " [10]\n",
            " [10]\n",
            " [ 9]\n",
            " [ 9]\n",
            " [ 8]\n",
            " [ 7]\n",
            " [ 8]]\n",
            "Predicted S&P rating of Mongolia in next month is [7.]\n",
            "---------##########################----------\n",
            "Number of data points of Montenegro are 11\n",
            "[[11]\n",
            " [11]\n",
            " [12]\n",
            " [12]\n",
            " [10]\n",
            " [10]\n",
            " [ 9]\n",
            " [ 9]\n",
            " [ 9]\n",
            " [ 9]\n",
            " [ 8]]\n",
            "Predicted S&P rating of Montenegro in next month is [10.]\n",
            "---------##########################----------\n",
            "Number of data points of Morocco are 14\n",
            "[[11]\n",
            " [11]\n",
            " [11]\n",
            " [11]\n",
            " [12]\n",
            " [12]\n",
            " [12]\n",
            " [13]\n",
            " [13]\n",
            " [13]\n",
            " [13]\n",
            " [13]\n",
            " [13]\n",
            " [12]]\n",
            "Predicted S&P rating of Morocco in next month is [14.]\n",
            "---------##########################----------\n",
            "Number of data points of Mozambique are 14\n",
            "[[8]\n",
            " [9]\n",
            " [9]\n",
            " [8]\n",
            " [7]\n",
            " [7]\n",
            " [3]\n",
            " [1]\n",
            " [7]\n",
            " [5]\n",
            " [5]\n",
            " [3]\n",
            " [1]\n",
            " [6]]\n",
            "Predicted S&P rating of Mozambique in next month is [3.]\n",
            "---------##########################----------\n",
            "Number of data points of Netherlands are 7\n",
            "[[22]\n",
            " [22]\n",
            " [22]\n",
            " [22]\n",
            " [21]\n",
            " [21]\n",
            " [22]]\n",
            "Predicted S&P rating of Netherlands in next month is [21.]\n",
            "---------##########################----------\n",
            "Number of data points of New Zealand are 17\n",
            "[[14]\n",
            " [22]\n",
            " [21]\n",
            " [20]\n",
            " [20]\n",
            " [19]\n",
            " [20]\n",
            " [20]\n",
            " [21]\n",
            " [21]\n",
            " [21]\n",
            " [21]\n",
            " [21]\n",
            " [21]\n",
            " [20]\n",
            " [20]\n",
            " [21]]\n",
            "Predicted S&P rating of New Zealand in next month is [21.]\n",
            "---------##########################----------\n",
            "Number of data points of Nicaragua are 5\n",
            "---------##########################----------\n",
            "Number of data points of Nigeria are 13\n",
            "[[10]\n",
            " [10]\n",
            " [ 9]\n",
            " [ 9]\n",
            " [10]\n",
            " [10]\n",
            " [10]\n",
            " [10]\n",
            " [ 9]\n",
            " [ 9]\n",
            " [ 8]\n",
            " [ 8]\n",
            " [ 7]]\n",
            "Predicted S&P rating of Nigeria in next month is [9.]\n",
            "---------##########################----------\n",
            "Number of data points of Norway are 4\n",
            "---------##########################----------\n",
            "Number of data points of Oman are 20\n",
            "[[13]\n",
            " [13]\n",
            " [13]\n",
            " [14]\n",
            " [15]\n",
            " [16]\n",
            " [17]\n",
            " [17]\n",
            " [17]\n",
            " [17]\n",
            " [17]\n",
            " [16]\n",
            " [15]\n",
            " [13]\n",
            " [13]\n",
            " [12]\n",
            " [11]\n",
            " [11]\n",
            " [10]\n",
            " [ 9]]\n",
            "Predicted S&P rating of Oman in next month is [10.]\n",
            "---------##########################----------\n",
            "Number of data points of Pakistan are 24\n",
            "[[9]\n",
            " [9]\n",
            " [9]\n",
            " [9]\n",
            " [7]\n",
            " [5]\n",
            " [4]\n",
            " [3]\n",
            " [1]\n",
            " [7]\n",
            " [8]\n",
            " [8]\n",
            " [9]\n",
            " [9]\n",
            " [9]\n",
            " [9]\n",
            " [8]\n",
            " [6]\n",
            " [5]\n",
            " [6]\n",
            " [7]\n",
            " [7]\n",
            " [8]\n",
            " [7]]\n",
            "Predicted S&P rating of Pakistan in next month is [8.]\n",
            "---------##########################----------\n",
            "Number of data points of Panama are 16\n",
            "[[12]\n",
            " [12]\n",
            " [12]\n",
            " [11]\n",
            " [11]\n",
            " [11]\n",
            " [11]\n",
            " [12]\n",
            " [12]\n",
            " [13]\n",
            " [13]\n",
            " [14]\n",
            " [14]\n",
            " [15]\n",
            " [15]\n",
            " [14]]\n",
            "Predicted S&P rating of Panama in next month is [16.]\n",
            "---------##########################----------\n",
            "Number of data points of Papua New Guinea are 18\n",
            "[[9]\n",
            " [9]\n",
            " [9]\n",
            " [9]\n",
            " [9]\n",
            " [8]\n",
            " [8]\n",
            " [8]\n",
            " [8]\n",
            " [8]\n",
            " [9]\n",
            " [9]\n",
            " [9]\n",
            " [9]\n",
            " [8]\n",
            " [7]\n",
            " [7]\n",
            " [7]]\n",
            "Predicted S&P rating of Papua New Guinea in next month is [8.]\n",
            "---------##########################----------\n",
            "Number of data points of Paraguay are 16\n",
            "[[10]\n",
            " [10]\n",
            " [ 9]\n",
            " [ 8]\n",
            " [ 7]\n",
            " [ 1]\n",
            " [ 7]\n",
            " [ 7]\n",
            " [ 8]\n",
            " [ 9]\n",
            " [10]\n",
            " [10]\n",
            " [10]\n",
            " [11]\n",
            " [11]\n",
            " [11]]\n",
            "Predicted S&P rating of Paraguay in next month is [10.]\n",
            "---------##########################----------\n",
            "Number of data points of Peru are 16\n",
            "[[11]\n",
            " [11]\n",
            " [11]\n",
            " [11]\n",
            " [10]\n",
            " [10]\n",
            " [10]\n",
            " [11]\n",
            " [11]\n",
            " [12]\n",
            " [12]\n",
            " [13]\n",
            " [13]\n",
            " [14]\n",
            " [14]\n",
            " [15]]\n",
            "Predicted S&P rating of Peru in next month is [15.]\n",
            "---------##########################----------\n",
            "Number of data points of Philippines are 22\n",
            "[[10]\n",
            " [10]\n",
            " [11]\n",
            " [12]\n",
            " [12]\n",
            " [12]\n",
            " [12]\n",
            " [12]\n",
            " [12]\n",
            " [12]\n",
            " [11]\n",
            " [10]\n",
            " [10]\n",
            " [10]\n",
            " [11]\n",
            " [11]\n",
            " [12]\n",
            " [12]\n",
            " [13]\n",
            " [14]\n",
            " [14]\n",
            " [15]]\n",
            "Predicted S&P rating of Philippines in next month is [14.]\n",
            "---------##########################----------\n",
            "Number of data points of Poland are 19\n",
            "[[11]\n",
            " [13]\n",
            " [13]\n",
            " [14]\n",
            " [15]\n",
            " [15]\n",
            " [15]\n",
            " [15]\n",
            " [15]\n",
            " [15]\n",
            " [15]\n",
            " [16]\n",
            " [16]\n",
            " [16]\n",
            " [16]\n",
            " [15]\n",
            " [15]\n",
            " [15]\n",
            " [16]]\n",
            "Predicted S&P rating of Poland in next month is [16.]\n",
            "---------##########################----------\n",
            "Number of data points of Portugal are 30\n",
            "[[17]\n",
            " [17]\n",
            " [17]\n",
            " [18]\n",
            " [19]\n",
            " [19]\n",
            " [20]\n",
            " [20]\n",
            " [19]\n",
            " [19]\n",
            " [18]\n",
            " [18]\n",
            " [16]\n",
            " [16]\n",
            " [14]\n",
            " [13]\n",
            " [13]\n",
            " [11]\n",
            " [11]\n",
            " [11]\n",
            " [11]\n",
            " [11]\n",
            " [11]\n",
            " [11]\n",
            " [12]\n",
            " [13]\n",
            " [13]\n",
            " [14]\n",
            " [14]\n",
            " [14]]\n",
            "Predicted S&P rating of Portugal in next month is [14.]\n",
            "---------##########################----------\n",
            "Number of data points of Puerto Rico are 1\n",
            "---------##########################----------\n",
            "Number of data points of Qatar are 12\n",
            "[[14]\n",
            " [15]\n",
            " [16]\n",
            " [18]\n",
            " [18]\n",
            " [18]\n",
            " [19]\n",
            " [20]\n",
            " [20]\n",
            " [19]\n",
            " [19]\n",
            " [19]]\n",
            "Predicted S&P rating of Qatar in next month is [20.]\n",
            "---------##########################----------\n",
            "Number of data points of Republic of the Congo are 11\n",
            "[[9]\n",
            " [8]\n",
            " [7]\n",
            " [1]\n",
            " [7]\n",
            " [5]\n",
            " [6]\n",
            " [6]\n",
            " [7]\n",
            " [7]\n",
            " [6]]\n",
            "Predicted S&P rating of Republic of the Congo in next month is [6.]\n",
            "---------##########################----------\n",
            "Number of data points of Romania are 22\n",
            "[[10]\n",
            " [10]\n",
            " [ 9]\n",
            " [ 7]\n",
            " [ 7]\n",
            " [ 7]\n",
            " [ 8]\n",
            " [ 9]\n",
            " [10]\n",
            " [11]\n",
            " [12]\n",
            " [12]\n",
            " [13]\n",
            " [13]\n",
            " [13]\n",
            " [13]\n",
            " [12]\n",
            " [12]\n",
            " [12]\n",
            " [13]\n",
            " [13]\n",
            " [13]]\n",
            "Predicted S&P rating of Romania in next month is [13.]\n",
            "---------##########################----------\n",
            "Number of data points of Russia are 31\n",
            "[[10]\n",
            " [10]\n",
            " [10]\n",
            " [ 9]\n",
            " [ 7]\n",
            " [ 5]\n",
            " [ 4]\n",
            " [ 1]\n",
            " [ 7]\n",
            " [ 8]\n",
            " [ 9]\n",
            " [ 9]\n",
            " [ 9]\n",
            " [10]\n",
            " [11]\n",
            " [12]\n",
            " [14]\n",
            " [13]\n",
            " [15]\n",
            " [15]\n",
            " [15]\n",
            " [15]\n",
            " [14]\n",
            " [14]\n",
            " [14]\n",
            " [13]\n",
            " [13]\n",
            " [12]\n",
            " [12]\n",
            " [12]\n",
            " [13]]\n"
          ]
        },
        {
          "name": "stdout",
          "output_type": "stream",
          "text": [
            "Predicted S&P rating of Russia in next month is [12.]\n",
            "---------##########################----------\n",
            "Number of data points of Rwanda are 9\n",
            "[[8]\n",
            " [8]\n",
            " [8]\n",
            " [9]\n",
            " [9]\n",
            " [8]\n",
            " [8]\n",
            " [9]\n",
            " [9]]\n",
            "Predicted S&P rating of Rwanda in next month is [9.]\n",
            "---------##########################----------\n",
            "Number of data points of Saudi Arabia are 9\n",
            "[[17]\n",
            " [17]\n",
            " [18]\n",
            " [19]\n",
            " [19]\n",
            " [19]\n",
            " [19]\n",
            " [18]\n",
            " [16]]\n",
            "Predicted S&P rating of Saudi Arabia in next month is [18.]\n",
            "---------##########################----------\n",
            "Number of data points of Senegal are 7\n",
            "[[9]\n",
            " [9]\n",
            " [9]\n",
            " [9]\n",
            " [9]\n",
            " [9]\n",
            " [9]]\n",
            "Predicted S&P rating of Senegal in next month is [9.]\n",
            "---------##########################----------\n",
            "Number of data points of Serbia are 16\n",
            "[[ 9]\n",
            " [10]\n",
            " [10]\n",
            " [10]\n",
            " [10]\n",
            " [10]\n",
            " [11]\n",
            " [10]\n",
            " [10]\n",
            " [10]\n",
            " [10]\n",
            " [10]\n",
            " [11]\n",
            " [11]\n",
            " [12]\n",
            " [12]]\n",
            "Predicted S&P rating of Serbia in next month is [12.]\n",
            "---------##########################----------\n",
            "Number of data points of Singapore are 4\n",
            "---------##########################----------\n",
            "Number of data points of Slovakia are 21\n",
            "[[10]\n",
            " [12]\n",
            " [13]\n",
            " [13]\n",
            " [12]\n",
            " [12]\n",
            " [12]\n",
            " [13]\n",
            " [14]\n",
            " [15]\n",
            " [16]\n",
            " [17]\n",
            " [17]\n",
            " [18]\n",
            " [18]\n",
            " [18]\n",
            " [17]\n",
            " [17]\n",
            " [18]\n",
            " [18]\n",
            " [18]]\n",
            "Predicted S&P rating of Slovakia in next month is [19.]\n",
            "---------##########################----------\n",
            "Number of data points of South Africa are 16\n",
            "[[11]\n",
            " [12]\n",
            " [13]\n",
            " [13]\n",
            " [14]\n",
            " [15]\n",
            " [15]\n",
            " [15]\n",
            " [15]\n",
            " [14]\n",
            " [13]\n",
            " [13]\n",
            " [12]\n",
            " [11]\n",
            " [11]\n",
            " [10]]\n",
            "Predicted S&P rating of South Africa in next month is [12.]\n",
            "---------##########################----------\n",
            "Number of data points of South Korea are 22\n",
            "[[18]\n",
            " [18]\n",
            " [18]\n",
            " [18]\n",
            " [19]\n",
            " [19]\n",
            " [18]\n",
            " [16]\n",
            " [13]\n",
            " [ 9]\n",
            " [ 9]\n",
            " [12]\n",
            " [12]\n",
            " [13]\n",
            " [14]\n",
            " [15]\n",
            " [16]\n",
            " [17]\n",
            " [18]\n",
            " [18]\n",
            " [19]\n",
            " [20]]\n",
            "Predicted S&P rating of South Korea in next month is [20.]\n",
            "---------##########################----------\n",
            "Number of data points of Spain are 23\n",
            "[[20]\n",
            " [20]\n",
            " [20]\n",
            " [20]\n",
            " [21]\n",
            " [21]\n",
            " [22]\n",
            " [22]\n",
            " [21]\n",
            " [21]\n",
            " [20]\n",
            " [19]\n",
            " [19]\n",
            " [17]\n",
            " [15]\n",
            " [13]\n",
            " [13]\n",
            " [14]\n",
            " [15]\n",
            " [15]\n",
            " [16]\n",
            " [17]\n",
            " [17]]\n",
            "Predicted S&P rating of Spain in next month is [18.]\n",
            "---------##########################----------\n",
            "Number of data points of Sri Lanka are 17\n",
            "[[9]\n",
            " [9]\n",
            " [9]\n",
            " [9]\n",
            " [8]\n",
            " [8]\n",
            " [8]\n",
            " [8]\n",
            " [9]\n",
            " [9]\n",
            " [9]\n",
            " [9]\n",
            " [9]\n",
            " [8]\n",
            " [8]\n",
            " [7]\n",
            " [6]]\n",
            "Predicted S&P rating of Sri Lanka in next month is [8.]\n",
            "---------##########################----------\n",
            "Number of data points of Suriname are 21\n",
            "[[ 7]\n",
            " [ 7]\n",
            " [ 7]\n",
            " [ 7]\n",
            " [ 7]\n",
            " [ 7]\n",
            " [ 7]\n",
            " [ 7]\n",
            " [ 8]\n",
            " [ 9]\n",
            " [ 9]\n",
            " [10]\n",
            " [10]\n",
            " [10]\n",
            " [ 9]\n",
            " [ 8]\n",
            " [ 8]\n",
            " [ 6]\n",
            " [ 1]\n",
            " [ 5]\n",
            " [ 1]]\n",
            "Predicted S&P rating of Suriname in next month is [8.]\n",
            "---------##########################----------\n",
            "Number of data points of Sweden are 9\n",
            "[[22]\n",
            " [22]\n",
            " [22]\n",
            " [22]\n",
            " [21]\n",
            " [21]\n",
            " [21]\n",
            " [21]\n",
            " [22]]\n",
            "Predicted S&P rating of Sweden in next month is [22.]\n",
            "---------##########################----------\n",
            "Number of data points of Switzerland are 2\n",
            "---------##########################----------\n",
            "Number of data points of Taiwan are 11\n",
            "[[20]\n",
            " [20]\n",
            " [21]\n",
            " [21]\n",
            " [20]\n",
            " [19]\n",
            " [19]\n",
            " [19]\n",
            " [19]\n",
            " [19]\n",
            " [20]]\n",
            "Predicted S&P rating of Taiwan in next month is [20.]\n",
            "---------##########################----------\n",
            "Number of data points of Tajikistan are 1\n",
            "---------##########################----------\n",
            "Number of data points of Thailand are 20\n",
            "[[16]\n",
            " [16]\n",
            " [16]\n",
            " [16]\n",
            " [16]\n",
            " [17]\n",
            " [17]\n",
            " [16]\n",
            " [14]\n",
            " [13]\n",
            " [13]\n",
            " [13]\n",
            " [14]\n",
            " [15]\n",
            " [15]\n",
            " [15]\n",
            " [15]\n",
            " [15]\n",
            " [15]\n",
            " [15]]\n",
            "Predicted S&P rating of Thailand in next month is [15.]\n",
            "---------##########################----------\n",
            "Number of data points of Togo are 1\n",
            "---------##########################----------\n",
            "Number of data points of Trinidad and Tobago are 16\n",
            "[[12]\n",
            " [13]\n",
            " [13]\n",
            " [14]\n",
            " [15]\n",
            " [16]\n",
            " [16]\n",
            " [17]\n",
            " [17]\n",
            " [17]\n",
            " [17]\n",
            " [16]\n",
            " [15]\n",
            " [15]\n",
            " [14]\n",
            " [13]]\n",
            "Predicted S&P rating of Trinidad and Tobago in next month is [14.]\n",
            "---------##########################----------\n",
            "Number of data points of Tunisia are 8\n",
            "[[14]\n",
            " [14]\n",
            " [13]\n",
            " [13]\n",
            " [11]\n",
            " [10]\n",
            " [ 8]\n",
            " [11]]\n",
            "Predicted S&P rating of Tunisia in next month is [6.]\n",
            "---------##########################----------\n",
            "Number of data points of Turkey are 40\n",
            "[[ 9]\n",
            " [ 9]\n",
            " [ 9]\n",
            " [ 9]\n",
            " [ 8]\n",
            " [ 8]\n",
            " [ 8]\n",
            " [ 8]\n",
            " [ 9]\n",
            " [ 9]\n",
            " [ 9]\n",
            " [ 8]\n",
            " [ 7]\n",
            " [ 7]\n",
            " [ 7]\n",
            " [ 7]\n",
            " [ 7]\n",
            " [ 7]\n",
            " [ 7]\n",
            " [ 7]\n",
            " [ 8]\n",
            " [ 9]\n",
            " [ 9]\n",
            " [10]\n",
            " [10]\n",
            " [10]\n",
            " [10]\n",
            " [10]\n",
            " [10]\n",
            " [10]\n",
            " [11]\n",
            " [11]\n",
            " [12]\n",
            " [12]\n",
            " [12]\n",
            " [11]\n",
            " [11]\n",
            " [11]\n",
            " [10]\n",
            " [ 9]]\n",
            "Predicted S&P rating of Turkey in next month is [10.]\n",
            "---------##########################----------\n",
            "Number of data points of Uganda are 3\n",
            "---------##########################----------\n",
            "Number of data points of Ukraine are 30\n",
            "[[ 8]\n",
            " [ 8]\n",
            " [ 8]\n",
            " [ 8]\n",
            " [ 9]\n",
            " [10]\n",
            " [10]\n",
            " [ 9]\n",
            " [ 9]\n",
            " [ 8]\n",
            " [ 8]\n",
            " [ 6]\n",
            " [ 6]\n",
            " [ 6]\n",
            " [ 7]\n",
            " [ 8]\n",
            " [ 8]\n",
            " [ 9]\n",
            " [ 9]\n",
            " [ 8]\n",
            " [ 7]\n",
            " [ 7]\n",
            " [ 6]\n",
            " [ 5]\n",
            " [ 5]\n",
            " [ 4]\n",
            " [ 3]\n",
            " [ 1]\n",
            " [ 7]\n",
            " [ 8]]\n",
            "Predicted S&P rating of Ukraine in next month is [8.]\n",
            "---------##########################----------\n",
            "Number of data points of United Arab Emirates are 1\n",
            "---------##########################----------\n",
            "Number of data points of United Kingdom are 9\n",
            "[[22]\n",
            " [22]\n",
            " [22]\n",
            " [22]\n",
            " [22]\n",
            " [22]\n",
            " [22]\n",
            " [20]\n",
            " [20]]\n",
            "Predicted S&P rating of United Kingdom in next month is [21.]\n",
            "---------##########################----------\n",
            "Number of data points of United States are 4\n",
            "---------##########################----------\n",
            "Number of data points of Uruguay are 5\n",
            "---------##########################----------\n",
            "Number of data points of Uzbekistan are 3\n",
            "---------##########################----------\n",
            "Number of data points of Venezuela are 43\n",
            "[[20]\n",
            " [20]\n",
            " [16]\n",
            " [11]\n",
            " [ 9]\n",
            " [ 9]\n",
            " [ 9]\n",
            " [11]\n",
            " [11]\n",
            " [11]\n",
            " [10]\n",
            " [ 9]\n",
            " [ 9]\n",
            " [ 8]\n",
            " [ 8]\n",
            " [ 8]\n",
            " [ 9]\n",
            " [ 9]\n",
            " [ 8]\n",
            " [ 8]\n",
            " [ 8]\n",
            " [ 7]\n",
            " [ 6]\n",
            " [ 6]\n",
            " [ 7]\n",
            " [ 8]\n",
            " [ 1]\n",
            " [ 8]\n",
            " [ 9]\n",
            " [10]\n",
            " [10]\n",
            " [10]\n",
            " [10]\n",
            " [10]\n",
            " [ 9]\n",
            " [ 9]\n",
            " [ 8]\n",
            " [ 7]\n",
            " [ 6]\n",
            " [ 5]\n",
            " [ 4]\n",
            " [ 3]\n",
            " [ 1]]\n",
            "Predicted S&P rating of Venezuela in next month is [5.]\n",
            "---------##########################----------\n",
            "Number of data points of Vietnam are 5\n",
            "---------##########################----------\n",
            "Number of data points of Zambia are 11\n",
            "[[9]\n",
            " [9]\n",
            " [8]\n",
            " [8]\n",
            " [8]\n",
            " [7]\n",
            " [7]\n",
            " [6]\n",
            " [5]\n",
            " [4]\n",
            " [1]]\n",
            "Predicted S&P rating of Zambia in next month is [3.]\n",
            "  \n",
            "  \n",
            "  \n",
            "  \n",
            "Actual points - Blue\n",
            "Predicted points - Red\n"
          ]
        },
        {
          "data": {
            "image/png": "[encoded data removed]",
            "text/plain": [
              "<Figure size 700x420 with 1 Axes>"
            ]
          },
          "metadata": {
            "needs_background": "light"
          },
          "output_type": "display_data"
        }
      ]
    },
    {
      "cell_type": "code",
      "metadata": {
        "id": "c50d949b",
        "outputId": "1b74eac3-3508-474b-f470-be2dee8d4239"
      },
      "source": [
        "print(\"Confusion Matrix of Greece\")\n",
        "print(confusion_matrix(test,pred1_s,))"
      ],
      "id": "c50d949b",
      "execution_count": null,
      "outputs": [
        {
          "name": "stdout",
          "output_type": "stream",
          "text": [
            "Confusion Matrix of Greece\n",
            "[[1 0 0 0]\n",
            " [1 1 0 0]\n",
            " [0 1 1 0]\n",
            " [0 0 1 0]]\n"
          ]
        }
      ]
    },
    {
      "cell_type": "code",
      "metadata": {
        "id": "71b948ca",
        "outputId": "abe1bf69-68dc-4551-a9fd-812e0ee0522a"
      },
      "source": [
        "import seaborn as sn\n",
        "import pandas as pd\n",
        "import matplotlib.pyplot as plt\n",
        "\n",
        "array = [[1, 0, 0, 0], [1, 1, 0, 0],[0, 1, 1, 0],[0, 0, 1, 0]]\n",
        "\n",
        "df_cm = pd.DataFrame(array, range(4), range(4))\n",
        "# plt.figure(figsize=(10,7))\n",
        "sn.set(font_scale=1.4) # for label size\n",
        "sn.heatmap(df_cm, annot=True, annot_kws={\"size\": 16}) # font size\n",
        "\n",
        "plt.show()\n",
        "print(\"Confusion Matrix of Greece\")"
      ],
      "id": "71b948ca",
      "execution_count": null,
      "outputs": [
        {
          "data": {
            "image/png": "[encoded data removed]",
            "text/plain": [
              "<Figure size 432x288 with 2 Axes>"
            ]
          },
          "metadata": {},
          "output_type": "display_data"
        },
        {
          "name": "stdout",
          "output_type": "stream",
          "text": [
            "Confusion Matrix of Greece\n"
          ]
        }
      ]
    },
    {
      "cell_type": "code",
      "metadata": {
        "id": "0b4518ad"
      },
      "source": [
        ""
      ],
      "id": "0b4518ad",
      "execution_count": null,
      "outputs": []
    }
  ]
}