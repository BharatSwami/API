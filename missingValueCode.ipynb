{
  "nbformat": 4,
  "nbformat_minor": 0,
  "metadata": {
    "colab": {
      "name": "missingValueCode.ipynb",
      "provenance": [],
      "collapsed_sections": []
    },
    "kernelspec": {
      "name": "python3",
      "display_name": "Python 3"
    },
    "language_info": {
      "name": "python"
    }
  },
  "cells": [
    {
      "cell_type": "markdown",
      "metadata": {
        "id": "56ww9S4veQof"
      },
      "source": [
        "\n",
        "needed \"merged data - country rating.csv\" file as \"merged.csv\"\n",
        "\n",
        "\n"
      ]
    },
    {
      "cell_type": "code",
      "metadata": {
        "id": "CEpPF_bSG4jq"
      },
      "source": [
        "\n",
        "\n",
        "import pandas as pd\n",
        "import numpy as np\n",
        "import matplotlib.pyplot as plt\n",
        "import seaborn as sns\n",
        "import csv"
      ],
      "execution_count": null,
      "outputs": []
    },
    {
      "cell_type": "code",
      "metadata": {
        "id": "_cL7KiG_Hi7M"
      },
      "source": [
        "rating = pd.read_csv('merged.csv')"
      ],
      "execution_count": null,
      "outputs": []
    },
    {
      "cell_type": "code",
      "metadata": {
        "colab": {
          "base_uri": "https://localhost:8080/",
          "height": 223
        },
        "id": "cnjOq5kCHvyI",
        "outputId": "d5d6a6b4-822e-4b30-f514-173edbf82b0a"
      },
      "source": [
        "rating.head()"
      ],
      "execution_count": null,
      "outputs": [
        {
          "output_type": "execute_result",
          "data": {
            "text/html": [
              "<div>\n",
              "<style scoped>\n",
              "    .dataframe tbody tr th:only-of-type {\n",
              "        vertical-align: middle;\n",
              "    }\n",
              "\n",
              "    .dataframe tbody tr th {\n",
              "        vertical-align: top;\n",
              "    }\n",
              "\n",
              "    .dataframe thead th {\n",
              "        text-align: right;\n",
              "    }\n",
              "</style>\n",
              "<table border=\"1\" class=\"dataframe\">\n",
              "  <thead>\n",
              "    <tr style=\"text-align: right;\">\n",
              "      <th></th>\n",
              "      <th>ISO code</th>\n",
              "      <th>Country</th>\n",
              "      <th>S&amp;P Rating</th>\n",
              "      <th>S&amp;P Outlook</th>\n",
              "      <th>Moody's rating</th>\n",
              "      <th>Moody's Outlook</th>\n",
              "      <th>Fitch Rating</th>\n",
              "      <th>Fitch Outlook</th>\n",
              "      <th>Date (MM/YYYY)</th>\n",
              "    </tr>\n",
              "  </thead>\n",
              "  <tbody>\n",
              "    <tr>\n",
              "      <th>0</th>\n",
              "      <td>AL</td>\n",
              "      <td>Albania</td>\n",
              "      <td>B+</td>\n",
              "      <td>STA</td>\n",
              "      <td>B1</td>\n",
              "      <td>STA</td>\n",
              "      <td>NaN</td>\n",
              "      <td>NaN</td>\n",
              "      <td>03/2013</td>\n",
              "    </tr>\n",
              "    <tr>\n",
              "      <th>1</th>\n",
              "      <td>AL</td>\n",
              "      <td>Albania</td>\n",
              "      <td>B1</td>\n",
              "      <td>STABLE</td>\n",
              "      <td>B1</td>\n",
              "      <td>STABLE</td>\n",
              "      <td>NaN</td>\n",
              "      <td>NaN</td>\n",
              "      <td>03/01/2013</td>\n",
              "    </tr>\n",
              "    <tr>\n",
              "      <th>2</th>\n",
              "      <td>AL</td>\n",
              "      <td>Albania</td>\n",
              "      <td>B+</td>\n",
              "      <td>STABLE</td>\n",
              "      <td>B1</td>\n",
              "      <td>STABLE</td>\n",
              "      <td>NaN</td>\n",
              "      <td>NaN</td>\n",
              "      <td>12/10/2012</td>\n",
              "    </tr>\n",
              "    <tr>\n",
              "      <th>3</th>\n",
              "      <td>AL</td>\n",
              "      <td>Albania</td>\n",
              "      <td>B+</td>\n",
              "      <td>STABLE</td>\n",
              "      <td>B1</td>\n",
              "      <td>STABLE</td>\n",
              "      <td>NaN</td>\n",
              "      <td>NaN</td>\n",
              "      <td>26/07/2012</td>\n",
              "    </tr>\n",
              "    <tr>\n",
              "      <th>4</th>\n",
              "      <td>AL</td>\n",
              "      <td>Albania</td>\n",
              "      <td>B+</td>\n",
              "      <td>STABLE</td>\n",
              "      <td>B1</td>\n",
              "      <td>STABLE</td>\n",
              "      <td>NaN</td>\n",
              "      <td>NaN</td>\n",
              "      <td>08/06/2012</td>\n",
              "    </tr>\n",
              "  </tbody>\n",
              "</table>\n",
              "</div>"
            ],
            "text/plain": [
              "  ISO code  Country S&P Rating  ... Fitch Rating Fitch Outlook Date (MM/YYYY)\n",
              "0       AL  Albania         B+  ...          NaN           NaN        03/2013\n",
              "1       AL  Albania         B1  ...          NaN           NaN     03/01/2013\n",
              "2       AL  Albania         B+  ...          NaN           NaN     12/10/2012\n",
              "3       AL  Albania         B+  ...          NaN           NaN     26/07/2012\n",
              "4       AL  Albania         B+  ...          NaN           NaN     08/06/2012\n",
              "\n",
              "[5 rows x 9 columns]"
            ]
          },
          "metadata": {
            "tags": []
          },
          "execution_count": 5
        }
      ]
    },
    {
      "cell_type": "code",
      "metadata": {
        "colab": {
          "base_uri": "https://localhost:8080/",
          "height": 356
        },
        "id": "WRbwJYusHz3A",
        "outputId": "9280eba2-f7ea-4cfd-eda6-9f7974b2a2f0"
      },
      "source": [
        "sns.heatmap(rating.isnull(),yticklabels=False,cbar=False,cmap='viridis')"
      ],
      "execution_count": null,
      "outputs": [
        {
          "output_type": "execute_result",
          "data": {
            "text/plain": [
              "<matplotlib.axes._subplots.AxesSubplot at 0x7f2b575e1b90>"
            ]
          },
          "metadata": {
            "tags": []
          },
          "execution_count": 6
        },
        {
          "output_type": "display_data",
          "data": {
            "image/png": "[encoded data removed]",
            "text/plain": [
              "<Figure size 432x288 with 1 Axes>"
            ]
          },
          "metadata": {
            "tags": [],
            "needs_background": "light"
          }
        }
      ]
    },
    {
      "cell_type": "code",
      "metadata": {
        "id": "amAeH3dsH7e7",
        "colab": {
          "base_uri": "https://localhost:8080/",
          "height": 424
        },
        "outputId": "defcb4f7-4081-4043-9a04-f79bb8971a34"
      },
      "source": [
        "rating_demo=rating.copy()[[\"S&P Rating\",\"S&P Outlook\",\"Moody's rating\",\"Moody's Outlook\"]]\n",
        "rating_demo"
      ],
      "execution_count": null,
      "outputs": [
        {
          "output_type": "execute_result",
          "data": {
            "text/html": [
              "<div>\n",
              "<style scoped>\n",
              "    .dataframe tbody tr th:only-of-type {\n",
              "        vertical-align: middle;\n",
              "    }\n",
              "\n",
              "    .dataframe tbody tr th {\n",
              "        vertical-align: top;\n",
              "    }\n",
              "\n",
              "    .dataframe thead th {\n",
              "        text-align: right;\n",
              "    }\n",
              "</style>\n",
              "<table border=\"1\" class=\"dataframe\">\n",
              "  <thead>\n",
              "    <tr style=\"text-align: right;\">\n",
              "      <th></th>\n",
              "      <th>S&amp;P Rating</th>\n",
              "      <th>S&amp;P Outlook</th>\n",
              "      <th>Moody's rating</th>\n",
              "      <th>Moody's Outlook</th>\n",
              "    </tr>\n",
              "  </thead>\n",
              "  <tbody>\n",
              "    <tr>\n",
              "      <th>0</th>\n",
              "      <td>B+</td>\n",
              "      <td>STA</td>\n",
              "      <td>B1</td>\n",
              "      <td>STA</td>\n",
              "    </tr>\n",
              "    <tr>\n",
              "      <th>1</th>\n",
              "      <td>B1</td>\n",
              "      <td>STABLE</td>\n",
              "      <td>B1</td>\n",
              "      <td>STABLE</td>\n",
              "    </tr>\n",
              "    <tr>\n",
              "      <th>2</th>\n",
              "      <td>B+</td>\n",
              "      <td>STABLE</td>\n",
              "      <td>B1</td>\n",
              "      <td>STABLE</td>\n",
              "    </tr>\n",
              "    <tr>\n",
              "      <th>3</th>\n",
              "      <td>B+</td>\n",
              "      <td>STABLE</td>\n",
              "      <td>B1</td>\n",
              "      <td>STABLE</td>\n",
              "    </tr>\n",
              "    <tr>\n",
              "      <th>4</th>\n",
              "      <td>B+</td>\n",
              "      <td>STABLE</td>\n",
              "      <td>B1</td>\n",
              "      <td>STABLE</td>\n",
              "    </tr>\n",
              "    <tr>\n",
              "      <th>...</th>\n",
              "      <td>...</td>\n",
              "      <td>...</td>\n",
              "      <td>...</td>\n",
              "      <td>...</td>\n",
              "    </tr>\n",
              "    <tr>\n",
              "      <th>1478</th>\n",
              "      <td>B+</td>\n",
              "      <td>STABLE</td>\n",
              "      <td>NaN</td>\n",
              "      <td>NaN</td>\n",
              "    </tr>\n",
              "    <tr>\n",
              "      <th>1479</th>\n",
              "      <td>B+</td>\n",
              "      <td>STABLE</td>\n",
              "      <td>NaN</td>\n",
              "      <td>NaN</td>\n",
              "    </tr>\n",
              "    <tr>\n",
              "      <th>1480</th>\n",
              "      <td>B+</td>\n",
              "      <td>STABLE</td>\n",
              "      <td>NaN</td>\n",
              "      <td>NaN</td>\n",
              "    </tr>\n",
              "    <tr>\n",
              "      <th>1481</th>\n",
              "      <td>B+</td>\n",
              "      <td>STABLE</td>\n",
              "      <td>NaN</td>\n",
              "      <td>NaN</td>\n",
              "    </tr>\n",
              "    <tr>\n",
              "      <th>1482</th>\n",
              "      <td>B+</td>\n",
              "      <td>STABLE</td>\n",
              "      <td>NaN</td>\n",
              "      <td>NaN</td>\n",
              "    </tr>\n",
              "  </tbody>\n",
              "</table>\n",
              "<p>1483 rows × 4 columns</p>\n",
              "</div>"
            ],
            "text/plain": [
              "     S&P Rating S&P Outlook Moody's rating Moody's Outlook\n",
              "0            B+         STA             B1             STA\n",
              "1            B1      STABLE             B1          STABLE\n",
              "2            B+      STABLE             B1          STABLE\n",
              "3            B+      STABLE             B1          STABLE\n",
              "4            B+      STABLE             B1          STABLE\n",
              "...         ...         ...            ...             ...\n",
              "1478         B+      STABLE            NaN             NaN\n",
              "1479         B+      STABLE            NaN             NaN\n",
              "1480         B+      STABLE            NaN             NaN\n",
              "1481         B+      STABLE            NaN             NaN\n",
              "1482         B+      STABLE            NaN             NaN\n",
              "\n",
              "[1483 rows x 4 columns]"
            ]
          },
          "metadata": {
            "tags": []
          },
          "execution_count": 7
        }
      ]
    },
    {
      "cell_type": "code",
      "metadata": {
        "id": "YRPDQnDt-xQh"
      },
      "source": [
        "values={'AAA':21,\n",
        "        'AA+':20,\n",
        "        'AA':19,\n",
        "        'AA-':18,\n",
        "        'A+':17,\n",
        "        'A':16,\n",
        "        'A-':15,\n",
        "        'BBB+':14,\n",
        "        'BBB':13,\n",
        "        'BBB-':12,\n",
        "        'BB+':11,\n",
        "        'BB':10,\n",
        "        'BB-':9,\n",
        "        'B+':8,\n",
        "        'B':7,\n",
        "        'B-':6,\n",
        "        'CCC+':5,\n",
        "        'CCC':4,\n",
        "        'CCC-':3,\n",
        "        'CC':2,\n",
        "        'SD':1,\n",
        "        'D':1,\n",
        "        'STABLE':0,\n",
        "        'STA':0,'POSITIVE':1,'NEGITIVE':-1,\"NEG\":-1,\"WATCH NEGITIVE\":-1,\n",
        "        21:'AAA',\n",
        "        20:'AA+',\n",
        "        19:'AA',\n",
        "        18:'AA-',17:'A+',16:'A',15:'A-',14:'BBB+',13:'BBB',12:'BBB-',\n",
        "        11:'BB+',10:'BB',9:'BB-',8:'B+',7:'B',6:'B-',\n",
        "        5:'CCC+',4:'CCC',3:'CCC-',2:'CC',1:'D'}"
      ],
      "execution_count": null,
      "outputs": []
    },
    {
      "cell_type": "code",
      "metadata": {
        "id": "-IRR09UOBIbg"
      },
      "source": [
        "Charaterization_of_dept={\n",
        "    'HIGHEST QUALITY':['AAA'],\n",
        "    'HIGH QUALITY':['AA+','AA','AA-'],\n",
        "    'STRONG PAYMENT CAPACITY':['A+','A-','A'],\n",
        "    'ADEQUATE PAYMENT CAPACITY':['BBB+','BBB','BBB-'],\n",
        "    'LIKELY TO FULFIL OBLIGATIONS':['BB+','BB','BB-'],\n",
        "    'HIGH CREDIT RISK':['B+','B','B-'],\n",
        "    'VERY HIGH CERDIT RISK':['CCC+','CCC','CCC-'],\n",
        "    'NEAR DEFAULT WITH POSSIBILITY OF RECOVERY':['CC'],\n",
        "    'DEFAULT':['SD','D'],\n",
        "    21:'HIGHEST QUALITY',\n",
        "        20:'HIGH QUALITY',\n",
        "        19:'HIGH QUALITY',\n",
        "        18:'HIGH QUALITY',\n",
        "        17:'STRONG PAYMENT CAPACITY',16:'STRONG PAYMENT CAPACITY',\n",
        "        15:'STRONG PAYMENT CAPACITY',14:'ADEQUATE PAYMENT CAPACITY',\n",
        "        13:'ADEQUATE PAYMENT CAPACITY',12:'ADEQUATE PAYMENT CAPACITY',\n",
        "\n",
        "        11:'LIKELY TO FULFIL OBLIGATIONS',10:'LIKELY TO FULFIL OBLIGATIONS',\n",
        "        9:'LIKELY TO FULFIL OBLIGATIONS',8:'HIGH CREDIT RISK',\n",
        "        7:'HIGH CREDIT RISK',6:'HIGH CREDIT RISK',\n",
        "        5:'VERY HIGH CERDIT RISK',4:'VERY HIGH CERDIT RISK',\n",
        "        3:'VERY HIGH CERDIT RISK',2:'NEAR DEFAULT WITH POSSIBILITY OF RECOVERY',\n",
        "        1:'DEFAULT'\n",
        "}"
      ],
      "execution_count": null,
      "outputs": []
    },
    {
      "cell_type": "code",
      "metadata": {
        "id": "rDQaUbIVCqVw",
        "colab": {
          "base_uri": "https://localhost:8080/",
          "height": 36
        },
        "outputId": "3ed5c25c-4160-4631-96a8-00b07d9bfa41"
      },
      "source": [
        "\"\"\"rating_demo.fillna(-1)\n",
        "for Index,row in rating_demo.iterrows():\n",
        "  if row[\"Moody's Outlook\"] ==-1 or row[\"S&P Rating\"]==-1 or row[\"S&P Outlook\"]==-1 or row[\"Moody's rating\"] ==-1:\n",
        "    rating_demo.drop(index=Index,axis=0)\n",
        "  else:\n",
        "    row[\"Moody's Outlook\"]=values[row[\"Moody's Outlook\"]]\n",
        "    row[\"S&P Rating\"]=values[row[\"S&P Rating\"]]\n",
        "    row[\"S&P Outlook\"]=values[row[\"S&P Outlook\"]]\n",
        "    row[\"Moody's rating\"]=values[row[\"Moody's rating\"]]\n",
        "\n",
        "rating_demo.corr()\n",
        "\"\"\"\n",
        "\"\"\"rating_demo.dropna()\n",
        "sns.pairplot(rating_demo,size=1.5)\"\"\""
      ],
      "execution_count": null,
      "outputs": [
        {
          "output_type": "execute_result",
          "data": {
            "application/vnd.google.colaboratory.intrinsic+json": {
              "type": "string"
            },
            "text/plain": [
              "'rating_demo.dropna()\\nsns.pairplot(rating_demo,size=1.5)'"
            ]
          },
          "metadata": {
            "tags": []
          },
          "execution_count": 12
        }
      ]
    },
    {
      "cell_type": "code",
      "metadata": {
        "colab": {
          "base_uri": "https://localhost:8080/",
          "height": 36
        },
        "id": "eC1XJIMJGM19",
        "outputId": "0656c288-7bbb-42c0-888e-47253e3a630a"
      },
      "source": [
        "\"\"\"rating_demo.fillna(-1)\n",
        "rating_demo.corr()\n",
        "plt.figure(figsize=(4,4))\n",
        "sns.heatmap(rating_demo.corr())\"\"\""
      ],
      "execution_count": null,
      "outputs": [
        {
          "output_type": "execute_result",
          "data": {
            "application/vnd.google.colaboratory.intrinsic+json": {
              "type": "string"
            },
            "text/plain": [
              "'rating_demo.fillna(-1)\\nrating_demo.corr()\\nplt.figure(figsize=(4,4))\\nsns.heatmap(rating_demo.corr())'"
            ]
          },
          "metadata": {
            "tags": []
          },
          "execution_count": 15
        }
      ]
    },
    {
      "cell_type": "code",
      "metadata": {
        "colab": {
          "base_uri": "https://localhost:8080/"
        },
        "id": "GE-f4qY2u1TM",
        "outputId": "508a4a5e-312f-4371-a746-77eb82d8b03a"
      },
      "source": [
        "#countries=set(rating['ISO code'])\n",
        "#for i in county:\n",
        "#  print(rating)\n",
        "#for code in countries:\n",
        "code='KP'  #EG,HK,MS\n",
        "spRating=rating['S&P Rating']\n",
        "df=rating.loc[rating['ISO code'] == code]\n",
        "print(df)\n",
        "df=df.fillna(-1)\n",
        "index=df[df['ISO code'] == code].index.to_numpy()\n",
        "try:\n",
        "  heha=df['S&P Rating']\n",
        "except:\n",
        "  pass\n",
        "stability=df['S&P Outlook']\n",
        "map={'STABLE':0,\n",
        "    'POSITIVE':0,\n",
        "    'NEGATIVE':0}\n",
        "map1={}\n",
        "suma=0\n",
        "count=0\n",
        "for i in stability:\n",
        "  if not pd.isna(i) and i!=-1:\n",
        "    #map1[i]=map.get(i,0)+1\n",
        "    if i in ['STA','STABLE']:\n",
        "      map['STABLE']=map.get('STABLE',0)+1\n",
        "    elif i in ['POS','POSITIVE']:\n",
        "      map['POSITIVE']=map.get('POSTIVE',0)+1\n",
        "    elif i in ['NEG','NEGITIVE','WATCH NEGATIVE']:\n",
        "      map['NEGATIVE']=map.get('NEGATIVE',0)+1\n",
        "    else:\n",
        "      map[i]=map.get(i,0)+1\n",
        "for i in heha:\n",
        "  if not pd.isna(i) and i!=-1:\n",
        "    map1[i]=map.get(i,0)+1\n",
        "    suma+=values[i]\n",
        "    count+=1\n",
        "lst=sorted(map.items(),key=lambda x:[x[1]])\n",
        "lst1=sorted(map1.items(),key=lambda x:[x[1]])\n",
        "if count==0:\n",
        "  pass\n",
        "predicted_value=suma/count\n",
        "floor_value=np.floor(predicted_value)\n",
        "ceil_value=np.ceil(predicted_value)\n",
        "df['S&P Outlook'] = df['S&P Outlook'].replace('NEG','NEGATIVE')\n",
        "df['S&P Outlook'] = df['S&P Outlook'].replace('POS','POSITIVE')\n",
        "df['S&P Outlook'] = df['S&P Outlook'].replace('STA','STABLE')\n",
        "if floor_value==ceil_value:\n",
        "  df['S&P Rating'] = df['S&P Rating'].replace(-1,values[floor_value])\n",
        "  df['S&P Outlook'] = df['S&P Outlook'].replace(-1,lst[-1][0])\n",
        "else:\n",
        "  floor_rating,ceil_rating=values[floor_value],values[ceil_value]\n",
        "  floor_chara=Charaterization_of_dept[floor_value]\n",
        "  ceil_chara=Charaterization_of_dept[ceil_value]\n",
        "  if floor_chara==ceil_chara:\n",
        "    df['S&P Rating'] = df['S&P Rating'].replace(-1,lst1[-1][0])\n",
        "    df['S&P Outlook'] = df['S&P Outlook'].replace(-1,lst[-1][0])\n",
        "  else:\n",
        "    stability_value=lst[0][0]\n",
        "    if stability_value in ['STA','STABLE']:\n",
        "      df['S&P Rating'] = df['S&P Rating'].replace(-1,lst1[-1][0])\n",
        "      df['S&P Outlook'] = df['S&P Outlook'].replace(-1,lst[-1][0])\n",
        "      #df['S&P Outlook'] = df['S&P Outlook'].replace('STA','STABLE')\n",
        "    elif stability_value in ['POSITIVE','POS']:\n",
        "      df['S&P Rating'] = df['S&P Rating'].replace(-1,ceil_rating)\n",
        "      df['S&P Outlook'] = df['S&P Outlook'].replace(-1,'POSITIVE')\n",
        "      #df['S&P Outlook'] = df['S&P Outlook'].replace('POS','POSITIVE')\n",
        "    else:\n",
        "      df['S&P Rating'] = df['S&P Rating'].replace(-1,floor_rating)\n",
        "      df['S&P Outlook'] = df['S&P Outlook'].replace(-1,'NEGATIVE')\n",
        "      #df['S&P Outlook'] = df['S&P Outlook'].replace('NEG','NEGATIVE')\n",
        "print(df)"
      ],
      "execution_count": null,
      "outputs": [
        {
          "output_type": "stream",
          "text": [
            "    ISO code Country S&P Rating  ... Fitch Rating Fitch Outlook Date (MM/YYYY)\n",
            "766       KP   Korea         A+  ...          NaN           NaN        03/2013\n",
            "767       KP   Korea         A+  ...          NaN           NaN     03/01/2013\n",
            "768       KP   Korea        NaN  ...          NaN           NaN     12/10/2012\n",
            "769       KP   Korea        NaN  ...          NaN           NaN     26/07/2012\n",
            "770       KP   Korea          A  ...           A+      POSITIVE     08/06/2012\n",
            "771       KP   Korea          A  ...           A+      POSITIVE     15/03/2012\n",
            "772       KP   Korea          A  ...           A+      POSITIVE     28/02/2012\n",
            "773       KP   Korea          A  ...           A+      POSITIVE        01/2012\n",
            "774       KP   Korea        NaN  ...           A+      POSITIVE        12/2011\n",
            "775       KP   Korea          A  ...           A+        STABLE        09/2011\n",
            "\n",
            "[10 rows x 9 columns]\n",
            "    ISO code Country S&P Rating  ... Fitch Rating Fitch Outlook Date (MM/YYYY)\n",
            "766       KP   Korea         A+  ...           -1            -1        03/2013\n",
            "767       KP   Korea         A+  ...           -1            -1     03/01/2013\n",
            "768       KP   Korea          A  ...           -1            -1     12/10/2012\n",
            "769       KP   Korea          A  ...           -1            -1     26/07/2012\n",
            "770       KP   Korea          A  ...           A+      POSITIVE     08/06/2012\n",
            "771       KP   Korea          A  ...           A+      POSITIVE     15/03/2012\n",
            "772       KP   Korea          A  ...           A+      POSITIVE     28/02/2012\n",
            "773       KP   Korea          A  ...           A+      POSITIVE        01/2012\n",
            "774       KP   Korea          A  ...           A+      POSITIVE        12/2011\n",
            "775       KP   Korea          A  ...           A+        STABLE        09/2011\n",
            "\n",
            "[10 rows x 9 columns]\n"
          ],
          "name": "stdout"
        }
      ]
    },
    {
      "cell_type": "code",
      "metadata": {
        "colab": {
          "base_uri": "https://localhost:8080/"
        },
        "id": "emQvIeNXCrqL",
        "outputId": "80b4ae00-e1cb-4b6c-ef81-8b32bc2d9672"
      },
      "source": [
        "countries=set(rating['ISO code'])\n",
        "#for i in county:\n",
        "#  print(rating)\n",
        "for code in countries:\n",
        "  #code='MS'\n",
        "  #spRating=rating['S&P Rating']\n",
        "  #df=rating.loc[rating['ISO code'] == code]\n",
        "  rating=rating.fillna(-1)\n",
        "  index=rating[rating['ISO code'] == code].index.to_numpy()\n",
        "  try:\n",
        "    heha=rating[index[0]:index[-1]+1]['S&P Rating']\n",
        "  except:\n",
        "    continue\n",
        "  stability=rating[index[0]:index[-1]+1]['S&P Outlook']\n",
        "  map={'STABLE':0,\n",
        "      'POSITIVE':0,\n",
        "      'NEGATIVE':0}\n",
        "  map1={}\n",
        "  suma=0\n",
        "  count=0\n",
        "  for i in stability:\n",
        "    if not pd.isna(i) and i!=-1:\n",
        "      #map1[i]=map.get(i,0)+1\n",
        "      if i in ['STA','STABLE']:\n",
        "        map['STABLE']=map.get('STABLE',0)+1\n",
        "      elif i in ['POS','POSITIVE']:\n",
        "        map['POSITIVE']=map.get('POSTIVE',0)+1\n",
        "      elif i in ['NEG','NEGITIVE','WATCH NEGATIVE']:\n",
        "        map['NEGATIVE']=map.get('NEGATIVE',0)+1\n",
        "      else:\n",
        "        map[i]=map.get(i,0)+1\n",
        "  for i in heha:\n",
        "    if not pd.isna(i) and i!=-1:\n",
        "      map1[i]=map.get(i,0)+1\n",
        "      try:\n",
        "        suma+=values[i]\n",
        "        count+=1\n",
        "      except:\n",
        "        continue\n",
        "  lst=sorted(map.items(),key=lambda x:[x[1]])\n",
        "  lst1=sorted(map1.items(),key=lambda x:[x[1]])\n",
        "  if count==0:\n",
        "    continue\n",
        "  predicted_value=suma/count\n",
        "  floor_value=np.floor(predicted_value)\n",
        "  ceil_value=np.ceil(predicted_value)\n",
        "  rating['S&P Outlook'] = rating['S&P Outlook'].replace('NEG','NEGATIVE')\n",
        "  rating['S&P Outlook'] = rating['S&P Outlook'].replace('POS','POSITIVE')\n",
        "  rating['S&P Outlook'] = rating['S&P Outlook'].replace('STA','STABLE')\n",
        "  if floor_value==ceil_value:\n",
        "    rating[index[0]:index[-1]+1]['S&P Rating'] = rating[index[0]:index[-1]+1]['S&P Rating'].replace(-1,values[floor_value])\n",
        "    rating[index[0]:index[-1]+1]['S&P Outlook'] = rating[index[0]:index[-1]+1]['S&P Outlook'].replace(-1,lst[-1][0])\n",
        "  else:\n",
        "    floor_rating,ceil_rating=values[floor_value],values[ceil_value]\n",
        "    floor_chara=Charaterization_of_dept[floor_value]\n",
        "    ceil_chara=Charaterization_of_dept[ceil_value]\n",
        "    if floor_chara==ceil_chara:\n",
        "      rating[index[0]:index[-1]+1]['S&P Rating'] = rating[index[0]:index[-1]+1]['S&P Rating'].replace(-1,lst1[-1][0])\n",
        "      rating[index[0]:index[-1]+1]['S&P Outlook'] = rating[index[0]:index[-1]+1]['S&P Outlook'].replace(-1,lst[-1][0])\n",
        "    else:\n",
        "      stability_value=lst[0][0]\n",
        "      if stability_value in ['STA','STABLE']:\n",
        "        rating[index[0]:index[-1]+1]['S&P Rating'] = rating[index[0]:index[-1]+1]['S&P Rating'].replace(-1,lst1[-1][0])\n",
        "        rating[index[0]:index[-1]+1]['S&P Outlook'] = rating[index[0]:index[-1]+1]['S&P Outlook'].replace(-1,lst[-1][0])\n",
        "        #df['S&P Outlook'] = df['S&P Outlook'].replace('STA','STABLE')\n",
        "      elif stability_value in ['POSITIVE','POS']:\n",
        "        rating[index[0]:index[-1]+1]['S&P Rating'] = rating[index[0]:index[-1]+1]['S&P Rating'].replace(-1,ceil_rating)\n",
        "        rating[index[0]:index[-1]+1]['S&P Outlook'] = rating[index[0]:index[-1]+1]['S&P Outlook'].replace(-1,'POSITIVE')\n",
        "        #df['S&P Outlook'] = df['S&P Outlook'].replace('POS','POSITIVE')\n",
        "      else:\n",
        "        rating[index[0]:index[-1]+1]['S&P Rating'] = rating[index[0]:index[-1]+1]['S&P Rating'].replace(-1,floor_rating)\n",
        "        rating[index[0]:index[-1]+1]['S&P Outlook'] = rating[index[0]:index[-1]+1]['S&P Outlook'].replace(-1,'NEGATIVE')\n",
        "        #df['S&P Outlook'] = df['S&P Outlook'].replace('NEG','NEGATIVE')\n",
        "\n",
        "\n",
        "\n"
      ],
      "execution_count": null,
      "outputs": [
        {
          "output_type": "stream",
          "text": [
            "/usr/local/lib/python3.7/dist-packages/ipykernel_launcher.py:58: SettingWithCopyWarning: \n",
            "A value is trying to be set on a copy of a slice from a DataFrame.\n",
            "Try using .loc[row_indexer,col_indexer] = value instead\n",
            "\n",
            "See the caveats in the documentation: https://pandas.pydata.org/pandas-docs/stable/user_guide/indexing.html#returning-a-view-versus-a-copy\n",
            "/usr/local/lib/python3.7/dist-packages/ipykernel_launcher.py:59: SettingWithCopyWarning: \n",
            "A value is trying to be set on a copy of a slice from a DataFrame.\n",
            "Try using .loc[row_indexer,col_indexer] = value instead\n",
            "\n",
            "See the caveats in the documentation: https://pandas.pydata.org/pandas-docs/stable/user_guide/indexing.html#returning-a-view-versus-a-copy\n",
            "/usr/local/lib/python3.7/dist-packages/ipykernel_launcher.py:51: SettingWithCopyWarning: \n",
            "A value is trying to be set on a copy of a slice from a DataFrame.\n",
            "Try using .loc[row_indexer,col_indexer] = value instead\n",
            "\n",
            "See the caveats in the documentation: https://pandas.pydata.org/pandas-docs/stable/user_guide/indexing.html#returning-a-view-versus-a-copy\n",
            "/usr/local/lib/python3.7/dist-packages/ipykernel_launcher.py:52: SettingWithCopyWarning: \n",
            "A value is trying to be set on a copy of a slice from a DataFrame.\n",
            "Try using .loc[row_indexer,col_indexer] = value instead\n",
            "\n",
            "See the caveats in the documentation: https://pandas.pydata.org/pandas-docs/stable/user_guide/indexing.html#returning-a-view-versus-a-copy\n",
            "/usr/local/lib/python3.7/dist-packages/ipykernel_launcher.py:67: SettingWithCopyWarning: \n",
            "A value is trying to be set on a copy of a slice from a DataFrame.\n",
            "Try using .loc[row_indexer,col_indexer] = value instead\n",
            "\n",
            "See the caveats in the documentation: https://pandas.pydata.org/pandas-docs/stable/user_guide/indexing.html#returning-a-view-versus-a-copy\n",
            "/usr/local/lib/python3.7/dist-packages/ipykernel_launcher.py:68: SettingWithCopyWarning: \n",
            "A value is trying to be set on a copy of a slice from a DataFrame.\n",
            "Try using .loc[row_indexer,col_indexer] = value instead\n",
            "\n",
            "See the caveats in the documentation: https://pandas.pydata.org/pandas-docs/stable/user_guide/indexing.html#returning-a-view-versus-a-copy\n",
            "/usr/local/lib/python3.7/dist-packages/ipykernel_launcher.py:71: SettingWithCopyWarning: \n",
            "A value is trying to be set on a copy of a slice from a DataFrame.\n",
            "Try using .loc[row_indexer,col_indexer] = value instead\n",
            "\n",
            "See the caveats in the documentation: https://pandas.pydata.org/pandas-docs/stable/user_guide/indexing.html#returning-a-view-versus-a-copy\n",
            "/usr/local/lib/python3.7/dist-packages/ipykernel_launcher.py:72: SettingWithCopyWarning: \n",
            "A value is trying to be set on a copy of a slice from a DataFrame.\n",
            "Try using .loc[row_indexer,col_indexer] = value instead\n",
            "\n",
            "See the caveats in the documentation: https://pandas.pydata.org/pandas-docs/stable/user_guide/indexing.html#returning-a-view-versus-a-copy\n"
          ],
          "name": "stderr"
        }
      ]
    },
    {
      "cell_type": "code",
      "metadata": {
        "colab": {
          "base_uri": "https://localhost:8080/"
        },
        "id": "CJVEPN3XLEpB",
        "outputId": "2706be1d-d0fc-4e3c-dc83-f9e9a2648817"
      },
      "source": [
        "rating.columns"
      ],
      "execution_count": null,
      "outputs": [
        {
          "output_type": "execute_result",
          "data": {
            "text/plain": [
              "Index(['ISO code', 'Country', 'S&P Rating', 'S&P Outlook', 'Moody's rating',\n",
              "       'Moody's Outlook', 'Fitch Rating', 'Fitch Outlook', 'Date (MM/YYYY)'],\n",
              "      dtype='object')"
            ]
          },
          "metadata": {
            "tags": []
          },
          "execution_count": 19
        }
      ]
    },
    {
      "cell_type": "code",
      "metadata": {
        "id": "m2xVhGRKc6Ca"
      },
      "source": [
        "new_columns=['ISO code', 'Country', 'S&P Rating', 'S&P Outlook', \"Moody's rating\",\n",
        "       \"Moody's Outlook\", 'Fitch Rating', 'Fitch Outlook', 'Date (MM/YYYY)']\n",
        "filname=\"filling_missing_values.csv\"\n",
        "with open(filname,'w') as csvfile:\n",
        "  csvwriter = csv.writer(csvfile) \n",
        "  csvwriter.writerow(new_columns)\n",
        "\n",
        "op = open(\"filling_missing_values.csv\", \"r\")\n",
        "dt = csv.DictReader(op)\n",
        "up_dt = []\n",
        "for index,row in rating.iterrows():\n",
        "    up_dt.append({'ISO code':row['ISO code'], 'Country':row['Country'], 'S&P Rating':row['S&P Rating'],\n",
        "                  'S&P Outlook':row['S&P Outlook'], \n",
        "                  \"Moody's rating\":row[\"Moody's rating\"],\n",
        "       \"Moody's Outlook\":row[\"Moody's Outlook\"], 'Fitch Rating':row['Fitch Rating'],\n",
        "        'Fitch Outlook':row['Fitch Outlook'], 'Date (MM/YYYY)':row['Date (MM/YYYY)']})\n",
        "op.close()\n",
        "op = open(\"filling_missing_values.csv\", \"w\", newline='')\n",
        "headers = ['ISO code', 'Country', 'S&P Rating', 'S&P Outlook', \"Moody's rating\",\n",
        "       \"Moody's Outlook\", 'Fitch Rating', 'Fitch Outlook', 'Date (MM/YYYY)']\n",
        "data = csv.DictWriter(op, delimiter=',', fieldnames=headers)\n",
        "data.writerow(dict((heads, heads) for heads in headers))\n",
        "data.writerows(up_dt)\n",
        "  \n",
        "op.close()"
      ],
      "execution_count": null,
      "outputs": []
    },
    {
      "cell_type": "code",
      "metadata": {
        "id": "w_WXhMWseEUX"
      },
      "source": [
        ""
      ],
      "execution_count": null,
      "outputs": []
    }
  ]
}